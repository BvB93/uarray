{
 "cells": [
  {
   "cell_type": "markdown",
   "metadata": {},
   "source": [
    "Now let's try the outer product!"
   ]
  },
  {
   "cell_type": "code",
   "execution_count": 1,
   "metadata": {},
   "outputs": [],
   "source": [
    "import uarray"
   ]
  },
  {
   "cell_type": "code",
   "execution_count": 2,
   "metadata": {},
   "outputs": [],
   "source": [
    "v1 = uarray.Vector(1, 2, 3)\n",
    "v2 = uarray.Vector(3, 4, 5)"
   ]
  },
  {
   "cell_type": "code",
   "execution_count": 3,
   "metadata": {},
   "outputs": [
    {
     "name": "stdout",
     "output_type": "stream",
     "text": [
      "<1 2 3> ·+ <3 4 5>\n"
     ]
    }
   ],
   "source": [
    "res = uarray.OuterProduct(v1, uarray.BinaryOperation(uarray.Add), v2)\n",
    "print(res)"
   ]
  },
  {
   "cell_type": "code",
   "execution_count": 4,
   "metadata": {},
   "outputs": [
    {
     "name": "stdout",
     "output_type": "stream",
     "text": [
      "ρ(<1 2 3> ·+ <3 4 5>)\n"
     ]
    }
   ],
   "source": [
    "shape = uarray.Shape(res)\n",
    "print(shape)"
   ]
  },
  {
   "cell_type": "code",
   "execution_count": 5,
   "metadata": {},
   "outputs": [
    {
     "name": "stdout",
     "output_type": "stream",
     "text": [
      "<3 3>\n"
     ]
    }
   ],
   "source": [
    "print(uarray.replace(shape))"
   ]
  },
  {
   "cell_type": "markdown",
   "metadata": {},
   "source": [
    "This seems good. Let's watch how it does it."
   ]
  },
  {
   "cell_type": "code",
   "execution_count": 6,
   "metadata": {},
   "outputs": [
    {
     "name": "stdout",
     "output_type": "stream",
     "text": [
      "ρ(<1 2 3> ·+ <3 4 5>)\n",
      "(ρ(<1 2 3>) ‡ ρ(<3 4 5>))\n",
      "(<3> ‡ ρ(<3 4 5>))\n",
      "(<3> ‡ <3>)\n",
      "<3 3>\n",
      "<3 3>\n",
      "<3 3>\n",
      "<3 3>\n",
      "<3 3>\n",
      "<3 3>\n"
     ]
    }
   ],
   "source": [
    "uarray.replace_debug(shape)"
   ]
  },
  {
   "cell_type": "markdown",
   "metadata": {},
   "source": [
    "Now let's actually try to index into it."
   ]
  },
  {
   "cell_type": "code",
   "execution_count": 7,
   "metadata": {},
   "outputs": [
    {
     "name": "stdout",
     "output_type": "stream",
     "text": [
      "(<1 2> ψ <1 2 3> ·+ <3 4 5>)\n"
     ]
    }
   ],
   "source": [
    "idxed = uarray.Index(uarray.Vector(1, 2), res)\n",
    "print(idxed)"
   ]
  },
  {
   "cell_type": "code",
   "execution_count": 8,
   "metadata": {},
   "outputs": [
    {
     "data": {
      "text/plain": [
       "Scalar(7)"
      ]
     },
     "execution_count": 8,
     "metadata": {},
     "output_type": "execute_result"
    }
   ],
   "source": [
    "uarray.replace(idxed)"
   ]
  },
  {
   "cell_type": "markdown",
   "metadata": {},
   "source": [
    "Wow, that looks right! Let's try partial indexing:"
   ]
  },
  {
   "cell_type": "code",
   "execution_count": 9,
   "metadata": {},
   "outputs": [
    {
     "name": "stdout",
     "output_type": "stream",
     "text": [
      "(<1> ψ <1 2 3> ·+ <3 4 5>)\n"
     ]
    }
   ],
   "source": [
    "p = uarray.Index(uarray.Vector(1), res)\n",
    "print(p)"
   ]
  },
  {
   "cell_type": "code",
   "execution_count": 18,
   "metadata": {},
   "outputs": [
    {
     "name": "stdout",
     "output_type": "stream",
     "text": [
      "2 ·+ <3 4 5>\n"
     ]
    }
   ],
   "source": [
    "res = uarray.replace(p)\n",
    "print(res)"
   ]
  },
  {
   "cell_type": "markdown",
   "metadata": {},
   "source": [
    "This seems right. Now let's see how it works:"
   ]
  },
  {
   "cell_type": "code",
   "execution_count": 17,
   "metadata": {},
   "outputs": [
    {
     "name": "stdout",
     "output_type": "stream",
     "text": [
      "(<1> ψ <1 2 3> ·+ <3 4 5>)\n",
      "(IsScalar(((δ(<1 2 3>) ↑ <1>) ψ <1 2 3>)) and IsScalar(((δ(<1 2 3>) ↓ <1>) ψ <3 4 5>))) ? <function outer_product_index.<locals>.<lambda> at 0x10da90ea0> : <function outer_product_index.<locals>.<lambda> at 0x10da6df28>\n",
      "((δ(((δ(<1 2 3>) ↑ <1>) ψ <1 2 3>)) ≡ 0) and IsScalar(((δ(<1 2 3>) ↓ <1>) ψ <3 4 5>))) ? <function outer_product_index.<locals>.<lambda> at 0x10da6dbf8> : <function outer_product_index.<locals>.<lambda> at 0x10da6dc80>\n",
      "(((<0> ψ ρ(ρ(((δ(<1 2 3>) ↑ <1>) ψ <1 2 3>)))) ≡ 0) and IsScalar(((δ(<1 2 3>) ↓ <1>) ψ <3 4 5>))) ? <function outer_product_index.<locals>.<lambda> at 0x10da909d8> : <function outer_product_index.<locals>.<lambda> at 0x10da6da60>\n",
      "(((<0> ψ ρ(ρ((((<0> ψ ρ(ρ(<1 2 3>))) ↑ <1>) ψ <1 2 3>)))) ≡ 0) and IsScalar(((δ(<1 2 3>) ↓ <1>) ψ <3 4 5>))) ? <function outer_product_index.<locals>.<lambda> at 0x10da907b8> : <function outer_product_index.<locals>.<lambda> at 0x10da90bf8>\n",
      "(((<0> ψ ρ(ρ((((<0> ψ ρ(<3>)) ↑ <1>) ψ <1 2 3>)))) ≡ 0) and IsScalar(((δ(<1 2 3>) ↓ <1>) ψ <3 4 5>))) ? <function outer_product_index.<locals>.<lambda> at 0x10da6d840> : <function outer_product_index.<locals>.<lambda> at 0x10da6dae8>\n",
      "(((<0> ψ ρ(ρ((((<0> ψ <1>) ↑ <1>) ψ <1 2 3>)))) ≡ 0) and IsScalar(((δ(<1 2 3>) ↓ <1>) ψ <3 4 5>))) ? <function outer_product_index.<locals>.<lambda> at 0x10da6d9d8> : <function outer_product_index.<locals>.<lambda> at 0x10da6d8c8>\n",
      "(((<0> ψ ρ(ρ(((1 ↑ <1>) ψ <1 2 3>)))) ≡ 0) and IsScalar(((δ(<1 2 3>) ↓ <1>) ψ <3 4 5>))) ? <function outer_product_index.<locals>.<lambda> at 0x10daaf6a8> : <function outer_product_index.<locals>.<lambda> at 0x10d96f6a8>\n",
      "(((<0> ψ ρ(ρ((<1> ψ <1 2 3>)))) ≡ 0) and IsScalar(((δ(<1 2 3>) ↓ <1>) ψ <3 4 5>))) ? <function outer_product_index.<locals>.<lambda> at 0x10daaf378> : <function outer_product_index.<locals>.<lambda> at 0x10daaf510>\n",
      "(((<0> ψ ρ(ρ(2))) ≡ 0) and IsScalar(((δ(<1 2 3>) ↓ <1>) ψ <3 4 5>))) ? <function outer_product_index.<locals>.<lambda> at 0x10daaf8c8> : <function outer_product_index.<locals>.<lambda> at 0x10daaf268>\n",
      "(((<0> ψ ρ(<>)) ≡ 0) and IsScalar(((δ(<1 2 3>) ↓ <1>) ψ <3 4 5>))) ? <function outer_product_index.<locals>.<lambda> at 0x10daafa60> : <function outer_product_index.<locals>.<lambda> at 0x10daafae8>\n",
      "(((<0> ψ <0>) ≡ 0) and IsScalar(((δ(<1 2 3>) ↓ <1>) ψ <3 4 5>))) ? <function outer_product_index.<locals>.<lambda> at 0x10da6d8c8> : <function outer_product_index.<locals>.<lambda> at 0x10d96f6a8>\n",
      "((0 ≡ 0) and IsScalar(((δ(<1 2 3>) ↓ <1>) ψ <3 4 5>))) ? <function outer_product_index.<locals>.<lambda> at 0x10da6da60> : <function outer_product_index.<locals>.<lambda> at 0x10d96f950>\n",
      "(True and IsScalar(((δ(<1 2 3>) ↓ <1>) ψ <3 4 5>))) ? <function outer_product_index.<locals>.<lambda> at 0x10da6dc80> : <function outer_product_index.<locals>.<lambda> at 0x10da90bf8>\n",
      "(True and (δ(((δ(<1 2 3>) ↓ <1>) ψ <3 4 5>)) ≡ 0)) ? <function outer_product_index.<locals>.<lambda> at 0x10da6de18> : <function outer_product_index.<locals>.<lambda> at 0x10da909d8>\n",
      "(True and ((<0> ψ ρ(ρ(((δ(<1 2 3>) ↓ <1>) ψ <3 4 5>)))) ≡ 0)) ? <function outer_product_index.<locals>.<lambda> at 0x10da6d7b8> : <function outer_product_index.<locals>.<lambda> at 0x10da90ae8>\n",
      "(True and ((<0> ψ ρ(ρ((((<0> ψ ρ(ρ(<1 2 3>))) ↓ <1>) ψ <3 4 5>)))) ≡ 0)) ? <function outer_product_index.<locals>.<lambda> at 0x10da6d840> : <function outer_product_index.<locals>.<lambda> at 0x10da908c8>\n",
      "(True and ((<0> ψ ρ(ρ((((<0> ψ ρ(<3>)) ↓ <1>) ψ <3 4 5>)))) ≡ 0)) ? <function outer_product_index.<locals>.<lambda> at 0x10da6dbf8> : <function outer_product_index.<locals>.<lambda> at 0x10da907b8>\n",
      "(True and ((<0> ψ ρ(ρ((((<0> ψ <1>) ↓ <1>) ψ <3 4 5>)))) ≡ 0)) ? <function outer_product_index.<locals>.<lambda> at 0x10da6dae8> : <function outer_product_index.<locals>.<lambda> at 0x10da90ea0>\n",
      "(True and ((<0> ψ ρ(ρ(((1 ↓ <1>) ψ <3 4 5>)))) ≡ 0)) ? <function outer_product_index.<locals>.<lambda> at 0x10da6dea0> : <function outer_product_index.<locals>.<lambda> at 0x10da90a60>\n",
      "(True and ((<0> ψ ρ(ρ((<> ψ <3 4 5>)))) ≡ 0)) ? <function outer_product_index.<locals>.<lambda> at 0x10da6d950> : <function outer_product_index.<locals>.<lambda> at 0x10daafb70>\n",
      "(True and ((<0> ψ ρ(ρ(<3 4 5>))) ≡ 0)) ? <function outer_product_index.<locals>.<lambda> at 0x10daaf8c8> : <function outer_product_index.<locals>.<lambda> at 0x10daaf378>\n",
      "(True and ((<0> ψ ρ(<3>)) ≡ 0)) ? <function outer_product_index.<locals>.<lambda> at 0x10da907b8> : <function outer_product_index.<locals>.<lambda> at 0x10d96f950>\n",
      "(True and ((<0> ψ <1>) ≡ 0)) ? <function outer_product_index.<locals>.<lambda> at 0x10da90a60> : <function outer_product_index.<locals>.<lambda> at 0x10da6df28>\n",
      "(True and (1 ≡ 0)) ? <function outer_product_index.<locals>.<lambda> at 0x10da909d8> : <function outer_product_index.<locals>.<lambda> at 0x10da6d950>\n",
      "(True and False) ? <function outer_product_index.<locals>.<lambda> at 0x10da6d840> : <function outer_product_index.<locals>.<lambda> at 0x10da90ea0>\n",
      "False ? <function outer_product_index.<locals>.<lambda> at 0x10da6d7b8> : <function outer_product_index.<locals>.<lambda> at 0x10da90ae8>\n",
      "((δ(<1 2 3>) ↑ <1>) ψ <1 2 3>) ·+ ((δ(<1 2 3>) ↓ <1>) ψ <3 4 5>)\n",
      "(((<0> ψ ρ(ρ(<1 2 3>))) ↑ <1>) ψ <1 2 3>) ·+ ((δ(<1 2 3>) ↓ <1>) ψ <3 4 5>)\n",
      "(((<0> ψ ρ(<3>)) ↑ <1>) ψ <1 2 3>) ·+ ((δ(<1 2 3>) ↓ <1>) ψ <3 4 5>)\n",
      "(((<0> ψ <1>) ↑ <1>) ψ <1 2 3>) ·+ ((δ(<1 2 3>) ↓ <1>) ψ <3 4 5>)\n",
      "((1 ↑ <1>) ψ <1 2 3>) ·+ ((δ(<1 2 3>) ↓ <1>) ψ <3 4 5>)\n",
      "(<1> ψ <1 2 3>) ·+ ((δ(<1 2 3>) ↓ <1>) ψ <3 4 5>)\n",
      "2 ·+ ((δ(<1 2 3>) ↓ <1>) ψ <3 4 5>)\n",
      "2 ·+ (((<0> ψ ρ(ρ(<1 2 3>))) ↓ <1>) ψ <3 4 5>)\n",
      "2 ·+ (((<0> ψ ρ(<3>)) ↓ <1>) ψ <3 4 5>)\n",
      "2 ·+ (((<0> ψ <1>) ↓ <1>) ψ <3 4 5>)\n",
      "2 ·+ ((1 ↓ <1>) ψ <3 4 5>)\n",
      "2 ·+ (<> ψ <3 4 5>)\n",
      "2 ·+ <3 4 5>\n"
     ]
    }
   ],
   "source": [
    "uarray.replace_debug(p, 40)"
   ]
  },
  {
   "cell_type": "markdown",
   "metadata": {},
   "source": [
    "And now if we index the second value, we should get the same result"
   ]
  },
  {
   "cell_type": "code",
   "execution_count": 19,
   "metadata": {},
   "outputs": [
    {
     "name": "stdout",
     "output_type": "stream",
     "text": [
      "7\n"
     ]
    }
   ],
   "source": [
    "print(uarray.replace(uarray.Index(uarray.Vector(2), res)))"
   ]
  }
 ],
 "metadata": {
  "kernelspec": {
   "display_name": "Python 3",
   "language": "python",
   "name": "python3"
  },
  "language_info": {
   "codemirror_mode": {
    "name": "ipython",
    "version": 3
   },
   "file_extension": ".py",
   "mimetype": "text/x-python",
   "name": "python",
   "nbconvert_exporter": "python",
   "pygments_lexer": "ipython3",
   "version": "3.7.0"
  }
 },
 "nbformat": 4,
 "nbformat_minor": 2
}
