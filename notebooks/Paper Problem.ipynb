{
 "cells": [
  {
   "cell_type": "markdown",
   "metadata": {},
   "source": [
    "In this notebook, I go over calculating the shape and indexing function for the example we did out on paper."
   ]
  },
  {
   "cell_type": "code",
   "execution_count": 1,
   "metadata": {},
   "outputs": [],
   "source": [
    "from uarray import *"
   ]
  },
  {
   "cell_type": "markdown",
   "metadata": {},
   "source": [
    "We start with two arrays, `A` and `B`. In the paper, we know what their contents is. However, if we make them concrete like that, then when we reduce will get the actual answers (i.e. the array will be full realized).\n",
    "\n",
    "What we want instead is to have equations in terms of their raveled forms. So we will make two variables for these forms and then create arrays around them with the right shapes."
   ]
  },
  {
   "cell_type": "code",
   "execution_count": 2,
   "metadata": {},
   "outputs": [],
   "source": [
    "A_rav = variable(\"A_rav\")\n",
    "B_rav = variable(\"B_rav\")\n",
    "\n",
    "A_shape = vec(nat(3), nat(4))\n",
    "B_shape =  vec(nat(3), nat(4))\n",
    "\n",
    "A = ListToArrayND(A_rav, A_shape)\n",
    "B = ListToArrayND(B_rav, B_shape)"
   ]
  },
  {
   "cell_type": "markdown",
   "metadata": {},
   "source": [
    "Now we can compose our exprssion:"
   ]
  },
  {
   "cell_type": "code",
   "execution_count": 7,
   "metadata": {},
   "outputs": [],
   "source": [
    "expr = Index(\n",
    "    array_1d(nat(0)),\n",
    "    Transpose(BinaryOperation(nat_add_abstraction, A, B))\n",
    ")"
   ]
  },
  {
   "cell_type": "markdown",
   "metadata": {},
   "source": [
    "Now we can compute it's dimensionality and verify it's correct:"
   ]
  },
  {
   "cell_type": "code",
   "execution_count": 8,
   "metadata": {},
   "outputs": [
    {
     "data": {
      "text/plain": [
       "Pair(Pair(Int(1), Pair(Variable(, variable_name=v24), If(Equal(Variable(, variable_name=v24), Int(0)), Int(1), Bottom()))), Pair(Variable(, variable_name=v23), If(Equal(NatDecr(NatSubtract(Int(2), NatAdd(Apply(Variable(, variable_name=v23), Int(0)), Int(1)))), Int(0)), Int(3), If(Equal(NatDecr(NatDecr(NatSubtract(Int(2), NatAdd(Apply(Variable(, variable_name=v23), Int(0)), Int(1))))), Int(0)), Int(4), Bottom()))))"
      ]
     },
     "execution_count": 8,
     "metadata": {},
     "output_type": "execute_result"
    }
   ],
   "source": [
    "shape = replace(Shape(expr))\n",
    "shape"
   ]
  },
  {
   "cell_type": "code",
   "execution_count": 9,
   "metadata": {},
   "outputs": [
    {
     "data": {
      "text/plain": [
       "Int(1)"
      ]
     },
     "execution_count": 9,
     "metadata": {},
     "output_type": "execute_result"
    }
   ],
   "source": [
    "replace(Exl(Exl(shape)))"
   ]
  },
  {
   "cell_type": "markdown",
   "metadata": {},
   "source": [
    "Now we can access the shape to verify the first dimension is correct:"
   ]
  },
  {
   "cell_type": "code",
   "execution_count": 10,
   "metadata": {},
   "outputs": [
    {
     "data": {
      "text/plain": [
       "Int(3)"
      ]
     },
     "execution_count": 10,
     "metadata": {},
     "output_type": "execute_result"
    }
   ],
   "source": [
    "replace(Apply(Exr(shape), list_(nat(0))))"
   ]
  },
  {
   "cell_type": "markdown",
   "metadata": {},
   "source": [
    "Great!\n",
    "\n",
    "Now let's index it with a variable `i` to see if the resulting expression is correct:"
   ]
  },
  {
   "cell_type": "code",
   "execution_count": 13,
   "metadata": {},
   "outputs": [
    {
     "name": "stdout",
     "output_type": "stream",
     "text": [
      "NatAdd(Apply(A_rav: None(), NatAdd(0, NatMultiply(4, NatAdd(i: None(), 0)))), Apply(B_rav: None(), NatAdd(0, NatMultiply(4, NatAdd(i: None(), 0)))))\n"
     ]
    }
   ],
   "source": [
    "i = variable('i')\n",
    "print(replace(Apply(Exr(expr), list_(i))))"
   ]
  },
  {
   "cell_type": "markdown",
   "metadata": {},
   "source": [
    "If we rewrite this in a bit nicer we get:\n",
    "\n",
    "`A_rav[0 + 4 * (i + 0)] + B_rav[0 + 4 * (i + 0)]`\n",
    "\n",
    "Which simplifies to:\n",
    "\n",
    "`A_rav[4 * i] + B_rav[4 * i]`\n"
   ]
  }
 ],
 "metadata": {
  "kernelspec": {
   "display_name": "Python 3",
   "language": "python",
   "name": "python3"
  },
  "language_info": {
   "codemirror_mode": {
    "name": "ipython",
    "version": 3
   },
   "file_extension": ".py",
   "mimetype": "text/x-python",
   "name": "python",
   "nbconvert_exporter": "python",
   "pygments_lexer": "ipython3",
   "version": "3.7.1"
  }
 },
 "nbformat": 4,
 "nbformat_minor": 2
}
