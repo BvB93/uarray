{
 "cells": [
  {
   "cell_type": "markdown",
   "metadata": {},
   "source": [
    "# What is `uarray`?\n",
    "At its core, `uarray` is a dispatch and back-end mechanism specifically geared towards array computing. Combined with its sister packages `unumpy` (and others currently in development), it allows NumPy functions to be overridden by their counterparts in other libraries (such as Dask, Xnd, and so on) while using the exact same code everywhere. Backends can be changed using just a context manager.\n",
    "\n",
    "Please note that only a small subset of the NumPy API is implemented, and not every backend implements every API method."
   ]
  },
  {
   "cell_type": "code",
   "execution_count": 1,
   "metadata": {},
   "outputs": [],
   "source": [
    "import uarray as ua\n",
    "import unumpy as np  # Note the changed import statement"
   ]
  },
  {
   "cell_type": "code",
   "execution_count": 2,
   "metadata": {},
   "outputs": [],
   "source": [
    "from unumpy.xnd_backend import XndBackend\n",
    "from unumpy.numpy_backend import NumpyBackend\n",
    "from unumpy.pytorch_backend import TorchBackend"
   ]
  },
  {
   "cell_type": "markdown",
   "metadata": {},
   "source": [
    "## Computing on different back-ends\n",
    "`unumpy` allows you to compute with different back-ends. Here are examples of creating arrays via `unumpy` (something not currently possible with NEP-18, the `__array_function__` protocol)."
   ]
  },
  {
   "cell_type": "code",
   "execution_count": 3,
   "metadata": {},
   "outputs": [
    {
     "name": "stdout",
     "output_type": "stream",
     "text": [
      "With XndBackend set, the type of the array is: <class 'xnd.array'>\n",
      "With TorchBackend set, the type of the array is: <class 'torch.Tensor'>\n",
      "With NumpyBackend set, the type of the array is: <class 'numpy.ndarray'>\n"
     ]
    }
   ],
   "source": [
    "my_list = [0, 1, 2, 3, 4]\n",
    "\n",
    "with ua.set_backend(XndBackend):\n",
    "    x = np.array(my_list)\n",
    "print('With XndBackend set, the type of the array is: {}'.format(type(x)))\n",
    "\n",
    "with ua.set_backend(TorchBackend):\n",
    "    y = np.array(my_list)\n",
    "print('With TorchBackend set, the type of the array is: {}'.format(type(y)))\n",
    "\n",
    "with ua.set_backend(NumpyBackend):\n",
    "    z = np.array(my_list)\n",
    "print('With NumpyBackend set, the type of the array is: {}'.format(type(z)))"
   ]
  },
  {
   "cell_type": "markdown",
   "metadata": {},
   "source": [
    "## Computing based on the type of array passed in\n",
    "`unumpy` allows you to compute on arrays based on the type, in a fashion similar to NEP-18."
   ]
  },
  {
   "cell_type": "code",
   "execution_count": 4,
   "metadata": {},
   "outputs": [
    {
     "name": "stdout",
     "output_type": "stream",
     "text": [
      "With np.sum(xnd_array) we get: <class 'xnd.array'>\n",
      "With np.sum(torch_array) we get: <class 'torch.Tensor'>\n",
      "With np.sum(numpy_array) we get: <class 'numpy.int64'>\n"
     ]
    }
   ],
   "source": [
    "print('With np.sum(xnd_array) we get: {}'.format(type(np.sum(x))))\n",
    "print('With np.sum(torch_array) we get: {}'.format(type(np.sum(y))))\n",
    "print('With np.sum(numpy_array) we get: {}'.format(type(np.sum(z))))"
   ]
  },
  {
   "cell_type": "markdown",
   "metadata": {},
   "source": [
    "## Forcing a particular backend\n",
    "You can even force a particular back-end, if you want to pipe all possible computations through that back-end."
   ]
  },
  {
   "cell_type": "code",
   "execution_count": 5,
   "metadata": {},
   "outputs": [
    {
     "name": "stdout",
     "output_type": "stream",
     "text": [
      "Using the TorchBackend with coerce=True on a NumPy array: <class 'torch.Tensor'>\n"
     ]
    }
   ],
   "source": [
    "with ua.set_backend(TorchBackend, coerce=True):\n",
    "    print('Using the TorchBackend with coerce=True on a NumPy array: {}'.format(type(np.sum(z))))"
   ]
  }
 ],
 "metadata": {
  "kernelspec": {
   "display_name": "Python 3",
   "language": "python",
   "name": "python3"
  },
  "language_info": {
   "codemirror_mode": {
    "name": "ipython",
    "version": 3
   },
   "file_extension": ".py",
   "mimetype": "text/x-python",
   "name": "python",
   "nbconvert_exporter": "python",
   "pygments_lexer": "ipython3",
   "version": "3.7.3"
  }
 },
 "nbformat": 4,
 "nbformat_minor": 2
}
