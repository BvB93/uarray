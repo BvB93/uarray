{
 "cells": [
  {
   "cell_type": "markdown",
   "metadata": {},
   "source": [
    "If we use the same expression in multiple places in matchpy, will it be replaced at the same time?"
   ]
  },
  {
   "cell_type": "markdown",
   "metadata": {},
   "source": [
    "i.e. can we get common sub expression reduction?"
   ]
  },
  {
   "cell_type": "code",
   "execution_count": 1,
   "metadata": {},
   "outputs": [],
   "source": [
    "import matchpy"
   ]
  },
  {
   "cell_type": "code",
   "execution_count": 2,
   "metadata": {},
   "outputs": [],
   "source": [
    "replacer = matchpy.ManyToOneReplacer()\n"
   ]
  },
  {
   "cell_type": "code",
   "execution_count": 17,
   "metadata": {},
   "outputs": [],
   "source": [
    "class Scalar(matchpy.Symbol):\n",
    "    def __init__(self, value):\n",
    "        self.value = value\n",
    "        super().__init__(repr(value), None)"
   ]
  },
  {
   "cell_type": "code",
   "execution_count": 29,
   "metadata": {},
   "outputs": [],
   "source": [
    "class ReplaceOperation(matchpy.Operation):\n",
    "    def __new__(cls, *args, **kwargs):\n",
    "        obj = super().__new__(cls, *args, **kwargs)\n",
    "        print(obj)\n",
    "        return replacer.replace(obj)\n",
    " "
   ]
  },
  {
   "cell_type": "code",
   "execution_count": 30,
   "metadata": {},
   "outputs": [],
   "source": [
    "class Add(ReplaceOperation):\n",
    "    name = \"Add\"\n",
    "    arity = matchpy.Arity(2, True)"
   ]
  },
  {
   "cell_type": "code",
   "execution_count": 31,
   "metadata": {},
   "outputs": [],
   "source": [
    "scalar = matchpy.Wildcard.symbol(\"scalar\", Scalar)\n",
    "scalar1 = matchpy.Wildcard.symbol(\"scalar1\", Scalar)"
   ]
  },
  {
   "cell_type": "code",
   "execution_count": 32,
   "metadata": {},
   "outputs": [],
   "source": [
    "replacer.add(\n",
    "    matchpy.ReplacementRule(\n",
    "        matchpy.Pattern(Add(scalar, scalar1)),\n",
    "        lambda scalar, scalar1: Scalar(scalar.value + scalar1.value)\n",
    "    )\n",
    ")"
   ]
  },
  {
   "cell_type": "code",
   "execution_count": 33,
   "metadata": {},
   "outputs": [
    {
     "name": "stdout",
     "output_type": "stream",
     "text": [
      "Add(1, 2)\n",
      "Add(Add(1, 2), Add(1, 2))\n",
      "Add(3, Add(1, 2))\n",
      "Add(3, 3)\n",
      "6\n"
     ]
    }
   ],
   "source": [
    "a = Add(Scalar(1), Scalar(2))\n",
    "b = Add(a, a)\n",
    "print(a)\n",
    "print(replacer.replace(b, 0))\n",
    "print(replacer.replace(b, 1))\n",
    "print(replacer.replace(b, 2))\n",
    "print(replacer.replace(b, 3))"
   ]
  },
  {
   "cell_type": "markdown",
   "metadata": {},
   "source": [
    "Nope looks it keeps them seperate :("
   ]
  },
  {
   "cell_type": "code",
   "execution_count": null,
   "metadata": {},
   "outputs": [],
   "source": []
  }
 ],
 "metadata": {
  "kernelspec": {
   "display_name": "Python 3",
   "language": "python",
   "name": "python3"
  },
  "language_info": {
   "codemirror_mode": {
    "name": "ipython",
    "version": 3
   },
   "file_extension": ".py",
   "mimetype": "text/x-python",
   "name": "python",
   "nbconvert_exporter": "python",
   "pygments_lexer": "ipython3",
   "version": "3.7.0"
  }
 },
 "nbformat": 4,
 "nbformat_minor": 2
}
