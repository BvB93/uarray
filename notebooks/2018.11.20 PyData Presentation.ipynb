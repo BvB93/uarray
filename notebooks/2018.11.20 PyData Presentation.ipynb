{
  "nbformat": 4,
  "nbformat_minor": 0,
  "metadata": {
    "colab": {
      "name": "2018.11.15 PyData Presentation",
      "version": "0.3.2",
      "provenance": [],
      "collapsed_sections": [],
      "include_colab_link": true
    },
    "kernelspec": {
      "display_name": "Python 3",
      "language": "python",
      "name": "python3"
    }
  },
  "cells": [
    {
      "cell_type": "markdown",
      "metadata": {
        "id": "view-in-github",
        "colab_type": "text"
      },
      "source": [
        "<a href=\"https://colab.research.google.com/github/Quansight-Labs/uarray/blob/master/notebooks/2018.11.20%20PyData%20Presentation.ipynb\" target=\"_parent\"><img src=\"https://colab.research.google.com/assets/colab-badge.svg\" alt=\"Open In Colab\"/></a>"
      ]
    },
    {
      "metadata": {
        "id": "bwt4avpVfWxa",
        "colab_type": "text"
      },
      "cell_type": "markdown",
      "source": [
        "# [\"A World Where Many Worlds Fit\"](https://globalsocialtheory.org/topics/zapatismo/)\n"
      ]
    },
    {
      "metadata": {
        "id": "Wr1-CwZc7O43",
        "colab_type": "text"
      },
      "cell_type": "markdown",
      "source": [
        "\n",
        "[![](https://javiersoriaj.files.wordpress.com/2013/06/575574_431377483625435_324039294_n.jpg)](https://javiersoriaj.wordpress.com/2013/06/09/postales-zapatistas-74-un-mundo-donde-quepan-muchos-mundos/)\n",
        "\n",
        "\n",
        "\n",
        "* Hardware becoming more hetergenous and parallel\n",
        "* Data increasing\n",
        "\n",
        "\n",
        "\n",
        "Need software to target many backends, that is pluggable and allows collaboration. Some existing work in Python land:\n",
        "\n",
        "* [`opt_einsum`](https://github.com/dgasmith/opt_einsum)\n",
        "* Extending NumPy dispatching: [NEP 18](http://www.numpy.org/neps/nep-0018-array-function-protocol.html)\n",
        "* [Tensor Comprehensions](https://facebookresearch.github.io/TensorComprehensions/introduction.html)\n",
        "\n",
        "\n",
        "\n",
        "Why? So that we can innovate at all levels of stack (hardware, compilation, algorithms, user interface) and share work!\n",
        "\n",
        "\n",
        "\n",
        "Like thin waist model of Internet Protocal. We working on the \"thin waist\" that supports common NumPy and SciPy algorithms and can target different hardware (GPU, CPU, FGPA) and software (NumPy, PyTorch, Tensorflow).\n",
        "\n",
        "* Very preliminary work\n",
        "* Lot's of fun problems would love collaboration!"
      ]
    },
    {
      "metadata": {
        "id": "RvZtYO3Rhveb",
        "colab_type": "text"
      },
      "cell_type": "markdown",
      "source": [
        "# Example"
      ]
    },
    {
      "metadata": {
        "id": "vYCOHgg3xnrg",
        "colab_type": "text"
      },
      "cell_type": "markdown",
      "source": [
        "Look at an example using numpy.multiply.outer.  Recall that the outer method of ufuncs takes two arrays a, and b, and creates an array c, with shape a.shape + b.shape (tuple concatenation)\n",
        "\n",
        "so, for 1-d arrays if c = numpy.multiply.outer(a,b) we will get a 2-d array whose elements are:\n",
        "\n",
        "$c[i,j] = a[i] * b[j]$"
      ]
    },
    {
      "metadata": {
        "id": "TQMwmqcjxYDX",
        "colab_type": "code",
        "outputId": "9b1776b9-0b81-4cf9-8438-aaf127b20db3",
        "colab": {
          "base_uri": "https://localhost:8080/",
          "height": 104
        }
      },
      "cell_type": "code",
      "source": [
        "import numpy\n",
        "numpy.multiply.outer(numpy.arange(5), numpy.arange(10))"
      ],
      "execution_count": 0,
      "outputs": [
        {
          "output_type": "execute_result",
          "data": {
            "text/plain": [
              "array([[ 0,  0,  0,  0,  0,  0,  0,  0,  0,  0],\n",
              "       [ 0,  1,  2,  3,  4,  5,  6,  7,  8,  9],\n",
              "       [ 0,  2,  4,  6,  8, 10, 12, 14, 16, 18],\n",
              "       [ 0,  3,  6,  9, 12, 15, 18, 21, 24, 27],\n",
              "       [ 0,  4,  8, 12, 16, 20, 24, 28, 32, 36]])"
            ]
          },
          "metadata": {
            "tags": []
          },
          "execution_count": 2
        }
      ]
    },
    {
      "metadata": {
        "id": "pQkzP9Xq7O45",
        "colab_type": "code",
        "colab": {}
      },
      "cell_type": "code",
      "source": [
        "\n",
        "def outer_then_index(a, b):\n",
        "    return numpy.multiply.outer(a, b)[5]"
      ],
      "execution_count": 0,
      "outputs": []
    },
    {
      "metadata": {
        "id": "1jpQ2SDRxXU-",
        "colab_type": "text"
      },
      "cell_type": "markdown",
      "source": [
        ""
      ]
    },
    {
      "metadata": {
        "id": "uNVhsuAbCXN_",
        "colab_type": "code",
        "outputId": "8868647a-acf6-461a-faf3-eaf6cd5f6002",
        "colab": {
          "base_uri": "https://localhost:8080/",
          "height": 35
        }
      },
      "cell_type": "code",
      "source": [
        "n = 10\n",
        "\n",
        "outer_then_index(numpy.arange(n, dtype=\"float64\"), numpy.arange(n, dtype=\"float64\"))"
      ],
      "execution_count": 0,
      "outputs": [
        {
          "output_type": "execute_result",
          "data": {
            "text/plain": [
              "array([ 0.,  5., 10., 15., 20., 25., 30., 35., 40., 45.])"
            ]
          },
          "metadata": {
            "tags": []
          },
          "execution_count": 4
        }
      ]
    },
    {
      "metadata": {
        "id": "6v7xSc-HDMam",
        "colab_type": "text"
      },
      "cell_type": "markdown",
      "source": [
        "## Issues"
      ]
    },
    {
      "metadata": {
        "id": "JOhF8ejxDZyH",
        "colab_type": "text"
      },
      "cell_type": "markdown",
      "source": [
        "\n",
        "* Wasted work: $O(n^2)$ instead of $O(n)$\n",
        "* Execution tied to API: Requires NumPy-compatible array objects "
      ]
    },
    {
      "metadata": {
        "id": "i-zlV7hPFJ0j",
        "colab_type": "text"
      },
      "cell_type": "markdown",
      "source": [
        "## Improved"
      ]
    },
    {
      "metadata": {
        "id": "HdEUoXNOFg95",
        "colab_type": "code",
        "colab": {}
      },
      "cell_type": "code",
      "source": [
        "def outer_then_index_optimized(a, b):\n",
        "    length_b = b.shape[0] \n",
        "    out = numpy.empty((length_b,))\n",
        "    for i in range(length_b):\n",
        "        out[i] = a[5] * b[i]\n",
        "    return out"
      ],
      "execution_count": 0,
      "outputs": []
    },
    {
      "metadata": {
        "id": "ybtrCFkHL-Cb",
        "colab_type": "code",
        "outputId": "87f554dc-9d34-4133-fbb9-444ab7c73d8b",
        "colab": {
          "base_uri": "https://localhost:8080/",
          "height": 35
        }
      },
      "cell_type": "code",
      "source": [
        "outer_then_index_optimized(numpy.arange(n, dtype=\"float64\"), numpy.arange(n, dtype=\"float64\"))"
      ],
      "execution_count": 0,
      "outputs": [
        {
          "output_type": "execute_result",
          "data": {
            "text/plain": [
              "array([ 0.,  5., 10., 15., 20., 25., 30., 35., 40., 45.])"
            ]
          },
          "metadata": {
            "tags": []
          },
          "execution_count": 6
        }
      ]
    },
    {
      "metadata": {
        "id": "fc6r39BxrAtm",
        "colab_type": "text"
      },
      "cell_type": "markdown",
      "source": [
        "I timed these two versions locally on my laptop and found that although at first the improved version is slower, it quickly becomes faster as $n$ increases, due to the differing time complexity:"
      ]
    },
    {
      "metadata": {
        "id": "EcGmw-5OB_Kb",
        "colab_type": "text"
      },
      "cell_type": "markdown",
      "source": [
        "[![](https://github.com/Quansight-Labs/uarray/raw/master/benchmarks/out.png)](https://github.com/Quansight-Labs/uarray/tree/master/benchmarks)"
      ]
    },
    {
      "metadata": {
        "id": "4ouDifuqPSHd",
        "colab_type": "text"
      },
      "cell_type": "markdown",
      "source": [
        "* No more waisted work (linear instead of quadratic)\n",
        "* Still requires NumPy-ish object, but only primitive operations"
      ]
    },
    {
      "metadata": {
        "id": "Hemtj23gMFsu",
        "colab_type": "text"
      },
      "cell_type": "markdown",
      "source": [
        "How to automate this translation?"
      ]
    },
    {
      "metadata": {
        "id": "36rFDzsjNyjJ",
        "colab_type": "text"
      },
      "cell_type": "markdown",
      "source": [
        "# Theory"
      ]
    },
    {
      "metadata": {
        "id": "OPF9iZLuOmux",
        "colab_type": "text"
      },
      "cell_type": "markdown",
      "source": [
        "In the 1980s Lenore Mullin published [\"A Mathematics of Arrays\"](https://paperpile.com/app/p/5de098dd-606d-0124-a25d-db5309f99394) based on her work on [APL](https://en.wikipedia.org/wiki/APL_(programming_language).\n",
        "\n",
        "In it, arrays are defined by:\n",
        "\n",
        "* Shape (vector of integers)\n",
        "* Indexing (function from indices to value)"
      ]
    },
    {
      "metadata": {
        "id": "0y0IeLB_RB01",
        "colab_type": "text"
      },
      "cell_type": "markdown",
      "source": [
        "In `outer_then_index_optimized` above, we did the same, determining:\n",
        "\n",
        "* Shape of result, based on shapes of inputs\n",
        "* The value of each index of the result"
      ]
    },
    {
      "metadata": {
        "id": "P5ia_IInVD_C",
        "colab_type": "text"
      },
      "cell_type": "markdown",
      "source": [
        "We can use this to perform this translation by hand, then we will look into automating it."
      ]
    },
    {
      "metadata": {
        "id": "V2bgQWgagVOd",
        "colab_type": "text"
      },
      "cell_type": "markdown",
      "source": [
        "## Hand optimizing the example"
      ]
    },
    {
      "metadata": {
        "id": "NqkElXgIZ4Js",
        "colab_type": "text"
      },
      "cell_type": "markdown",
      "source": [
        "### Definitions"
      ]
    },
    {
      "metadata": {
        "id": "skBFC_h4VJmp",
        "colab_type": "text"
      },
      "cell_type": "markdown",
      "source": [
        "I should start by presenting some notation we will use to the derivation that is from the above paper. Here are translations to roughly equivalent NumPy notation:\n",
        "\n",
        "* $\\rho(x)$ = `x.shape`\n",
        "* $<x, y, z>$ = `numpy.array([x, y, z])`\n",
        "* $x \\psi y$ = `y[x]` where `x` is a tuple of indices\n",
        "* $x \\cdot_{\\times} y$ = `numpy.multiply.outer(x, y)`\n",
        "* $x \\downarrow y$ = `y[x:]`\n",
        "* $x ++ y$ = `numpy.concatenate([x, y])`\n",
        "\n",
        "\n",
        "And now we can define how outer product and partial indexing work in terms of these.  We start by defining their shapes:\n",
        "\n",
        "$$\n",
        "\\begin{array}{cc}\n",
        "\\rho \\left( x \\psi y \\right) \\equiv  (<0> \\psi \\rho(x) ) \\downarrow \\rho\\left(y \\right)  &  \\texttt{(y[x]).shape == y.shape[x.shape[0]:]} \\\\\n",
        "\\rho \\left( x \\cdot_{\\times} y \\right) \\equiv \\rho(x) ++ \\rho(y) & \\texttt{(np.multiply.outer(x,y)).shape == x.shape + y.shape}\n",
        "\\end{array}\n",
        "$$\n",
        "\n",
        " And then how to index into them:\n",
        " \n",
        " $$\n",
        "\\begin{array}{cc}\n",
        "z \\psi (x \\psi y) \\equiv (x ++ z) \\psi y & \\texttt{y[x][z] == y[np.concatenate([x,z])]}\\\\\n",
        "(j++k) \\psi (x \\cdot_{\\times} y) \\equiv j \\psi x \\times k \\psi y & \\texttt{np.multiply.outer(x,y)[j+k] == x[j]*y[k] } \\\\\n",
        "\\end{array}\n",
        "$$"
      ]
    },
    {
      "metadata": {
        "id": "QBHoOhjeZ7LI",
        "colab_type": "text"
      },
      "cell_type": "markdown",
      "source": [
        "### Reducing"
      ]
    },
    {
      "metadata": {
        "id": "zwjVnr-wcnqM",
        "colab_type": "text"
      },
      "cell_type": "markdown",
      "source": [
        "#### Shape"
      ]
    },
    {
      "metadata": {
        "id": "NynaN45Kghu9",
        "colab_type": "text"
      },
      "cell_type": "markdown",
      "source": [
        "Assuming that both inputs are vectors and letting their lengthts be $c$ and $d$, we have:\n",
        "\n",
        "\n",
        "$$\n",
        "\\rho\\left(a\\right) \\equiv<c> \\\\\n",
        "\\rho\\left(b\\right) \\equiv<d> \\\\\n",
        "res \\equiv <5> \\psi \\left(a \\cdot_{\\times} b\\right)\n",
        "$$\n",
        "\n",
        "\n",
        "First let's figure out the shape of our result, simply by applying relevent equivalencies:\n",
        "\n",
        "$$\n",
        "\\rho(res) \\equiv \\rho  \\left(<5> \\psi \\left(a \\cdot_{\\times} b\\right) \\right)  \\\\\n",
        "\\text{shape of partial index:} \\\\\n",
        "\\equiv 1 \\downarrow \\rho  \\left(a \\cdot_{\\times} b\\right)\\\\\n",
        "\\text{shape of outer product:} \\\\\n",
        "\\equiv 1 \\downarrow \\left(\\rho a  ++ \\rho b\\right)\\\\\n",
        "\\text{shapes of inputs} \\\\\n",
        "\\equiv 1 \\downarrow \\left(<c>  ++ <d>\\right)\\\\\n",
        "\\text{concat vectors} \\\\\n",
        "\\equiv 1 \\downarrow <c d> \\\\\n",
        "\\text{drop vectors} \\\\\n",
        "\\equiv  < d> \\\\\n",
        "$$\n",
        "\n",
        "The result shape is a vector with the length of $b$, which matches our code above.\n"
      ]
    },
    {
      "metadata": {
        "id": "U4sOWiL97O4-",
        "colab_type": "text"
      },
      "cell_type": "markdown",
      "source": [
        "#### Indexing\n",
        "\n"
      ]
    },
    {
      "metadata": {
        "id": "4mbKwEnbcyPx",
        "colab_type": "text"
      },
      "cell_type": "markdown",
      "source": [
        "Now we can index with the vector $<i>$ and see what the result is:\n",
        "\n",
        "\n",
        "\n",
        "$$\n",
        "<i> \\psi res \\equiv <i> \\psi  \\left(<5> \\psi \\left(a \\cdot_{\\times} b\\right) \\right)  \\\\\n",
        "\\text{partial indexing} \\\\\n",
        "\\equiv <5 \\, i> \\psi \\left(a \\cdot_{\\times} b\\right) \\\\\n",
        "\\text{indexing outer product} \\\\\n",
        "\\equiv \\left(<5> \\psi  a \\right) \\times \\left(<i> \\psi  b \\right) \\\\\n",
        "$$\n",
        "\n",
        "This indexing expression matches the code we wrote above."
      ]
    },
    {
      "metadata": {
        "id": "7LEjXkoUeKdJ",
        "colab_type": "text"
      },
      "cell_type": "markdown",
      "source": [
        "## Automatically optimizing the example"
      ]
    },
    {
      "metadata": {
        "id": "Hq3kEeMGiLnJ",
        "colab_type": "text"
      },
      "cell_type": "markdown",
      "source": [
        "We have started building the [`uarray`](https://github.com/Quansight-Labs/uarray/tree/master/uarray#uarray) that includes a framework to register these types of definitions and reduce expressions:."
      ]
    },
    {
      "metadata": {
        "id": "wM1jmAzG7Y2z",
        "colab_type": "code",
        "outputId": "5bda9f25-141b-4d55-dd8d-12937bd46e53",
        "colab": {
          "base_uri": "https://localhost:8080/",
          "height": 557
        }
      },
      "cell_type": "code",
      "source": [
        "!pip install -U uarray==0.4"
      ],
      "execution_count": 0,
      "outputs": [
        {
          "output_type": "stream",
          "text": [
            "Collecting uarray\n",
            "\u001b[?25l  Downloading https://files.pythonhosted.org/packages/fa/7f/1f7266d96345421787eb1440ffe6278d263594e168270d415104de972942/uarray-0.4-py2.py3-none-any.whl (67kB)\n",
            "\u001b[K    100% |████████████████████████████████| 71kB 2.2MB/s \n",
            "\u001b[?25hCollecting matchpy (from uarray)\n",
            "\u001b[?25l  Downloading https://files.pythonhosted.org/packages/27/85/b2db4a350a0005e7d1b5c5c1ba0d5f17e1a548d3e296ccfcea7afab8a5db/matchpy-0.4.6-py3-none-any.whl (66kB)\n",
            "\u001b[K    100% |████████████████████████████████| 71kB 4.6MB/s \n",
            "\u001b[?25hCollecting typing_extensions (from uarray)\n",
            "  Downloading https://files.pythonhosted.org/packages/62/4f/392a1fa2873e646f5990eb6f956e662d8a235ab474450c72487745f67276/typing_extensions-3.6.6-py3-none-any.whl\n",
            "Collecting astunparse (from uarray)\n",
            "  Downloading https://files.pythonhosted.org/packages/0d/9d/1576217f67e7420f5945c15c6afd7045178c4850b148741bdbdbdabbf40e/astunparse-1.6.1-py2.py3-none-any.whl\n",
            "Collecting black (from uarray)\n",
            "\u001b[?25l  Downloading https://files.pythonhosted.org/packages/2a/34/9938749f260a861cdd8427d63899e08f9a2a041159a26c2615b02828c973/black-18.9b0-py36-none-any.whl (88kB)\n",
            "\u001b[K    100% |████████████████████████████████| 92kB 5.1MB/s \n",
            "\u001b[?25hRequirement already satisfied, skipping upgrade: numpy in /usr/local/lib/python3.6/dist-packages (from uarray) (1.14.6)\n",
            "Collecting multiset<3.0,>=2.0 (from matchpy->uarray)\n",
            "  Downloading https://files.pythonhosted.org/packages/a8/12/813a649f5bc9801865dc6cda95b8f169f784d996322db192907ebe399064/multiset-2.1.1-py2.py3-none-any.whl\n",
            "Collecting hopcroftkarp<2.0,>=1.2 (from matchpy->uarray)\n",
            "  Downloading https://files.pythonhosted.org/packages/44/59/3efc05c6021b847b9f7d803432d499019b336a05f9bfcff90cf63c939356/hopcroftkarp-1.2.4-py2.py3-none-any.whl\n",
            "Requirement already satisfied, skipping upgrade: wheel<1.0,>=0.23.0 in /usr/local/lib/python3.6/dist-packages (from astunparse->uarray) (0.32.2)\n",
            "Requirement already satisfied, skipping upgrade: six<2.0,>=1.6.1 in /usr/local/lib/python3.6/dist-packages (from astunparse->uarray) (1.11.0)\n",
            "Collecting click>=6.5 (from black->uarray)\n",
            "\u001b[?25l  Downloading https://files.pythonhosted.org/packages/fa/37/45185cb5abbc30d7257104c434fe0b07e5a195a6847506c074527aa599ec/Click-7.0-py2.py3-none-any.whl (81kB)\n",
            "\u001b[K    100% |████████████████████████████████| 81kB 5.2MB/s \n",
            "\u001b[?25hCollecting toml>=0.9.4 (from black->uarray)\n",
            "  Downloading https://files.pythonhosted.org/packages/a2/12/ced7105d2de62fa7c8fb5fce92cc4ce66b57c95fb875e9318dba7f8c5db0/toml-0.10.0-py2.py3-none-any.whl\n",
            "Collecting appdirs (from black->uarray)\n",
            "  Downloading https://files.pythonhosted.org/packages/56/eb/810e700ed1349edde4cbdc1b2a21e28cdf115f9faf263f6bbf8447c1abf3/appdirs-1.4.3-py2.py3-none-any.whl\n",
            "Requirement already satisfied, skipping upgrade: attrs>=17.4.0 in /usr/local/lib/python3.6/dist-packages (from black->uarray) (18.2.0)\n",
            "Installing collected packages: multiset, hopcroftkarp, matchpy, typing-extensions, astunparse, click, toml, appdirs, black, uarray\n",
            "Successfully installed appdirs-1.4.3 astunparse-1.6.1 black-18.9b0 click-7.0 hopcroftkarp-1.2.4 matchpy-0.4.6 multiset-2.1.1 toml-0.10.0 typing-extensions-3.6.6 uarray-0.4\n"
          ],
          "name": "stdout"
        }
      ]
    },
    {
      "metadata": {
        "id": "cb7WMHgP7O5A",
        "colab_type": "code",
        "colab": {}
      },
      "cell_type": "code",
      "source": [
        "from uarray import *\n",
        "import numpy"
      ],
      "execution_count": 0,
      "outputs": []
    },
    {
      "metadata": {
        "id": "pWOObqjtilyH",
        "colab_type": "text"
      },
      "cell_type": "markdown",
      "source": [
        "### Inputs\n",
        "\n"
      ]
    },
    {
      "metadata": {
        "id": "jLSdmk84iuxt",
        "colab_type": "text"
      },
      "cell_type": "markdown",
      "source": [
        "Let's start by creating two arrays both with dimensionality of 1:"
      ]
    },
    {
      "metadata": {
        "id": "qIdIdKTl7O5C",
        "colab_type": "code",
        "outputId": "8fdd4eb8-b3e5-4871-aaf9-3b5d21ea62e7",
        "colab": {
          "base_uri": "https://localhost:8080/",
          "height": 139
        }
      },
      "cell_type": "code",
      "source": [
        "a = with_dims(unbound(\"a\"), 1)\n",
        "b = with_dims(unbound(\"b\"), 1)\n",
        "a"
      ],
      "execution_count": 0,
      "outputs": [
        {
          "output_type": "execute_result",
          "data": {
            "text/plain": [
              "Sequence(\n",
              "    Length(Unbound(variable_name=\"a\")),\n",
              "    UnaryFunction(\n",
              "        Scalar(Content(CallUnary(GetItem(Unbound(variable_name=\"a\")), Unbound(variable_name=\"i2\")))),\n",
              "        Unbound(variable_name=\"i2\"),\n",
              "    ),\n",
              ")\n"
            ]
          },
          "metadata": {
            "tags": []
          },
          "execution_count": 9
        }
      ]
    },
    {
      "metadata": {
        "id": "3giioMfrirKO",
        "colab_type": "text"
      },
      "cell_type": "markdown",
      "source": [
        "### Result"
      ]
    },
    {
      "metadata": {
        "id": "N9JIomHJi5lh",
        "colab_type": "text"
      },
      "cell_type": "markdown",
      "source": [
        "Now we can build up our result given these two arrays"
      ]
    },
    {
      "metadata": {
        "id": "raJCnoqCiq6w",
        "colab_type": "code",
        "outputId": "7495f324-5672-414e-9285-0a0ea490b1b0",
        "colab": {
          "base_uri": "https://localhost:8080/",
          "height": 433
        }
      },
      "cell_type": "code",
      "source": [
        "\n",
        "res = Index(vector(5), OuterProduct(multiply, a, b))\n",
        "res"
      ],
      "execution_count": 0,
      "outputs": [
        {
          "output_type": "execute_result",
          "data": {
            "text/plain": [
              "Index(\n",
              "    Sequence(Int(1), VectorCallable(Scalar(Int(5)))),\n",
              "    OuterProduct(\n",
              "        BinaryFunction(\n",
              "            Scalar(Multiply(Content(Unbound(variable_name=\"i0\")), Content(Unbound(variable_name=\"i1\")))),\n",
              "            Unbound(variable_name=\"i0\"),\n",
              "            Unbound(variable_name=\"i1\"),\n",
              "        ),\n",
              "        Sequence(\n",
              "            Length(Unbound(variable_name=\"a\")),\n",
              "            UnaryFunction(\n",
              "                Scalar(Content(CallUnary(GetItem(Unbound(variable_name=\"a\")), Unbound(variable_name=\"i2\")))),\n",
              "                Unbound(variable_name=\"i2\"),\n",
              "            ),\n",
              "        ),\n",
              "        Sequence(\n",
              "            Length(Unbound(variable_name=\"b\")),\n",
              "            UnaryFunction(\n",
              "                Scalar(Content(CallUnary(GetItem(Unbound(variable_name=\"b\")), Unbound(variable_name=\"i3\")))),\n",
              "                Unbound(variable_name=\"i3\"),\n",
              "            ),\n",
              "        ),\n",
              "    ),\n",
              ")\n"
            ]
          },
          "metadata": {
            "tags": []
          },
          "execution_count": 10
        }
      ]
    },
    {
      "metadata": {
        "id": "XchJ_HuPk3ej",
        "colab_type": "text"
      },
      "cell_type": "markdown",
      "source": [
        "#### Verifying the Result"
      ]
    },
    {
      "metadata": {
        "id": "zwEPWy5B7O5G",
        "colab_type": "text"
      },
      "cell_type": "markdown",
      "source": [
        "Now we can call `replace` to do what we did above in an automated way.\n",
        "\n",
        "\n",
        "*We use the [MatchPy](https://github.com/HPAC/matchpy) library in Python to do this replacement, using pattern matching.*"
      ]
    },
    {
      "metadata": {
        "id": "GNX-pbgW7O5H",
        "colab_type": "code",
        "outputId": "e0db0aac-7c4c-443f-fc19-4fb2ed260d44",
        "colab": {
          "base_uri": "https://localhost:8080/",
          "height": 225
        }
      },
      "cell_type": "code",
      "source": [
        "replaced_res = replace(res)\n",
        "replaced_res"
      ],
      "execution_count": 0,
      "outputs": [
        {
          "output_type": "execute_result",
          "data": {
            "text/plain": [
              "Sequence(\n",
              "    Length(Unbound(variable_name=\"b\")),\n",
              "    UnaryFunction(\n",
              "        Scalar(\n",
              "            Multiply(\n",
              "                Content(CallUnary(GetItem(Unbound(variable_name=\"a\")), Int(5))),\n",
              "                Content(CallUnary(GetItem(Unbound(variable_name=\"b\")), Unbound(variable_name=\"i5\"))),\n",
              "            )\n",
              "        ),\n",
              "        Unbound(variable_name=\"i5\"),\n",
              "    ),\n",
              ")\n"
            ]
          },
          "metadata": {
            "tags": []
          },
          "execution_count": 11
        }
      ]
    },
    {
      "metadata": {
        "id": "uYuLv0Pn7O5L",
        "colab_type": "text"
      },
      "cell_type": "markdown",
      "source": [
        "However, this is still not totally intelligble.\n",
        "\n",
        "##### Shape\n",
        "\n",
        "Let's make sure the shape is right. It should be equal to b's shape:"
      ]
    },
    {
      "metadata": {
        "id": "uApZFsSb7O5M",
        "colab_type": "code",
        "colab": {}
      },
      "cell_type": "code",
      "source": [
        "assert replace(Shape(replaced_res)) == replace(Shape(b))"
      ],
      "execution_count": 0,
      "outputs": []
    },
    {
      "metadata": {
        "id": "iN2F2rGkkHAk",
        "colab_type": "text"
      },
      "cell_type": "markdown",
      "source": [
        "##### Index\n",
        "\n",
        "Also, let's make sure indexing it gives the right result as well:"
      ]
    },
    {
      "metadata": {
        "id": "CNijG7H7jx7Z",
        "colab_type": "code",
        "colab": {}
      },
      "cell_type": "code",
      "source": [
        "i = with_dims(unbound(\"i\"), 0)\n",
        "\n",
        "\n",
        "expected_index = Scalar(Multiply(\n",
        "  Content(CallUnary(GetItem(a), Int(5))),\n",
        "  Content(CallUnary(GetItem(b), Content(i))),\n",
        "))\n",
        "\n",
        "assert replace(Index(vector_of(i), replaced_res))  == replace(expected_index)"
      ],
      "execution_count": 0,
      "outputs": []
    },
    {
      "metadata": {
        "id": "78qdF-GTlz23",
        "colab_type": "text"
      },
      "cell_type": "markdown",
      "source": [
        "But how do we actually use these results?"
      ]
    },
    {
      "metadata": {
        "id": "r7sd2xna7O5a",
        "colab_type": "text"
      },
      "cell_type": "markdown",
      "source": [
        "# User Interface"
      ]
    },
    {
      "metadata": {
        "id": "tCyExVSKm8ep",
        "colab_type": "text"
      },
      "cell_type": "markdown",
      "source": [
        "We have started building some interface to build up these expressions and then to turn them into something we can execute."
      ]
    },
    {
      "metadata": {
        "id": "6eJm-3-j7O5b",
        "colab_type": "text"
      },
      "cell_type": "markdown",
      "source": [
        "## Using NumPy Syntax\n",
        "\n"
      ]
    },
    {
      "metadata": {
        "id": "XYeu_JmgnCYi",
        "colab_type": "text"
      },
      "cell_type": "markdown",
      "source": [
        "Starting with a NumPy-ish object that holds an expression tree inside to represent the array.\n",
        "\n",
        "Here is how we would build the same expression as above:"
      ]
    },
    {
      "metadata": {
        "id": "mG5S8IOi7O5d",
        "colab_type": "code",
        "outputId": "d868d40c-4986-4ff9-ef8c-913148593853",
        "colab": {
          "base_uri": "https://localhost:8080/",
          "height": 399
        }
      },
      "cell_type": "code",
      "source": [
        "numpy.multiply.outer(LazyNDArray(a), LazyNDArray(b))[10] "
      ],
      "execution_count": 0,
      "outputs": [
        {
          "output_type": "execute_result",
          "data": {
            "text/plain": [
              "LazyNDArray(\n",
              "    Index(\n",
              "        Sequence(Int(1), VectorCallable(Scalar(Int(10)))),\n",
              "        OuterProduct(\n",
              "            BinaryUfunc(np.ufunc(multiply)),\n",
              "            Sequence(\n",
              "                Length(Unbound(variable_name=\"a\")),\n",
              "                UnaryFunction(\n",
              "                    Scalar(Content(CallUnary(GetItem(Unbound(variable_name=\"a\")), Unbound(variable_name=\"i2\")))),\n",
              "                    Unbound(variable_name=\"i2\"),\n",
              "                ),\n",
              "            ),\n",
              "            Sequence(\n",
              "                Length(Unbound(variable_name=\"b\")),\n",
              "                UnaryFunction(\n",
              "                    Scalar(Content(CallUnary(GetItem(Unbound(variable_name=\"b\")), Unbound(variable_name=\"i3\")))),\n",
              "                    Unbound(variable_name=\"i3\"),\n",
              "                ),\n",
              "            ),\n",
              "        ),\n",
              "    )\n",
              ")\n"
            ]
          },
          "metadata": {
            "tags": []
          },
          "execution_count": 14
        }
      ]
    },
    {
      "metadata": {
        "id": "kxGsll6xnRvE",
        "colab_type": "text"
      },
      "cell_type": "markdown",
      "source": [
        "## Compiling to NumPy code"
      ]
    },
    {
      "metadata": {
        "id": "tzUdtih-nYUH",
        "colab_type": "text"
      },
      "cell_type": "markdown",
      "source": [
        "We also provide an `optimize` decorator that:\n",
        "\n",
        "* Takes existing function that acceptst and returns NumPy arrays and returns a new function\n",
        "* Builds up array expression by using the `LazyNDArray`\n",
        "* Compiles that array expression to a Python AST for reduced code"
      ]
    },
    {
      "metadata": {
        "id": "ForMcp4m7O5f",
        "colab_type": "code",
        "colab": {}
      },
      "cell_type": "code",
      "source": [
        "outer_then_index_auto_optimized =  optimize(1, 1)(outer_then_index)"
      ],
      "execution_count": 0,
      "outputs": []
    },
    {
      "metadata": {
        "id": "UdLbQrGn7O5j",
        "colab_type": "text"
      },
      "cell_type": "markdown",
      "source": [
        "## Produced Code"
      ]
    },
    {
      "metadata": {
        "id": "riwUnlQYqfdv",
        "colab_type": "text"
      },
      "cell_type": "markdown",
      "source": [
        "If we look at the code it generates, we see it matches semantically our optimized expression above, even though it's much uglier!"
      ]
    },
    {
      "metadata": {
        "id": "xBHmvkmuqenh",
        "colab_type": "code",
        "outputId": "2a978fa2-cacf-49e0-9ac4-71776ef29f0f",
        "colab": {
          "base_uri": "https://localhost:8080/",
          "height": 364
        }
      },
      "cell_type": "code",
      "source": [
        "print(outer_then_index_auto_optimized.__optimize_steps__['ast_as_source'])"
      ],
      "execution_count": 0,
      "outputs": [
        {
          "output_type": "stream",
          "text": [
            "\n",
            "\n",
            "def fn(a, b):\n",
            "    i_7 = ()\n",
            "    i_8 = b.shape[0]\n",
            "    i_3 = ((i_8,) + i_7)\n",
            "    i_0 = np.empty(i_3)\n",
            "    i_4 = b.shape[0]\n",
            "    for i_5 in range(i_4):\n",
            "        i_6 = i_0[i_5]\n",
            "        i_1 = 5\n",
            "        i_2 = a\n",
            "        i_11 = i_2[i_1]\n",
            "        i_9 = i_5\n",
            "        i_10 = b\n",
            "        i_12 = i_10[i_9]\n",
            "        i_6 = (i_11 * i_12)\n",
            "        i_0[i_5] = i_6\n",
            "    return i_0\n",
            "\n"
          ],
          "name": "stdout"
        }
      ]
    },
    {
      "metadata": {
        "id": "Co_giAQcrNGH",
        "colab_type": "text"
      },
      "cell_type": "markdown",
      "source": [
        "# Steppping back"
      ]
    },
    {
      "metadata": {
        "id": "l8q877HK8iYR",
        "colab_type": "text"
      },
      "cell_type": "markdown",
      "source": [
        "## Goals\n"
      ]
    },
    {
      "metadata": {
        "id": "0-ArsHIuqtvS",
        "colab_type": "text"
      },
      "cell_type": "markdown",
      "source": [
        "* Open and extensible interface\n",
        "* Focused on needs of community\n",
        "* Building structure to make it resiliant to change and long lasting\n"
      ]
    },
    {
      "metadata": {
        "id": "TqCwlFwK8j9X",
        "colab_type": "text"
      },
      "cell_type": "markdown",
      "source": [
        "## Next steps\n"
      ]
    },
    {
      "metadata": {
        "id": "mop4J8An8RHu",
        "colab_type": "text"
      },
      "cell_type": "markdown",
      "source": [
        "\n",
        "* Expanding the NumPy / SciPi API coverage\n",
        "* Improving code generation\n",
        "  * Add lower level backends\n",
        "  * Adding type sypport for values\n",
        "  * Make sure it is easy to target high level ops directly to backend\n",
        "* Making core system more sound\n",
        "  * More declerative registrations\n",
        "  * Verify semantics\n",
        "  * Leverage SymPy\n"
      ]
    },
    {
      "metadata": {
        "id": "ByIK53oP8l86",
        "colab_type": "text"
      },
      "cell_type": "markdown",
      "source": [
        "## Interesting Problems"
      ]
    },
    {
      "metadata": {
        "id": "NyFn8J_Q8SOY",
        "colab_type": "text"
      },
      "cell_type": "markdown",
      "source": [
        "* Algebraic pattern matching / symbolic computing\n",
        "* Category theoretic approaches\n",
        "* Friendly registration mechanisms\n",
        "* Low level optimizations\n",
        "* Compiler theory\n",
        "\n",
        "\n",
        "We need your help! Would love to chat about use cases as well.\n",
        "\n",
        "Thank you!"
      ]
    },
    {
      "metadata": {
        "id": "s_s4l7b5uaHc",
        "colab_type": "code",
        "colab": {}
      },
      "cell_type": "code",
      "source": [
        ""
      ],
      "execution_count": 0,
      "outputs": []
    }
  ]
}