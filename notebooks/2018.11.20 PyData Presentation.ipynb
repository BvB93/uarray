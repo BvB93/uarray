{
 "cells": [
  {
   "cell_type": "markdown",
   "metadata": {
    "colab_type": "text",
    "id": "view-in-github"
   },
   "source": [
    "<a href=\"https://colab.research.google.com/github/Quansight-Labs/uarray/blob/master/notebooks/2018.11.20%20PyData%20Presentation.ipynb\" target=\"_parent\"><img src=\"https://colab.research.google.com/assets/colab-badge.svg\" alt=\"Open In Colab\"/></a>"
   ]
  },
  {
   "cell_type": "markdown",
   "metadata": {
    "colab_type": "text",
    "id": "bwt4avpVfWxa"
   },
   "source": [
    "# [\"A World Where Many Worlds Fit\"](https://globalsocialtheory.org/topics/zapatismo/)\n"
   ]
  },
  {
   "cell_type": "markdown",
   "metadata": {
    "colab_type": "text",
    "id": "Wr1-CwZc7O43"
   },
   "source": [
    "\n",
    "[![](https://javiersoriaj.files.wordpress.com/2013/06/575574_431377483625435_324039294_n.jpg)](https://javiersoriaj.wordpress.com/2013/06/09/postales-zapatistas-74-un-mundo-donde-quepan-muchos-mundos/)\n",
    "\n",
    "\n",
    "\n",
    "* Hardware becoming more hetergenous and parallel\n",
    "* Data increasing\n",
    "\n",
    "\n",
    "\n",
    "Need software to target many backends, that is pluggable and allows collaboration. Some existing work in Python land:\n",
    "\n",
    "* [`opt_einsum`](https://github.com/dgasmith/opt_einsum)\n",
    "* Extending NumPy dispatching: [NEP 18](http://www.numpy.org/neps/nep-0018-array-function-protocol.html)\n",
    "* [Tensor Comprehensions](https://facebookresearch.github.io/TensorComprehensions/introduction.html)\n",
    "\n",
    "\n",
    "\n",
    "Why? So that we can innovate at all levels of stack (hardware, compilation, algorithms, user interface) and share work!\n",
    "\n",
    "\n",
    "\n",
    "Like thin waist model of Internet Protocal. We working on the \"thin waist\" that supports common NumPy and SciPy algorithms and can target different hardware (GPU, CPU, FGPA) and software (NumPy, PyTorch, Tensorflow).\n",
    "\n",
    "* Very preliminary work\n",
    "* Lot's of fun problems would love collaboration!"
   ]
  },
  {
   "cell_type": "markdown",
   "metadata": {
    "colab_type": "text",
    "id": "RvZtYO3Rhveb"
   },
   "source": [
    "# Example"
   ]
  },
  {
   "cell_type": "markdown",
   "metadata": {
    "colab_type": "text",
    "id": "vYCOHgg3xnrg"
   },
   "source": [
    "Look at an example using numpy.multiply.outer.  Recall that the outer method of ufuncs takes two arrays a, and b, and creates an array c, with shape a.shape + b.shape (tuple concatenation)\n",
    "\n",
    "so, for 1-d arrays if c = numpy.multiply.outer(a,b) we will get a 2-d array whose elements are:\n",
    "\n",
    "$c[i,j] = a[i] * b[j]$"
   ]
  },
  {
   "cell_type": "code",
   "execution_count": null,
   "metadata": {
    "colab": {
     "base_uri": "https://localhost:8080/",
     "height": 104
    },
    "colab_type": "code",
    "id": "TQMwmqcjxYDX",
    "outputId": "9b1776b9-0b81-4cf9-8438-aaf127b20db3"
   },
   "outputs": [
    {
     "data": {
      "text/plain": [
       "array([[ 0,  0,  0,  0,  0,  0,  0,  0,  0,  0],\n",
       "       [ 0,  1,  2,  3,  4,  5,  6,  7,  8,  9],\n",
       "       [ 0,  2,  4,  6,  8, 10, 12, 14, 16, 18],\n",
       "       [ 0,  3,  6,  9, 12, 15, 18, 21, 24, 27],\n",
       "       [ 0,  4,  8, 12, 16, 20, 24, 28, 32, 36]])"
      ]
     },
     "execution_count": 2,
     "metadata": {
      "tags": []
     },
     "output_type": "execute_result"
    }
   ],
   "source": [
    "import numpy\n",
    "numpy.multiply.outer(numpy.arange(5), numpy.arange(10))"
   ]
  },
  {
   "cell_type": "code",
   "execution_count": null,
   "metadata": {
    "colab": {},
    "colab_type": "code",
    "id": "pQkzP9Xq7O45"
   },
   "outputs": [],
   "source": [
    "\n",
    "def outer_then_index(a, b):\n",
    "    return numpy.multiply.outer(a, b)[5]"
   ]
  },
  {
   "cell_type": "markdown",
   "metadata": {
    "colab_type": "text",
    "id": "1jpQ2SDRxXU-"
   },
   "source": []
  },
  {
   "cell_type": "code",
   "execution_count": null,
   "metadata": {
    "colab": {
     "base_uri": "https://localhost:8080/",
     "height": 35
    },
    "colab_type": "code",
    "id": "uNVhsuAbCXN_",
    "outputId": "8868647a-acf6-461a-faf3-eaf6cd5f6002"
   },
   "outputs": [
    {
     "data": {
      "text/plain": [
       "array([ 0.,  5., 10., 15., 20., 25., 30., 35., 40., 45.])"
      ]
     },
     "execution_count": 4,
     "metadata": {
      "tags": []
     },
     "output_type": "execute_result"
    }
   ],
   "source": [
    "n = 10\n",
    "\n",
    "outer_then_index(numpy.arange(n, dtype=\"float64\"), numpy.arange(n, dtype=\"float64\"))"
   ]
  },
  {
   "cell_type": "markdown",
   "metadata": {
    "colab_type": "text",
    "id": "6v7xSc-HDMam"
   },
   "source": [
    "## Issues"
   ]
  },
  {
   "cell_type": "markdown",
   "metadata": {
    "colab_type": "text",
    "id": "JOhF8ejxDZyH"
   },
   "source": [
    "\n",
    "* Wasted work: $O(n^2)$ instead of $O(n)$\n",
    "* Execution tied to API: Requires NumPy-compatible array objects "
   ]
  },
  {
   "cell_type": "markdown",
   "metadata": {
    "colab_type": "text",
    "id": "i-zlV7hPFJ0j"
   },
   "source": [
    "## Improved"
   ]
  },
  {
   "cell_type": "code",
   "execution_count": null,
   "metadata": {
    "colab": {},
    "colab_type": "code",
    "id": "HdEUoXNOFg95"
   },
   "outputs": [],
   "source": [
    "def outer_then_index_optimized(a, b):\n",
    "    length_b = b.shape[0] \n",
    "    out = numpy.empty((length_b,))\n",
    "    for i in range(length_b):\n",
    "        out[i] = a[5] * b[i]\n",
    "    return out"
   ]
  },
  {
   "cell_type": "code",
   "execution_count": null,
   "metadata": {
    "colab": {
     "base_uri": "https://localhost:8080/",
     "height": 35
    },
    "colab_type": "code",
    "id": "ybtrCFkHL-Cb",
    "outputId": "87f554dc-9d34-4133-fbb9-444ab7c73d8b"
   },
   "outputs": [
    {
     "data": {
      "text/plain": [
       "array([ 0.,  5., 10., 15., 20., 25., 30., 35., 40., 45.])"
      ]
     },
     "execution_count": 6,
     "metadata": {
      "tags": []
     },
     "output_type": "execute_result"
    }
   ],
   "source": [
    "outer_then_index_optimized(numpy.arange(n, dtype=\"float64\"), numpy.arange(n, dtype=\"float64\"))"
   ]
  },
  {
   "cell_type": "markdown",
   "metadata": {
    "colab_type": "text",
    "id": "fc6r39BxrAtm"
   },
   "source": [
    "I timed these two versions locally on my laptop and found that although at first the improved version is slower, it quickly becomes faster as $n$ increases, due to the differing time complexity:"
   ]
  },
  {
   "cell_type": "markdown",
   "metadata": {
    "colab_type": "text",
    "id": "EcGmw-5OB_Kb"
   },
   "source": [
    "[![](https://github.com/Quansight-Labs/uarray/raw/master/benchmarks/out.png)](https://github.com/Quansight-Labs/uarray/tree/master/benchmarks)"
   ]
  },
  {
   "cell_type": "markdown",
   "metadata": {
    "colab_type": "text",
    "id": "4ouDifuqPSHd"
   },
   "source": [
    "* No more waisted work (linear instead of quadratic)\n",
    "* Still requires NumPy-ish object, but only primitive operations"
   ]
  },
  {
   "cell_type": "markdown",
   "metadata": {
    "colab_type": "text",
    "id": "Hemtj23gMFsu"
   },
   "source": [
    "How to automate this translation?"
   ]
  },
  {
   "cell_type": "markdown",
   "metadata": {
    "colab_type": "text",
    "id": "36rFDzsjNyjJ"
   },
   "source": [
    "# Theory"
   ]
  },
  {
   "cell_type": "markdown",
   "metadata": {
    "colab_type": "text",
    "id": "OPF9iZLuOmux"
   },
   "source": [
    "In the 1980s Lenore Mullin published [\"A Mathematics of Arrays\"](https://paperpile.com/app/p/5de098dd-606d-0124-a25d-db5309f99394) based on her work on [APL](https://en.wikipedia.org/wiki/APL_(programming_language).\n",
    "\n",
    "In it, arrays are defined by:\n",
    "\n",
    "* Shape (vector of integers)\n",
    "* Indexing (function from indices to value)"
   ]
  },
  {
   "cell_type": "markdown",
   "metadata": {
    "colab_type": "text",
    "id": "0y0IeLB_RB01"
   },
   "source": [
    "In `outer_then_index_optimized` above, we did the same, determining:\n",
    "\n",
    "* Shape of result, based on shapes of inputs\n",
    "* The value of each index of the result"
   ]
  },
  {
   "cell_type": "markdown",
   "metadata": {
    "colab_type": "text",
    "id": "P5ia_IInVD_C"
   },
   "source": [
    "We can use this to perform this translation by hand, then we will look into automating it."
   ]
  },
  {
   "cell_type": "markdown",
   "metadata": {
    "colab_type": "text",
    "id": "V2bgQWgagVOd"
   },
   "source": [
    "## Hand optimizing the example"
   ]
  },
  {
   "cell_type": "markdown",
   "metadata": {
    "colab_type": "text",
    "id": "NqkElXgIZ4Js"
   },
   "source": [
    "### Definitions"
   ]
  },
  {
   "cell_type": "markdown",
   "metadata": {
    "colab_type": "text",
    "id": "skBFC_h4VJmp"
   },
   "source": [
    "I should start by presenting some notation we will use to the derivation that is from the above paper. Here are translations to roughly equivalent NumPy notation:\n",
    "\n",
    "* $\\rho(x)$ = `x.shape`\n",
    "* $<x, y, z>$ = `numpy.array([x, y, z])`\n",
    "* $x \\psi y$ = `y[x]` where `x` is a tuple of indices\n",
    "* $x \\cdot_{\\times} y$ = `numpy.multiply.outer(x, y)`\n",
    "* $x \\downarrow y$ = `y[x:]`\n",
    "* $x ++ y$ = `numpy.concatenate([x, y])`\n",
    "\n",
    "\n",
    "And now we can define how outer product and partial indexing work in terms of these.  We start by defining their shapes:\n",
    "\n",
    "$$\n",
    "\\begin{array}{cc}\n",
    "\\rho \\left( x \\psi y \\right) \\equiv  (<0> \\psi \\rho(x) ) \\downarrow \\rho\\left(y \\right)  &  \\texttt{(y[x]).shape == y.shape[x.shape[0]:]} \\\\\n",
    "\\rho \\left( x \\cdot_{\\times} y \\right) \\equiv \\rho(x) ++ \\rho(y) & \\texttt{(np.multiply.outer(x,y)).shape == x.shape + y.shape}\n",
    "\\end{array}\n",
    "$$\n",
    "\n",
    " And then how to index into them:\n",
    " \n",
    " $$\n",
    "\\begin{array}{cc}\n",
    "z \\psi (x \\psi y) \\equiv (x ++ z) \\psi y & \\texttt{y[x][z] == y[np.concatenate([x,z])]}\\\\\n",
    "(j++k) \\psi (x \\cdot_{\\times} y) \\equiv j \\psi x \\times k \\psi y & \\texttt{np.multiply.outer(x,y)[j+k] == x[j]*y[k] } \\\\\n",
    "\\end{array}\n",
    "$$"
   ]
  },
  {
   "cell_type": "markdown",
   "metadata": {
    "colab_type": "text",
    "id": "QBHoOhjeZ7LI"
   },
   "source": [
    "### Reducing"
   ]
  },
  {
   "cell_type": "markdown",
   "metadata": {
    "colab_type": "text",
    "id": "zwjVnr-wcnqM"
   },
   "source": [
    "#### Shape"
   ]
  },
  {
   "cell_type": "markdown",
   "metadata": {
    "colab_type": "text",
    "id": "NynaN45Kghu9"
   },
   "source": [
    "Assuming that both inputs are vectors and letting their lengthts be $c$ and $d$, we have:\n",
    "\n",
    "\n",
    "$$\n",
    "\\rho\\left(a\\right) \\equiv<c> \\\\\n",
    "\\rho\\left(b\\right) \\equiv<d> \\\\\n",
    "res \\equiv <5> \\psi \\left(a \\cdot_{\\times} b\\right)\n",
    "$$\n",
    "\n",
    "\n",
    "First let's figure out the shape of our result, simply by applying relevent equivalencies:\n",
    "\n",
    "$$\n",
    "\\rho(res) \\equiv \\rho  \\left(<5> \\psi \\left(a \\cdot_{\\times} b\\right) \\right)  \\\\\n",
    "\\text{shape of partial index:} \\\\\n",
    "\\equiv 1 \\downarrow \\rho  \\left(a \\cdot_{\\times} b\\right)\\\\\n",
    "\\text{shape of outer product:} \\\\\n",
    "\\equiv 1 \\downarrow \\left(\\rho a  ++ \\rho b\\right)\\\\\n",
    "\\text{shapes of inputs} \\\\\n",
    "\\equiv 1 \\downarrow \\left(<c>  ++ <d>\\right)\\\\\n",
    "\\text{concat vectors} \\\\\n",
    "\\equiv 1 \\downarrow <c d> \\\\\n",
    "\\text{drop vectors} \\\\\n",
    "\\equiv  < d> \\\\\n",
    "$$\n",
    "\n",
    "The result shape is a vector with the length of $b$, which matches our code above.\n"
   ]
  },
  {
   "cell_type": "markdown",
   "metadata": {
    "colab_type": "text",
    "id": "U4sOWiL97O4-"
   },
   "source": [
    "#### Indexing\n",
    "\n"
   ]
  },
  {
   "cell_type": "markdown",
   "metadata": {
    "colab_type": "text",
    "id": "4mbKwEnbcyPx"
   },
   "source": [
    "Now we can index with the vector $<i>$ and see what the result is:\n",
    "\n",
    "\n",
    "\n",
    "$$\n",
    "<i> \\psi res \\equiv <i> \\psi  \\left(<5> \\psi \\left(a \\cdot_{\\times} b\\right) \\right)  \\\\\n",
    "\\text{partial indexing} \\\\\n",
    "\\equiv <5 \\, i> \\psi \\left(a \\cdot_{\\times} b\\right) \\\\\n",
    "\\text{indexing outer product} \\\\\n",
    "\\equiv \\left(<5> \\psi  a \\right) \\times \\left(<i> \\psi  b \\right) \\\\\n",
    "$$\n",
    "\n",
    "This indexing expression matches the code we wrote above."
   ]
  },
  {
   "cell_type": "markdown",
   "metadata": {
    "colab_type": "text",
    "id": "7LEjXkoUeKdJ"
   },
   "source": [
    "## Automatically optimizing the example"
   ]
  },
  {
   "cell_type": "markdown",
   "metadata": {
    "colab_type": "text",
    "id": "Hq3kEeMGiLnJ"
   },
   "source": [
    "We have started building the [`uarray`](https://github.com/Quansight-Labs/uarray/tree/master/uarray#uarray) that includes a framework to register these types of definitions and reduce expressions:."
   ]
  },
  {
   "cell_type": "code",
   "execution_count": null,
   "metadata": {
    "colab": {
     "base_uri": "https://localhost:8080/",
     "height": 557
    },
    "colab_type": "code",
    "id": "wM1jmAzG7Y2z",
    "outputId": "5bda9f25-141b-4d55-dd8d-12937bd46e53"
   },
   "outputs": [
    {
     "name": "stdout",
     "output_type": "stream",
     "text": [
      "Collecting uarray\n",
      "\u001b[?25l  Downloading https://files.pythonhosted.org/packages/fa/7f/1f7266d96345421787eb1440ffe6278d263594e168270d415104de972942/uarray-0.4-py2.py3-none-any.whl (67kB)\n",
      "\u001b[K    100% |████████████████████████████████| 71kB 2.2MB/s \n",
      "\u001b[?25hCollecting matchpy (from uarray)\n",
      "\u001b[?25l  Downloading https://files.pythonhosted.org/packages/27/85/b2db4a350a0005e7d1b5c5c1ba0d5f17e1a548d3e296ccfcea7afab8a5db/matchpy-0.4.6-py3-none-any.whl (66kB)\n",
      "\u001b[K    100% |████████████████████████████████| 71kB 4.6MB/s \n",
      "\u001b[?25hCollecting typing_extensions (from uarray)\n",
      "  Downloading https://files.pythonhosted.org/packages/62/4f/392a1fa2873e646f5990eb6f956e662d8a235ab474450c72487745f67276/typing_extensions-3.6.6-py3-none-any.whl\n",
      "Collecting astunparse (from uarray)\n",
      "  Downloading https://files.pythonhosted.org/packages/0d/9d/1576217f67e7420f5945c15c6afd7045178c4850b148741bdbdbdabbf40e/astunparse-1.6.1-py2.py3-none-any.whl\n",
      "Collecting black (from uarray)\n",
      "\u001b[?25l  Downloading https://files.pythonhosted.org/packages/2a/34/9938749f260a861cdd8427d63899e08f9a2a041159a26c2615b02828c973/black-18.9b0-py36-none-any.whl (88kB)\n",
      "\u001b[K    100% |████████████████████████████████| 92kB 5.1MB/s \n",
      "\u001b[?25hRequirement already satisfied, skipping upgrade: numpy in /usr/local/lib/python3.6/dist-packages (from uarray) (1.14.6)\n",
      "Collecting multiset<3.0,>=2.0 (from matchpy->uarray)\n",
      "  Downloading https://files.pythonhosted.org/packages/a8/12/813a649f5bc9801865dc6cda95b8f169f784d996322db192907ebe399064/multiset-2.1.1-py2.py3-none-any.whl\n",
      "Collecting hopcroftkarp<2.0,>=1.2 (from matchpy->uarray)\n",
      "  Downloading https://files.pythonhosted.org/packages/44/59/3efc05c6021b847b9f7d803432d499019b336a05f9bfcff90cf63c939356/hopcroftkarp-1.2.4-py2.py3-none-any.whl\n",
      "Requirement already satisfied, skipping upgrade: wheel<1.0,>=0.23.0 in /usr/local/lib/python3.6/dist-packages (from astunparse->uarray) (0.32.2)\n",
      "Requirement already satisfied, skipping upgrade: six<2.0,>=1.6.1 in /usr/local/lib/python3.6/dist-packages (from astunparse->uarray) (1.11.0)\n",
      "Collecting click>=6.5 (from black->uarray)\n",
      "\u001b[?25l  Downloading https://files.pythonhosted.org/packages/fa/37/45185cb5abbc30d7257104c434fe0b07e5a195a6847506c074527aa599ec/Click-7.0-py2.py3-none-any.whl (81kB)\n",
      "\u001b[K    100% |████████████████████████████████| 81kB 5.2MB/s \n",
      "\u001b[?25hCollecting toml>=0.9.4 (from black->uarray)\n",
      "  Downloading https://files.pythonhosted.org/packages/a2/12/ced7105d2de62fa7c8fb5fce92cc4ce66b57c95fb875e9318dba7f8c5db0/toml-0.10.0-py2.py3-none-any.whl\n",
      "Collecting appdirs (from black->uarray)\n",
      "  Downloading https://files.pythonhosted.org/packages/56/eb/810e700ed1349edde4cbdc1b2a21e28cdf115f9faf263f6bbf8447c1abf3/appdirs-1.4.3-py2.py3-none-any.whl\n",
      "Requirement already satisfied, skipping upgrade: attrs>=17.4.0 in /usr/local/lib/python3.6/dist-packages (from black->uarray) (18.2.0)\n",
      "Installing collected packages: multiset, hopcroftkarp, matchpy, typing-extensions, astunparse, click, toml, appdirs, black, uarray\n",
      "Successfully installed appdirs-1.4.3 astunparse-1.6.1 black-18.9b0 click-7.0 hopcroftkarp-1.2.4 matchpy-0.4.6 multiset-2.1.1 toml-0.10.0 typing-extensions-3.6.6 uarray-0.4\n"
     ]
    }
   ],
   "source": [
    "!pip install -U uarray==0.4"
   ]
  },
  {
   "cell_type": "code",
   "execution_count": null,
   "metadata": {
    "colab": {},
    "colab_type": "code",
    "id": "cb7WMHgP7O5A"
   },
   "outputs": [],
   "source": [
    "from uarray import *\n",
    "import numpy"
   ]
  },
  {
   "cell_type": "markdown",
   "metadata": {
    "colab_type": "text",
    "id": "pWOObqjtilyH"
   },
   "source": [
    "### Inputs\n",
    "\n"
   ]
  },
  {
   "cell_type": "markdown",
   "metadata": {
    "colab_type": "text",
    "id": "jLSdmk84iuxt"
   },
   "source": [
    "Let's start by creating two arrays both with dimensionality of 1:"
   ]
  },
  {
   "cell_type": "code",
   "execution_count": null,
   "metadata": {
    "colab": {
     "base_uri": "https://localhost:8080/",
     "height": 139
    },
    "colab_type": "code",
    "id": "qIdIdKTl7O5C",
    "outputId": "8fdd4eb8-b3e5-4871-aaf9-3b5d21ea62e7"
   },
   "outputs": [
    {
     "data": {
      "text/plain": [
       "Sequence(\n",
       "    Length(Unbound(variable_name=\"a\")),\n",
       "    UnaryFunction(\n",
       "        Scalar(Content(CallUnary(GetItem(Unbound(variable_name=\"a\")), Unbound(variable_name=\"i2\")))),\n",
       "        Unbound(variable_name=\"i2\"),\n",
       "    ),\n",
       ")\n"
      ]
     },
     "execution_count": 9,
     "metadata": {
      "tags": []
     },
     "output_type": "execute_result"
    }
   ],
   "source": [
    "a = with_dims(unbound(\"a\"), 1)\n",
    "b = with_dims(unbound(\"b\"), 1)\n",
    "a"
   ]
  },
  {
   "cell_type": "markdown",
   "metadata": {
    "colab_type": "text",
    "id": "3giioMfrirKO"
   },
   "source": [
    "### Result"
   ]
  },
  {
   "cell_type": "markdown",
   "metadata": {
    "colab_type": "text",
    "id": "N9JIomHJi5lh"
   },
   "source": [
    "Now we can build up our result given these two arrays"
   ]
  },
  {
   "cell_type": "code",
   "execution_count": null,
   "metadata": {
    "colab": {
     "base_uri": "https://localhost:8080/",
     "height": 433
    },
    "colab_type": "code",
    "id": "raJCnoqCiq6w",
    "outputId": "7495f324-5672-414e-9285-0a0ea490b1b0"
   },
   "outputs": [
    {
     "data": {
      "text/plain": [
       "Index(\n",
       "    Sequence(Int(1), VectorCallable(Scalar(Int(5)))),\n",
       "    OuterProduct(\n",
       "        BinaryFunction(\n",
       "            Scalar(Multiply(Content(Unbound(variable_name=\"i0\")), Content(Unbound(variable_name=\"i1\")))),\n",
       "            Unbound(variable_name=\"i0\"),\n",
       "            Unbound(variable_name=\"i1\"),\n",
       "        ),\n",
       "        Sequence(\n",
       "            Length(Unbound(variable_name=\"a\")),\n",
       "            UnaryFunction(\n",
       "                Scalar(Content(CallUnary(GetItem(Unbound(variable_name=\"a\")), Unbound(variable_name=\"i2\")))),\n",
       "                Unbound(variable_name=\"i2\"),\n",
       "            ),\n",
       "        ),\n",
       "        Sequence(\n",
       "            Length(Unbound(variable_name=\"b\")),\n",
       "            UnaryFunction(\n",
       "                Scalar(Content(CallUnary(GetItem(Unbound(variable_name=\"b\")), Unbound(variable_name=\"i3\")))),\n",
       "                Unbound(variable_name=\"i3\"),\n",
       "            ),\n",
       "        ),\n",
       "    ),\n",
       ")\n"
      ]
     },
     "execution_count": 10,
     "metadata": {
      "tags": []
     },
     "output_type": "execute_result"
    }
   ],
   "source": [
    "\n",
    "res = Index(vector(5), OuterProduct(multiply, a, b))\n",
    "res"
   ]
  },
  {
   "cell_type": "markdown",
   "metadata": {
    "colab_type": "text",
    "id": "XchJ_HuPk3ej"
   },
   "source": [
    "#### Verifying the Result"
   ]
  },
  {
   "cell_type": "markdown",
   "metadata": {
    "colab_type": "text",
    "id": "zwEPWy5B7O5G"
   },
   "source": [
    "Now we can call `replace` to do what we did above in an automated way.\n",
    "\n",
    "\n",
    "*We use the [MatchPy](https://github.com/HPAC/matchpy) library in Python to do this replacement, using pattern matching.*"
   ]
  },
  {
   "cell_type": "code",
   "execution_count": null,
   "metadata": {
    "colab": {
     "base_uri": "https://localhost:8080/",
     "height": 225
    },
    "colab_type": "code",
    "id": "GNX-pbgW7O5H",
    "outputId": "e0db0aac-7c4c-443f-fc19-4fb2ed260d44"
   },
   "outputs": [
    {
     "data": {
      "text/plain": [
       "Sequence(\n",
       "    Length(Unbound(variable_name=\"b\")),\n",
       "    UnaryFunction(\n",
       "        Scalar(\n",
       "            Multiply(\n",
       "                Content(CallUnary(GetItem(Unbound(variable_name=\"a\")), Int(5))),\n",
       "                Content(CallUnary(GetItem(Unbound(variable_name=\"b\")), Unbound(variable_name=\"i5\"))),\n",
       "            )\n",
       "        ),\n",
       "        Unbound(variable_name=\"i5\"),\n",
       "    ),\n",
       ")\n"
      ]
     },
     "execution_count": 11,
     "metadata": {
      "tags": []
     },
     "output_type": "execute_result"
    }
   ],
   "source": [
    "replaced_res = replace(res)\n",
    "replaced_res"
   ]
  },
  {
   "cell_type": "markdown",
   "metadata": {
    "colab_type": "text",
    "id": "uYuLv0Pn7O5L"
   },
   "source": [
    "However, this is still not totally intelligble.\n",
    "\n",
    "##### Shape\n",
    "\n",
    "Let's make sure the shape is right. It should be equal to b's shape:"
   ]
  },
  {
   "cell_type": "code",
   "execution_count": null,
   "metadata": {
    "colab": {},
    "colab_type": "code",
    "id": "uApZFsSb7O5M"
   },
   "outputs": [],
   "source": [
    "assert replace(Shape(replaced_res)) == replace(Shape(b))"
   ]
  },
  {
   "cell_type": "markdown",
   "metadata": {
    "colab_type": "text",
    "id": "iN2F2rGkkHAk"
   },
   "source": [
    "##### Index\n",
    "\n",
    "Also, let's make sure indexing it gives the right result as well:"
   ]
  },
  {
   "cell_type": "code",
   "execution_count": null,
   "metadata": {
    "colab": {},
    "colab_type": "code",
    "id": "CNijG7H7jx7Z"
   },
   "outputs": [],
   "source": [
    "i = with_dims(unbound(\"i\"), 0)\n",
    "\n",
    "\n",
    "expected_index = Scalar(Multiply(\n",
    "  Content(CallUnary(GetItem(a), Int(5))),\n",
    "  Content(CallUnary(GetItem(b), Content(i))),\n",
    "))\n",
    "\n",
    "assert replace(Index(vector_of(i), replaced_res))  == replace(expected_index)"
   ]
  },
  {
   "cell_type": "markdown",
   "metadata": {
    "colab_type": "text",
    "id": "78qdF-GTlz23"
   },
   "source": [
    "But how do we actually use these results?"
   ]
  },
  {
   "cell_type": "markdown",
   "metadata": {
    "colab_type": "text",
    "id": "r7sd2xna7O5a"
   },
   "source": [
    "# User Interface"
   ]
  },
  {
   "cell_type": "markdown",
   "metadata": {
    "colab_type": "text",
    "id": "tCyExVSKm8ep"
   },
   "source": [
    "We have started building some interface to build up these expressions and then to turn them into something we can execute."
   ]
  },
  {
   "cell_type": "markdown",
   "metadata": {
    "colab_type": "text",
    "id": "6eJm-3-j7O5b"
   },
   "source": [
    "## Using NumPy Syntax\n",
    "\n"
   ]
  },
  {
   "cell_type": "markdown",
   "metadata": {
    "colab_type": "text",
    "id": "XYeu_JmgnCYi"
   },
   "source": [
    "Starting with a NumPy-ish object that holds an expression tree inside to represent the array.\n",
    "\n",
    "Here is how we would build the same expression as above:"
   ]
  },
  {
   "cell_type": "code",
   "execution_count": null,
   "metadata": {
    "colab": {
     "base_uri": "https://localhost:8080/",
     "height": 399
    },
    "colab_type": "code",
    "id": "mG5S8IOi7O5d",
    "outputId": "d868d40c-4986-4ff9-ef8c-913148593853"
   },
   "outputs": [
    {
     "data": {
      "text/plain": [
       "LazyNDArray(\n",
       "    Index(\n",
       "        Sequence(Int(1), VectorCallable(Scalar(Int(10)))),\n",
       "        OuterProduct(\n",
       "            BinaryUfunc(np.ufunc(multiply)),\n",
       "            Sequence(\n",
       "                Length(Unbound(variable_name=\"a\")),\n",
       "                UnaryFunction(\n",
       "                    Scalar(Content(CallUnary(GetItem(Unbound(variable_name=\"a\")), Unbound(variable_name=\"i2\")))),\n",
       "                    Unbound(variable_name=\"i2\"),\n",
       "                ),\n",
       "            ),\n",
       "            Sequence(\n",
       "                Length(Unbound(variable_name=\"b\")),\n",
       "                UnaryFunction(\n",
       "                    Scalar(Content(CallUnary(GetItem(Unbound(variable_name=\"b\")), Unbound(variable_name=\"i3\")))),\n",
       "                    Unbound(variable_name=\"i3\"),\n",
       "                ),\n",
       "            ),\n",
       "        ),\n",
       "    )\n",
       ")\n"
      ]
     },
     "execution_count": 14,
     "metadata": {
      "tags": []
     },
     "output_type": "execute_result"
    }
   ],
   "source": [
    "numpy.multiply.outer(LazyNDArray(a), LazyNDArray(b))[10] "
   ]
  },
  {
   "cell_type": "markdown",
   "metadata": {
    "colab_type": "text",
    "id": "kxGsll6xnRvE"
   },
   "source": [
    "## Compiling to NumPy code"
   ]
  },
  {
   "cell_type": "markdown",
   "metadata": {
    "colab_type": "text",
    "id": "tzUdtih-nYUH"
   },
   "source": [
    "We also provide an `optimize` decorator that:\n",
    "\n",
    "* Takes existing function that acceptst and returns NumPy arrays and returns a new function\n",
    "* Builds up array expression by using the `LazyNDArray`\n",
    "* Compiles that array expression to a Python AST for reduced code"
   ]
  },
  {
   "cell_type": "code",
   "execution_count": null,
   "metadata": {
    "colab": {},
    "colab_type": "code",
    "id": "ForMcp4m7O5f"
   },
   "outputs": [],
   "source": [
    "outer_then_index_auto_optimized =  optimize(1, 1)(outer_then_index)"
   ]
  },
  {
   "cell_type": "markdown",
   "metadata": {
    "colab_type": "text",
    "id": "UdLbQrGn7O5j"
   },
   "source": [
    "## Produced Code"
   ]
  },
  {
   "cell_type": "markdown",
   "metadata": {
    "colab_type": "text",
    "id": "riwUnlQYqfdv"
   },
   "source": [
    "If we look at the code it generates, we see it matches semantically our optimized expression above, even though it's much uglier!"
   ]
  },
  {
   "cell_type": "code",
   "execution_count": null,
   "metadata": {
    "colab": {
     "base_uri": "https://localhost:8080/",
     "height": 364
    },
    "colab_type": "code",
    "id": "xBHmvkmuqenh",
    "outputId": "2a978fa2-cacf-49e0-9ac4-71776ef29f0f"
   },
   "outputs": [
    {
     "name": "stdout",
     "output_type": "stream",
     "text": [
      "\n",
      "\n",
      "def fn(a, b):\n",
      "    i_7 = ()\n",
      "    i_8 = b.shape[0]\n",
      "    i_3 = ((i_8,) + i_7)\n",
      "    i_0 = np.empty(i_3)\n",
      "    i_4 = b.shape[0]\n",
      "    for i_5 in range(i_4):\n",
      "        i_6 = i_0[i_5]\n",
      "        i_1 = 5\n",
      "        i_2 = a\n",
      "        i_11 = i_2[i_1]\n",
      "        i_9 = i_5\n",
      "        i_10 = b\n",
      "        i_12 = i_10[i_9]\n",
      "        i_6 = (i_11 * i_12)\n",
      "        i_0[i_5] = i_6\n",
      "    return i_0\n",
      "\n"
     ]
    }
   ],
   "source": [
    "print(outer_then_index_auto_optimized.__optimize_steps__['ast_as_source'])"
   ]
  },
  {
   "cell_type": "markdown",
   "metadata": {
    "colab_type": "text",
    "id": "Co_giAQcrNGH"
   },
   "source": [
    "# Steppping back"
   ]
  },
  {
   "cell_type": "markdown",
   "metadata": {
    "colab_type": "text",
    "id": "l8q877HK8iYR"
   },
   "source": [
    "## Goals\n"
   ]
  },
  {
   "cell_type": "markdown",
   "metadata": {
    "colab_type": "text",
    "id": "0-ArsHIuqtvS"
   },
   "source": [
    "* Open and extensible interface\n",
    "* Focused on needs of community\n",
    "* Building structure to make it resiliant to change and long lasting\n"
   ]
  },
  {
   "cell_type": "markdown",
   "metadata": {
    "colab_type": "text",
    "id": "TqCwlFwK8j9X"
   },
   "source": [
    "## Next steps\n"
   ]
  },
  {
   "cell_type": "markdown",
   "metadata": {
    "colab_type": "text",
    "id": "mop4J8An8RHu"
   },
   "source": [
    "\n",
    "* Expanding the NumPy / SciPi API coverage\n",
    "* Improving code generation\n",
    "  * Add lower level backends\n",
    "  * Adding type sypport for values\n",
    "  * Make sure it is easy to target high level ops directly to backend\n",
    "* Making core system more sound\n",
    "  * More declerative registrations\n",
    "  * Verify semantics\n",
    "  * Leverage SymPy\n"
   ]
  },
  {
   "cell_type": "markdown",
   "metadata": {
    "colab_type": "text",
    "id": "ByIK53oP8l86"
   },
   "source": [
    "## Interesting Problems"
   ]
  },
  {
   "cell_type": "markdown",
   "metadata": {
    "colab_type": "text",
    "id": "NyFn8J_Q8SOY"
   },
   "source": [
    "* Algebraic pattern matching / symbolic computing\n",
    "* Category theoretic approaches\n",
    "* Friendly registration mechanisms\n",
    "* Low level optimizations\n",
    "* Compiler theory\n",
    "\n",
    "\n",
    "We need your help! Would love to chat about use cases as well.\n",
    "\n",
    "Thank you!"
   ]
  },
  {
   "cell_type": "code",
   "execution_count": null,
   "metadata": {
    "colab": {},
    "colab_type": "code",
    "id": "s_s4l7b5uaHc"
   },
   "outputs": [],
   "source": []
  }
 ],
 "metadata": {
  "colab": {
   "collapsed_sections": [],
   "include_colab_link": true,
   "name": "2018.11.15 PyData Presentation",
   "provenance": [],
   "version": "0.3.2"
  },
  "kernelspec": {
   "display_name": "Python 3",
   "language": "python",
   "name": "python3"
  },
  "language_info": {
   "codemirror_mode": {
    "name": "ipython",
    "version": 3
   },
   "file_extension": ".py",
   "mimetype": "text/x-python",
   "name": "python",
   "nbconvert_exporter": "python",
   "pygments_lexer": "ipython3",
   "version": "3.7.1"
  }
 },
 "nbformat": 4,
 "nbformat_minor": 2
}
