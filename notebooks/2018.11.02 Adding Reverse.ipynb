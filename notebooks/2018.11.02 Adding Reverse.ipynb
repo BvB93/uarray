{
 "cells": [
  {
   "cell_type": "code",
   "execution_count": 1,
   "metadata": {},
   "outputs": [],
   "source": [
    "from uarray import *\n",
    "import matchpy"
   ]
  },
  {
   "cell_type": "code",
   "execution_count": 2,
   "metadata": {},
   "outputs": [],
   "source": [
    "class Reverse(matchpy.Operation):\n",
    "    \"\"\"\n",
    "    Reverse(array)\n",
    "    \"\"\"\n",
    "    name = \"Reverse\"\n",
    "    arity = matchpy.Arity(1, False)"
   ]
  },
  {
   "cell_type": "code",
   "execution_count": 3,
   "metadata": {},
   "outputs": [],
   "source": [
    "def _reverse_sequence(length, getitem):\n",
    "    def new_getitem(idx):\n",
    "        return Call(getitem, Add(Multiply(idx, Value(-1)), Add(length, Value(-1))))\n",
    "    \n",
    "    return Sequence(\n",
    "        length,\n",
    "        function(1, new_getitem)\n",
    "    )\n",
    "\n",
    "register(Reverse(Sequence(w.length, w.getitem)), _reverse_sequence)"
   ]
  },
  {
   "cell_type": "code",
   "execution_count": 19,
   "metadata": {},
   "outputs": [],
   "source": [
    "@optimize\n",
    "def try_reversing(a):\n",
    "    a = a.has_dim(2)\n",
    "    return OmegaUnary(function(1, Reverse), Value(1), a.expr)"
   ]
  },
  {
   "cell_type": "code",
   "execution_count": null,
   "metadata": {},
   "outputs": [],
   "source": []
  },
  {
   "cell_type": "code",
   "execution_count": 17,
   "metadata": {},
   "outputs": [
    {
     "name": "stdout",
     "output_type": "stream",
     "text": [
      "\n",
      "\n",
      "def fn(a):\n",
      "    i_46 = ()\n",
      "    i_47 = a.shape[1]\n",
      "    i_44 = ((i_47,) + i_46)\n",
      "    i_45 = a.shape[0]\n",
      "    i_40 = ((i_45,) + i_44)\n",
      "    i_39 = np.empty(i_40)\n",
      "    i_41 = a.shape[0]\n",
      "    for i_42 in range(i_41):\n",
      "        i_43 = i_39[i_42]\n",
      "        i_48 = a.shape[1]\n",
      "        for i_49 in range(i_48):\n",
      "            i_50 = i_43[i_49]\n",
      "            i_51 = i_49\n",
      "            i_57 = i_42\n",
      "            i_58 = -1\n",
      "            i_55 = (i_57 * i_58)\n",
      "            i_59 = a.shape[0]\n",
      "            i_60 = -1\n",
      "            i_56 = (i_59 + i_60)\n",
      "            i_53 = (i_55 + i_56)\n",
      "            i_54 = a\n",
      "            i_52 = i_54[i_53]\n",
      "            i_50 = i_52[i_51]\n",
      "            i_43[i_49] = i_50\n",
      "        i_39[i_42] = i_43\n",
      "    return i_39\n",
      "\n"
     ]
    }
   ],
   "source": [
    "print(try_reversing.__optimize_steps__[\"ast_as_source\"])"
   ]
  },
  {
   "cell_type": "code",
   "execution_count": 13,
   "metadata": {},
   "outputs": [
    {
     "data": {
      "text/plain": [
       "array([[0., 1., 2., 3., 4.],\n",
       "       [5., 6., 7., 8., 9.]])"
      ]
     },
     "execution_count": 13,
     "metadata": {},
     "output_type": "execute_result"
    }
   ],
   "source": [
    "np.arange(10, dtype=\"float64\").reshape(2, 5)"
   ]
  },
  {
   "cell_type": "code",
   "execution_count": 12,
   "metadata": {},
   "outputs": [
    {
     "data": {
      "text/plain": [
       "array([[5., 6., 7., 8., 9.],\n",
       "       [0., 1., 2., 3., 4.]])"
      ]
     },
     "execution_count": 12,
     "metadata": {},
     "output_type": "execute_result"
    }
   ],
   "source": [
    "try_reversing(np.arange(10, dtype=\"float64\").reshape(2, 5))"
   ]
  },
  {
   "cell_type": "code",
   "execution_count": 20,
   "metadata": {},
   "outputs": [
    {
     "data": {
      "text/plain": [
       "array([[4., 3., 2., 1., 0.],\n",
       "       [9., 8., 7., 6., 5.]])"
      ]
     },
     "execution_count": 20,
     "metadata": {},
     "output_type": "execute_result"
    }
   ],
   "source": [
    "try_reversing(np.arange(10, dtype=\"float64\").reshape(2, 5))"
   ]
  },
  {
   "cell_type": "code",
   "execution_count": null,
   "metadata": {},
   "outputs": [],
   "source": []
  }
 ],
 "metadata": {
  "kernelspec": {
   "display_name": "Python 3",
   "language": "python",
   "name": "python3"
  },
  "language_info": {
   "codemirror_mode": {
    "name": "ipython",
    "version": 3
   },
   "file_extension": ".py",
   "mimetype": "text/x-python",
   "name": "python",
   "nbconvert_exporter": "python",
   "pygments_lexer": "ipython3",
   "version": "3.6.6"
  }
 },
 "nbformat": 4,
 "nbformat_minor": 2
}
