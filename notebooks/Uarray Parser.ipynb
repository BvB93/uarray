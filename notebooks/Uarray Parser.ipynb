{
 "cells": [
  {
   "cell_type": "markdown",
   "metadata": {},
   "source": [
    "# MOA Parser"
   ]
  },
  {
   "cell_type": "code",
   "execution_count": 1,
   "metadata": {},
   "outputs": [],
   "source": [
    "from uarray.parser import parse\n",
    "\n",
    "# ply tries to generate parsetab file (my system is read-only so it generates and error)\n",
    "# I am suppressing it\n",
    "import sys\n",
    "import os\n",
    "sys.stderr = open(os.devnull, 'w')"
   ]
  },
  {
   "cell_type": "code",
   "execution_count": 2,
   "metadata": {},
   "outputs": [
    {
     "data": {
      "text/plain": [
       "Sequence(Int(4), VectorCallable(Scalar(Int(1)), Scalar(Int(2)), Scalar(Int(3)), Scalar(Int(4))))\n"
      ]
     },
     "execution_count": 2,
     "metadata": {},
     "output_type": "execute_result"
    }
   ],
   "source": [
    "parse('< 1 2 3 4>')"
   ]
  },
  {
   "cell_type": "code",
   "execution_count": 3,
   "metadata": {},
   "outputs": [
    {
     "data": {
      "text/plain": [
       "Add(Unbound(variable_name=\"A\"), Unbound(variable_name=\"B\"))\n"
      ]
     },
     "execution_count": 3,
     "metadata": {},
     "output_type": "execute_result"
    }
   ],
   "source": [
    "parse('A + B')"
   ]
  },
  {
   "cell_type": "code",
   "execution_count": 4,
   "metadata": {},
   "outputs": [
    {
     "data": {
      "text/plain": [
       "Add(\n",
       "    Sequence(\n",
       "        Int(2),\n",
       "        UnaryFunction(\n",
       "            Sequence(\n",
       "                VectorCallable(Scalar(Int(1)), Scalar(Int(2))),\n",
       "                UnaryFunction(\n",
       "                    Scalar(\n",
       "                        Content(\n",
       "                            CallUnary(\n",
       "                                GetItem(CallUnary(GetItem(Unbound(variable_name=\"A\")), Unbound(variable_name=\"i2\"))),\n",
       "                                Unbound(variable_name=\"i3\"),\n",
       "                            )\n",
       "                        )\n",
       "                    ),\n",
       "                    Unbound(variable_name=\"i3\"),\n",
       "                ),\n",
       "            ),\n",
       "            Unbound(variable_name=\"i2\"),\n",
       "        ),\n",
       "    ),\n",
       "    Iota(Unbound(variable_name=\"B\")),\n",
       ")\n"
      ]
     },
     "execution_count": 4,
     "metadata": {},
     "output_type": "execute_result"
    }
   ],
   "source": [
    "parse('A^<1 2> + iota B')"
   ]
  },
  {
   "cell_type": "code",
   "execution_count": 6,
   "metadata": {},
   "outputs": [
    {
     "data": {
      "text/plain": [
       "Add(\n",
       "    Add(\n",
       "        Sequence(\n",
       "            Int(6),\n",
       "            UnaryFunction(\n",
       "                Sequence(\n",
       "                    VectorCallable(\n",
       "                        Scalar(Int(1)), Scalar(Int(2)), Scalar(Int(3)), Scalar(Int(4)), Scalar(Int(5)), Scalar(Int(6))\n",
       "                    ),\n",
       "                    UnaryFunction(\n",
       "                        Scalar(\n",
       "                            Content(\n",
       "                                CallUnary(\n",
       "                                    GetItem(\n",
       "                                        CallUnary(GetItem(Unbound(variable_name=\"A\")), Unbound(variable_name=\"i8\"))\n",
       "                                    ),\n",
       "                                    Unbound(variable_name=\"i9\"),\n",
       "                                )\n",
       "                            )\n",
       "                        ),\n",
       "                        Unbound(variable_name=\"i9\"),\n",
       "                    ),\n",
       "                ),\n",
       "                Unbound(variable_name=\"i8\"),\n",
       "            ),\n",
       "        ),\n",
       "        Sequence(\n",
       "            Int(2),\n",
       "            UnaryFunction(\n",
       "                Sequence(\n",
       "                    VectorCallable(Scalar(Int(1)), Scalar(Int(2))),\n",
       "                    UnaryFunction(\n",
       "                        Scalar(\n",
       "                            Content(\n",
       "                                CallUnary(\n",
       "                                    GetItem(\n",
       "                                        CallUnary(GetItem(Unbound(variable_name=\"B\")), Unbound(variable_name=\"i10\"))\n",
       "                                    ),\n",
       "                                    Unbound(variable_name=\"i11\"),\n",
       "                                )\n",
       "                            )\n",
       "                        ),\n",
       "                        Unbound(variable_name=\"i11\"),\n",
       "                    ),\n",
       "                ),\n",
       "                Unbound(variable_name=\"i10\"),\n",
       "            ),\n",
       "        ),\n",
       "    ),\n",
       "    Sequence(Int(2), VectorCallable(Scalar(Int(1)), Scalar(Int(2)))),\n",
       ")\n"
      ]
     },
     "execution_count": 6,
     "metadata": {},
     "output_type": "execute_result"
    }
   ],
   "source": [
    "parse('A^<1 2 3 4 5 6> + B^<1 2> + <1 2>') # notice it is up to MOA to catch bad specifications"
   ]
  },
  {
   "cell_type": "code",
   "execution_count": null,
   "metadata": {},
   "outputs": [],
   "source": []
  }
 ],
 "metadata": {
  "kernelspec": {
   "display_name": "Python 3",
   "language": "python",
   "name": "python3"
  },
  "language_info": {
   "codemirror_mode": {
    "name": "ipython",
    "version": 3
   },
   "file_extension": ".py",
   "mimetype": "text/x-python",
   "name": "python",
   "nbconvert_exporter": "python",
   "pygments_lexer": "ipython3",
   "version": "3.7.1"
  }
 },
 "nbformat": 4,
 "nbformat_minor": 2
}
