{
 "cells": [
  {
   "cell_type": "markdown",
   "metadata": {},
   "source": [
    "# Introduction"
   ]
  },
  {
   "cell_type": "code",
   "execution_count": 1,
   "metadata": {},
   "outputs": [],
   "source": [
    "from uarray import *"
   ]
  },
  {
   "cell_type": "markdown",
   "metadata": {},
   "source": [
    "## Creating Arrays"
   ]
  },
  {
   "cell_type": "markdown",
   "metadata": {},
   "source": [
    "### Scalar"
   ]
  },
  {
   "cell_type": "markdown",
   "metadata": {},
   "source": [
    "We can add custom values as scalars:"
   ]
  },
  {
   "cell_type": "code",
   "execution_count": 2,
   "metadata": {},
   "outputs": [
    {
     "name": "stdout",
     "output_type": "stream",
     "text": [
      "123\n"
     ]
    },
    {
     "data": {
      "text/plain": [
       "Scalar('123')"
      ]
     },
     "execution_count": 2,
     "metadata": {},
     "output_type": "execute_result"
    }
   ],
   "source": [
    "a_scalar = Scalar(123)\n",
    "print(a_scalar)\n",
    "a_scalar"
   ]
  },
  {
   "cell_type": "markdown",
   "metadata": {},
   "source": [
    "Now we can take the shape of a scalar:"
   ]
  },
  {
   "cell_type": "code",
   "execution_count": 3,
   "metadata": {},
   "outputs": [
    {
     "data": {
      "text/plain": [
       "Shape(Scalar('123'))"
      ]
     },
     "execution_count": 3,
     "metadata": {},
     "output_type": "execute_result"
    }
   ],
   "source": [
    "a_scalar_shape = Shape(a_scalar)\n",
    "a_scalar_shape"
   ]
  },
  {
   "cell_type": "markdown",
   "metadata": {},
   "source": [
    "We see that the shape is not computed.\n",
    "\n",
    "It just contains a reference to the arrays it operates on:"
   ]
  },
  {
   "cell_type": "code",
   "execution_count": 4,
   "metadata": {},
   "outputs": [
    {
     "data": {
      "text/plain": [
       "[Scalar('123')]"
      ]
     },
     "execution_count": 4,
     "metadata": {},
     "output_type": "execute_result"
    }
   ],
   "source": [
    "a_scalar_shape.operands"
   ]
  },
  {
   "cell_type": "markdown",
   "metadata": {},
   "source": [
    "It also has a shorter representation we can print based on the Mathematics of Arrays symbols:"
   ]
  },
  {
   "cell_type": "code",
   "execution_count": 5,
   "metadata": {},
   "outputs": [
    {
     "name": "stdout",
     "output_type": "stream",
     "text": [
      "ρ(123)\n"
     ]
    }
   ],
   "source": [
    "print(a_scalar_shape)"
   ]
  },
  {
   "cell_type": "markdown",
   "metadata": {},
   "source": [
    "We call `replace` to keep replacing expressions until no more are matched:"
   ]
  },
  {
   "cell_type": "code",
   "execution_count": 6,
   "metadata": {},
   "outputs": [
    {
     "data": {
      "text/plain": [
       "Vector()"
      ]
     },
     "execution_count": 6,
     "metadata": {},
     "output_type": "execute_result"
    }
   ],
   "source": [
    "replace(a_scalar_shape)"
   ]
  },
  {
   "cell_type": "markdown",
   "metadata": {},
   "source": [
    "### Vector"
   ]
  },
  {
   "cell_type": "markdown",
   "metadata": {},
   "source": [
    "We see that the shape of a scalar is `Vector`. `Vector` is a special operation that takes any number of operands. Each operand should be a scalar. We can create them with the `vector` helper function:"
   ]
  },
  {
   "cell_type": "code",
   "execution_count": 7,
   "metadata": {},
   "outputs": [
    {
     "data": {
      "text/plain": [
       "\u001b[0;31mSignature:\u001b[0m \u001b[0mvector\u001b[0m\u001b[0;34m(\u001b[0m\u001b[0;34m*\u001b[0m\u001b[0mvalues\u001b[0m\u001b[0;34m)\u001b[0m\u001b[0;34m\u001b[0m\u001b[0m\n",
       "\u001b[0;31mDocstring:\u001b[0m <no docstring>\n",
       "\u001b[0;31mSource:\u001b[0m   \n",
       "\u001b[0;32mdef\u001b[0m \u001b[0mvector\u001b[0m\u001b[0;34m(\u001b[0m\u001b[0;34m*\u001b[0m\u001b[0mvalues\u001b[0m\u001b[0;34m)\u001b[0m\u001b[0;34m:\u001b[0m\u001b[0;34m\u001b[0m\n",
       "\u001b[0;34m\u001b[0m    \u001b[0;32mreturn\u001b[0m \u001b[0mVector\u001b[0m\u001b[0;34m(\u001b[0m\u001b[0;34m*\u001b[0m\u001b[0mmap\u001b[0m\u001b[0;34m(\u001b[0m\u001b[0mScalar\u001b[0m\u001b[0;34m,\u001b[0m \u001b[0mvalues\u001b[0m\u001b[0;34m)\u001b[0m\u001b[0;34m)\u001b[0m\u001b[0;34m\u001b[0m\u001b[0m\n",
       "\u001b[0;31mFile:\u001b[0m      ~/p/uarray/uarray/uarray.py\n",
       "\u001b[0;31mType:\u001b[0m      function\n"
      ]
     },
     "metadata": {},
     "output_type": "display_data"
    }
   ],
   "source": [
    "??vector"
   ]
  },
  {
   "cell_type": "code",
   "execution_count": 8,
   "metadata": {},
   "outputs": [
    {
     "name": "stdout",
     "output_type": "stream",
     "text": [
      "<1 2 3>\n"
     ]
    },
    {
     "data": {
      "text/plain": [
       "Vector(Scalar('1'), Scalar('2'), Scalar('3'))"
      ]
     },
     "execution_count": 8,
     "metadata": {},
     "output_type": "execute_result"
    }
   ],
   "source": [
    "a_vector = vector(1, 2, 3)\n",
    "print(a_vector)\n",
    "a_vector"
   ]
  },
  {
   "cell_type": "markdown",
   "metadata": {},
   "source": [
    "We can see the shape of a vector:"
   ]
  },
  {
   "cell_type": "code",
   "execution_count": 9,
   "metadata": {},
   "outputs": [
    {
     "name": "stdout",
     "output_type": "stream",
     "text": [
      "<3>\n"
     ]
    }
   ],
   "source": [
    "a_vector_shape = replace(Shape(a_vector))\n",
    "print(a_vector_shape)"
   ]
  },
  {
   "cell_type": "markdown",
   "metadata": {},
   "source": [
    "Which is itself a vector. "
   ]
  },
  {
   "cell_type": "markdown",
   "metadata": {},
   "source": [
    "### Iota"
   ]
  },
  {
   "cell_type": "markdown",
   "metadata": {},
   "source": [
    "Now let's do something more interesting and create a range of values:"
   ]
  },
  {
   "cell_type": "code",
   "execution_count": 10,
   "metadata": {},
   "outputs": [
    {
     "name": "stdout",
     "output_type": "stream",
     "text": [
      "ι(10)\n"
     ]
    }
   ],
   "source": [
    "a_range = Iota(Scalar(10))\n",
    "print(a_range)"
   ]
  },
  {
   "cell_type": "code",
   "execution_count": 11,
   "metadata": {},
   "outputs": [
    {
     "name": "stdout",
     "output_type": "stream",
     "text": [
      "<10>\n"
     ]
    }
   ],
   "source": [
    "print(replace(Shape(a_range)))"
   ]
  },
  {
   "cell_type": "markdown",
   "metadata": {},
   "source": [
    "This is a vector of length 10. Let's see that the 5th element is the integer 5."
   ]
  },
  {
   "cell_type": "code",
   "execution_count": 12,
   "metadata": {},
   "outputs": [
    {
     "data": {
      "text/plain": [
       "Scalar('5')"
      ]
     },
     "execution_count": 12,
     "metadata": {},
     "output_type": "execute_result"
    }
   ],
   "source": [
    "replace(Index(vector(5), a_range))"
   ]
  },
  {
   "cell_type": "markdown",
   "metadata": {},
   "source": [
    "Here we use a new command `Index` which takes in a vector of indices and the an array and returns a subarray."
   ]
  },
  {
   "cell_type": "markdown",
   "metadata": {},
   "source": [
    "# Paper Example"
   ]
  },
  {
   "cell_type": "markdown",
   "metadata": {},
   "source": [
    "Now let's look at the example from the paper in `uarray-docs`."
   ]
  },
  {
   "cell_type": "code",
   "execution_count": 13,
   "metadata": {},
   "outputs": [
    {
     "name": "stdout",
     "output_type": "stream",
     "text": [
      "((<1 0> ψ A^3) +·× (<2> ψ ((<1 0> ψ A^3) ·× (<0 1> ψ B^3))))\n"
     ]
    }
   ],
   "source": [
    "A = AbstractWithDimension(Scalar(3), variable_name=\"A\")\n",
    "B = AbstractWithDimension(Scalar(3), variable_name=\"B\")\n",
    "r = InnerProduct(\n",
    "    Index(vector(1, 0), A),\n",
    "    Scalar(Add),\n",
    "    Scalar(Multiply),\n",
    "    Index(\n",
    "        vector(2),\n",
    "        OuterProduct(\n",
    "            Index(vector(1, 0), A),\n",
    "            Scalar(Multiply),\n",
    "            Index(vector(0, 1), B)\n",
    "        )\n",
    "    )\n",
    ")\n",
    "print(r)"
   ]
  },
  {
   "cell_type": "code",
   "execution_count": 14,
   "metadata": {},
   "outputs": [
    {
     "name": "stdout",
     "output_type": "stream",
     "text": [
      "((<1 0> ψp A^3) +·× (((<1 0> ‡v (<1> ↑ <2>)) ψf A^3) ·× ((<0 1> ‡v (<1> ↓ <2>)) ψp B^3)))\n"
     ]
    }
   ],
   "source": [
    "replaced_r = replace(r)\n",
    "print(replaced_r)"
   ]
  },
  {
   "cell_type": "code",
   "execution_count": 15,
   "metadata": {},
   "outputs": [
    {
     "name": "stdout",
     "output_type": "stream",
     "text": [
      "(((<1 0> ‡v (<1> ↑ <2>)) ψf A^3) ·× ((<0 1> ‡v (<1> ↓ <2>)) ψp B^3))\n"
     ]
    }
   ],
   "source": [
    "rhs = replaced_r[-1]\n",
    "print(rhs)"
   ]
  },
  {
   "cell_type": "code",
   "execution_count": 16,
   "metadata": {},
   "outputs": [
    {
     "name": "stdout",
     "output_type": "stream",
     "text": [
      "(<i^0> ψ (((<1 0> ‡v (<1> ↑ <2>)) ψf A^3) ·× ((<0 1> ‡v (<1> ↓ <2>)) ψp B^3)))\n",
      "(((<0> ↑ <i^0>) ψf ((<1 0> ‡v (<1> ↑ <2>)) ψf A^3)) × ((<0> ↓ <i^0>) ψf ((<0 1> ‡v (<1> ↓ <2>)) ψp B^3)))\n"
     ]
    }
   ],
   "source": [
    "i = AbstractWithDimension(Scalar(0), variable_name=\"i\")\n",
    "\n",
    "rr_ = Index(Vector(i), rhs)\n",
    "print(rr_)\n",
    "rr = replace(rr_)\n",
    "print(rr)"
   ]
  },
  {
   "cell_type": "code",
   "execution_count": 17,
   "metadata": {},
   "outputs": [
    {
     "name": "stdout",
     "output_type": "stream",
     "text": [
      "(((<1> ≡v ExplodeVector((<0> ψf ρ(ρ(ρ(ρ((((<0> ↑ <i^0>) ψf ((<1 0> ‡v (<1> ↑ <2>)) ψf A^3)) × ((<0> ↓ <i^0>) ψf ((<0 1> ‡v (<1> ↓ <2>)) ψp B^3)))))))), ρ(ρ(ρ((((<0> ↑ <i^0>) ψf ((<1 0> ‡v (<1> ↑ <2>)) ψf A^3)) × ((<0> ↓ <i^0>) ψf ((<0 1> ‡v (<1> ↓ <2>)) ψp B^3)))))))) and (ExplodeVector(τ(ρ(<>)), rav(ρ(<>))) ≡v ExplodeVector(τ(ρ(ρ((((<0> ↑ <i^0>) ψf ((<1 0> ‡v (<1> ↑ <2>)) ψf A^3)) × ((<0> ↓ <i^0>) ψf ((<0 1> ‡v (<1> ↓ <2>)) ψp B^3)))))), rav(ρ(ρ((((<0> ↑ <i^0>) ψf ((<1 0> ‡v (<1> ↑ <2>)) ψf A^3)) × ((<0> ↓ <i^0>) ψf ((<0 1> ‡v (<1> ↓ <2>)) ψp B^3))))))))) ? (<> ψf (((<0> ↑ <i^0>) ψf ((<1 0> ‡v (<1> ↑ <2>)) ψf A^3)) × ((<0> ↓ <i^0>) ψf ((<0 1> ‡v (<1> ↓ <2>)) ψp B^3)))) : (<> ψp (((<0> ↑ <i^0>) ψf ((<1 0> ‡v (<1> ↑ <2>)) ψf A^3)) × ((<0> ↓ <i^0>) ψf ((<0 1> ‡v (<1> ↓ <2>)) ψp B^3)))))\n"
     ]
    }
   ],
   "source": [
    "print(replace(Index(Vector(), rr)))"
   ]
  },
  {
   "cell_type": "code",
   "execution_count": null,
   "metadata": {},
   "outputs": [],
   "source": []
  }
 ],
 "metadata": {
  "kernelspec": {
   "display_name": "Python 3",
   "language": "python",
   "name": "python3"
  },
  "language_info": {
   "codemirror_mode": {
    "name": "ipython",
    "version": 3
   },
   "file_extension": ".py",
   "mimetype": "text/x-python",
   "name": "python",
   "nbconvert_exporter": "python",
   "pygments_lexer": "ipython3",
   "version": "3.7.0"
  }
 },
 "nbformat": 4,
 "nbformat_minor": 2
}
