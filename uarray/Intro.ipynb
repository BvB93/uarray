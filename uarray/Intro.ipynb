{
 "cells": [
  {
   "cell_type": "markdown",
   "metadata": {},
   "source": [
    "# Introduction"
   ]
  },
  {
   "cell_type": "code",
   "execution_count": 1,
   "metadata": {},
   "outputs": [],
   "source": [
    "from uarray import *"
   ]
  },
  {
   "cell_type": "markdown",
   "metadata": {},
   "source": [
    "## Creating Arrays"
   ]
  },
  {
   "cell_type": "markdown",
   "metadata": {},
   "source": [
    "### Scalar"
   ]
  },
  {
   "cell_type": "markdown",
   "metadata": {},
   "source": [
    "We can add custom values as scalars:"
   ]
  },
  {
   "cell_type": "code",
   "execution_count": 2,
   "metadata": {},
   "outputs": [
    {
     "name": "stdout",
     "output_type": "stream",
     "text": [
      "Array(NoLengthAccessor(), 123)\n"
     ]
    },
    {
     "data": {
      "text/plain": [
       "Array(NoLengthAccessor(), ScalarAccessor('123'))"
      ]
     },
     "execution_count": 2,
     "metadata": {},
     "output_type": "execute_result"
    }
   ],
   "source": [
    "a_scalar = scalar(123)\n",
    "print(a_scalar)\n",
    "a_scalar"
   ]
  },
  {
   "cell_type": "markdown",
   "metadata": {},
   "source": [
    "Now we can take the shape of a scalar:"
   ]
  },
  {
   "cell_type": "code",
   "execution_count": 3,
   "metadata": {},
   "outputs": [
    {
     "data": {
      "text/plain": [
       "Shape(Array(NoLengthAccessor(), ScalarAccessor('123')))"
      ]
     },
     "execution_count": 3,
     "metadata": {},
     "output_type": "execute_result"
    }
   ],
   "source": [
    "a_scalar_shape = Shape(a_scalar)\n",
    "a_scalar_shape"
   ]
  },
  {
   "cell_type": "markdown",
   "metadata": {},
   "source": [
    "We see that the shape is not computed.\n",
    "\n",
    "It just contains a reference to the arrays it operates on:"
   ]
  },
  {
   "cell_type": "code",
   "execution_count": 4,
   "metadata": {},
   "outputs": [
    {
     "data": {
      "text/plain": [
       "[Array(NoLengthAccessor(), ScalarAccessor('123'))]"
      ]
     },
     "execution_count": 4,
     "metadata": {},
     "output_type": "execute_result"
    }
   ],
   "source": [
    "a_scalar_shape.operands"
   ]
  },
  {
   "cell_type": "markdown",
   "metadata": {},
   "source": [
    "It also has a shorter representation we can print based on the Mathematics of Arrays symbols:"
   ]
  },
  {
   "cell_type": "code",
   "execution_count": 5,
   "metadata": {},
   "outputs": [
    {
     "name": "stdout",
     "output_type": "stream",
     "text": [
      "ρ(Array(NoLengthAccessor(), 123))\n"
     ]
    }
   ],
   "source": [
    "print(a_scalar_shape)"
   ]
  },
  {
   "cell_type": "markdown",
   "metadata": {},
   "source": [
    "We call `replace` to keep replacing expressions until no more are matched:"
   ]
  },
  {
   "cell_type": "code",
   "execution_count": 6,
   "metadata": {},
   "outputs": [
    {
     "name": "stdout",
     "output_type": "stream",
     "text": [
      "ρ(Array(NoLengthAccessor(), 123))\n",
      "\n",
      "  ρ(Array(NoLengthAccessor(), 123))\n",
      "->ShapeInner((), Array(NoLengthAccessor(), 123))\n",
      "\n",
      "ShapeInner((), Array(NoLengthAccessor(), 123))\n",
      "\n",
      "  ShapeInner((), Array(NoLengthAccessor(), 123))\n",
      "->Array(0, <>)\n",
      "\n",
      "Array(0, <>)\n"
     ]
    },
    {
     "data": {
      "text/plain": [
       "Array(ScalarAccessor('0'), VectorAccessor('()'))"
      ]
     },
     "execution_count": 6,
     "metadata": {},
     "output_type": "execute_result"
    }
   ],
   "source": [
    "replace_debug(a_scalar_shape, False)"
   ]
  },
  {
   "cell_type": "markdown",
   "metadata": {},
   "source": [
    "### Vector"
   ]
  },
  {
   "cell_type": "markdown",
   "metadata": {},
   "source": [
    "We see that the shape of a scalar is `Vector`. `Vector` is a special operation that takes any number of operands. Each operand should be a scalar. We can create them with the `vector` helper function:"
   ]
  },
  {
   "cell_type": "code",
   "execution_count": 7,
   "metadata": {},
   "outputs": [
    {
     "data": {
      "text/plain": [
       "\u001b[0;31mSignature:\u001b[0m \u001b[0mvector\u001b[0m\u001b[0;34m(\u001b[0m\u001b[0;34m*\u001b[0m\u001b[0mvalues\u001b[0m\u001b[0;34m)\u001b[0m\u001b[0;34m\u001b[0m\u001b[0m\n",
       "\u001b[0;31mDocstring:\u001b[0m <no docstring>\n",
       "\u001b[0;31mSource:\u001b[0m   \n",
       "\u001b[0;32mdef\u001b[0m \u001b[0mvector\u001b[0m\u001b[0;34m(\u001b[0m\u001b[0;34m*\u001b[0m\u001b[0mvalues\u001b[0m\u001b[0;34m)\u001b[0m\u001b[0;34m:\u001b[0m\u001b[0;34m\u001b[0m\n",
       "\u001b[0;34m\u001b[0m    \u001b[0maccessor\u001b[0m \u001b[0;34m=\u001b[0m \u001b[0mVectorAccessor\u001b[0m\u001b[0;34m(\u001b[0m\u001b[0mtuple\u001b[0m\u001b[0;34m(\u001b[0m\u001b[0mScalarAccessor\u001b[0m\u001b[0;34m(\u001b[0m\u001b[0mv\u001b[0m\u001b[0;34m)\u001b[0m \u001b[0;32mfor\u001b[0m \u001b[0mv\u001b[0m \u001b[0;32min\u001b[0m \u001b[0mvalues\u001b[0m\u001b[0;34m)\u001b[0m\u001b[0;34m)\u001b[0m\u001b[0;34m\u001b[0m\n",
       "\u001b[0;34m\u001b[0m    \u001b[0;32mreturn\u001b[0m \u001b[0mArray\u001b[0m\u001b[0;34m(\u001b[0m\u001b[0mScalarAccessor\u001b[0m\u001b[0;34m(\u001b[0m\u001b[0mlen\u001b[0m\u001b[0;34m(\u001b[0m\u001b[0mvalues\u001b[0m\u001b[0;34m)\u001b[0m\u001b[0;34m)\u001b[0m\u001b[0;34m,\u001b[0m \u001b[0maccessor\u001b[0m\u001b[0;34m)\u001b[0m\u001b[0;34m\u001b[0m\u001b[0m\n",
       "\u001b[0;31mFile:\u001b[0m      ~/p/uarray/uarray/uarray.py\n",
       "\u001b[0;31mType:\u001b[0m      function\n"
      ]
     },
     "metadata": {},
     "output_type": "display_data"
    }
   ],
   "source": [
    "??vector"
   ]
  },
  {
   "cell_type": "code",
   "execution_count": 8,
   "metadata": {},
   "outputs": [
    {
     "name": "stdout",
     "output_type": "stream",
     "text": [
      "Array(3, <1 2 3>)\n"
     ]
    },
    {
     "data": {
      "text/plain": [
       "Array(ScalarAccessor('3'), VectorAccessor(\"(ScalarAccessor('1'), ScalarAccessor('2'), ScalarAccessor('3'))\"))"
      ]
     },
     "execution_count": 8,
     "metadata": {},
     "output_type": "execute_result"
    }
   ],
   "source": [
    "a_vector = vector(1, 2, 3)\n",
    "print(a_vector)\n",
    "a_vector"
   ]
  },
  {
   "cell_type": "markdown",
   "metadata": {},
   "source": [
    "We can see the shape of a vector:"
   ]
  },
  {
   "cell_type": "code",
   "execution_count": 9,
   "metadata": {},
   "outputs": [
    {
     "name": "stdout",
     "output_type": "stream",
     "text": [
      "Array(1, <3>)\n"
     ]
    }
   ],
   "source": [
    "a_vector_shape = replace(Shape(a_vector))\n",
    "print(a_vector_shape)"
   ]
  },
  {
   "cell_type": "markdown",
   "metadata": {},
   "source": [
    "Which is itself a vector. "
   ]
  },
  {
   "cell_type": "markdown",
   "metadata": {},
   "source": [
    "### Iota"
   ]
  },
  {
   "cell_type": "markdown",
   "metadata": {},
   "source": [
    "Now let's do something more interesting and create a range of values:"
   ]
  },
  {
   "cell_type": "code",
   "execution_count": 10,
   "metadata": {},
   "outputs": [
    {
     "name": "stdout",
     "output_type": "stream",
     "text": [
      "ι(Array(NoLengthAccessor(), 10))\n"
     ]
    }
   ],
   "source": [
    "a_range = Iota(scalar(10))\n",
    "print(a_range)"
   ]
  },
  {
   "cell_type": "code",
   "execution_count": 11,
   "metadata": {},
   "outputs": [
    {
     "name": "stdout",
     "output_type": "stream",
     "text": [
      "Array(1, <10>)\n"
     ]
    }
   ],
   "source": [
    "print(replace(Shape(a_range)))"
   ]
  },
  {
   "cell_type": "markdown",
   "metadata": {},
   "source": [
    "This is a vector of length 10. Let's see that the 5th element is the integer 5."
   ]
  },
  {
   "cell_type": "code",
   "execution_count": 12,
   "metadata": {},
   "outputs": [
    {
     "name": "stdout",
     "output_type": "stream",
     "text": [
      "Array(NoLengthAccessor(), 5)\n"
     ]
    }
   ],
   "source": [
    "print(replace(Index(vector(5), a_range)))"
   ]
  },
  {
   "cell_type": "markdown",
   "metadata": {},
   "source": [
    "Here we use a new command `Index` which takes in a vector of indices and the an array and returns a subarray."
   ]
  },
  {
   "cell_type": "markdown",
   "metadata": {},
   "source": [
    "Let's try adding taking it's sum:"
   ]
  },
  {
   "cell_type": "code",
   "execution_count": 13,
   "metadata": {},
   "outputs": [
    {
     "data": {
      "text/plain": [
       "Array(NoLengthAccessor(), ScalarAccessor('45'))"
      ]
     },
     "execution_count": 13,
     "metadata": {},
     "output_type": "execute_result"
    }
   ],
   "source": [
    "replace(ReduceVector(scalar(0), ScalarAccessor(Add), a_range))"
   ]
  },
  {
   "cell_type": "code",
   "execution_count": 14,
   "metadata": {},
   "outputs": [
    {
     "data": {
      "text/plain": [
       "45"
      ]
     },
     "execution_count": 14,
     "metadata": {},
     "output_type": "execute_result"
    }
   ],
   "source": [
    "sum(range(10))"
   ]
  },
  {
   "cell_type": "markdown",
   "metadata": {},
   "source": [
    "# Paper Example"
   ]
  },
  {
   "cell_type": "markdown",
   "metadata": {},
   "source": [
    "Now let's look at the example from the paper in `uarray-docs`."
   ]
  },
  {
   "cell_type": "code",
   "execution_count": 20,
   "metadata": {},
   "outputs": [
    {
     "name": "stdout",
     "output_type": "stream",
     "text": [
      "Array(NoLengthAccessor(), UnboundAccessor('', variable_name=Z_content))\n",
      "Array(NoLengthAccessor(),\n",
      "      Content(Get(UnboundAccessor('', variable_name=i_0),\n",
      "                  UnboundAccessor('', variable_name=A_content))))\n",
      "Array(Content(Get(ScalarAccessor('1'),\n",
      "                  UnboundAccessor('', variable_name=B_shape))),\n",
      "      GetBySubstituting(ScalarAccessor(\"'idx_20'\"),\n",
      "                        Array(NoLengthAccessor(),\n",
      "                              Content(Get(UnboundAccessor('', variable_name=idx_20),\n",
      "                                          Content(Get(UnboundAccessor('', variable_name=i_0),\n",
      "                                                      UnboundAccessor('', variable_name=B_content))))))))\n",
      "Array(NoLengthAccessor(),\n",
      "      Content(Get(UnboundAccessor('', variable_name=i_1),\n",
      "                  Content(Get(UnboundAccessor('', variable_name=i_0),\n",
      "                              UnboundAccessor('', variable_name=B_content))))))\n",
      "Array(NoLengthAccessor(), UnboundAccessor('', variable_name=i_0))\n"
     ]
    }
   ],
   "source": [
    "Z = AbstractWithDimension(0, \"Z\")\n",
    "A = AbstractWithDimension(1, \"A\")\n",
    "B = AbstractWithDimension(2, \"B\")\n",
    "pprint.pprint(replace(Z))\n",
    "replaced_A = replace(Get(UnboundAccessor(\"i_0\"), Content(A)))\n",
    "pprint.pprint(replaced_A)\n",
    "pprint.pprint(replace(Get(UnboundAccessor(\"i_0\"), Content(B))))\n",
    "pprint.pprint(replace(Get(UnboundAccessor(\"i_1\"), Content(Get(UnboundAccessor(\"i_0\"), Content(B))))))\n",
    "\n",
    "\n",
    "A_value = Iota(scalar(10))\n",
    "A_subs = matchpy.substitute(replaced_A, {\"A_content\": Content(A_value), \"A_shape\": Shape(A_value)})\n",
    "pprint.pprint(replace(A_subs))"
   ]
  },
  {
   "cell_type": "code",
   "execution_count": 16,
   "metadata": {},
   "outputs": [
    {
     "name": "stdout",
     "output_type": "stream",
     "text": [
      "((Array(2, <1 0>) ψ A^3) +·* (Array(1, <2>) ψ ((Array(2, <1 0>) ψ A^3) ·* (Array(2, <0 1>) ψ B^3))))\n"
     ]
    }
   ],
   "source": [
    "A = AbstractWithDimension(3, \"A\")\n",
    "B = AbstractWithDimension(3, \"B\")\n",
    "r = InnerProduct(\n",
    "    Index(vector(1, 0), A),\n",
    "    ScalarAccessor(Add),\n",
    "    ScalarAccessor(Multiply),\n",
    "    Index(\n",
    "        vector(2),\n",
    "        OuterProduct(\n",
    "            Index(vector(1, 0), A),\n",
    "            ScalarAccessor(Multiply),\n",
    "            Index(vector(0, 1), B)\n",
    "        )\n",
    "    )\n",
    ")\n",
    "print(r)"
   ]
  },
  {
   "cell_type": "code",
   "execution_count": null,
   "metadata": {},
   "outputs": [],
   "source": []
  },
  {
   "cell_type": "code",
   "execution_count": 17,
   "metadata": {},
   "outputs": [
    {
     "ename": "ValueError",
     "evalue": "Replacement <function <lambda> at 0x10fc41048>((['    lambda abstract_with_dimension: _abstract_with_dimension(\\n', '        abstract_with_dimension.variable_name, abstract_with_dimension.n\\n', '    ),\\n'], 509)) should return an Expression instead of None",
     "output_type": "error",
     "traceback": [
      "\u001b[0;31m---------------------------------------------------------------------------\u001b[0m",
      "\u001b[0;31mValueError\u001b[0m                                Traceback (most recent call last)",
      "\u001b[0;32m<ipython-input-17-a3f249c3e5d5>\u001b[0m in \u001b[0;36m<module>\u001b[0;34m()\u001b[0m\n\u001b[0;32m----> 1\u001b[0;31m \u001b[0mpprint\u001b[0m\u001b[0;34m.\u001b[0m\u001b[0mpprint\u001b[0m\u001b[0;34m(\u001b[0m\u001b[0mreplace\u001b[0m\u001b[0;34m(\u001b[0m\u001b[0mr\u001b[0m\u001b[0;34m)\u001b[0m\u001b[0;34m)\u001b[0m\u001b[0;34m\u001b[0m\u001b[0m\n\u001b[0m",
      "\u001b[0;32m/usr/local/miniconda3/envs/uarray/lib/python3.7/site-packages/matchpy/matching/many_to_one.py\u001b[0m in \u001b[0;36mreplace\u001b[0;34m(self, expression, max_count, print_steps)\u001b[0m\n\u001b[1;32m    808\u001b[0m                     \u001b[0;32mif\u001b[0m \u001b[0;32mnot\u001b[0m \u001b[0misinstance\u001b[0m\u001b[0;34m(\u001b[0m\u001b[0mresult\u001b[0m \u001b[0;34m,\u001b[0m \u001b[0mExpression\u001b[0m\u001b[0;34m)\u001b[0m\u001b[0;34m:\u001b[0m\u001b[0;34m\u001b[0m\u001b[0m\n\u001b[1;32m    809\u001b[0m                         raise ValueError(\n\u001b[0;32m--> 810\u001b[0;31m                             \u001b[0;34mf'Replacement {replacement}({inspect.getsourcelines(replacement)}) should return an Expression instead of {result}'\u001b[0m\u001b[0;34m\u001b[0m\u001b[0m\n\u001b[0m\u001b[1;32m    811\u001b[0m                         )\n\u001b[1;32m    812\u001b[0m                     \u001b[0;32mif\u001b[0m \u001b[0mprint_steps\u001b[0m\u001b[0;34m:\u001b[0m\u001b[0;34m\u001b[0m\u001b[0m\n",
      "\u001b[0;31mValueError\u001b[0m: Replacement <function <lambda> at 0x10fc41048>((['    lambda abstract_with_dimension: _abstract_with_dimension(\\n', '        abstract_with_dimension.variable_name, abstract_with_dimension.n\\n', '    ),\\n'], 509)) should return an Expression instead of None"
     ]
    }
   ],
   "source": [
    "pprint.pprint(replace(r))"
   ]
  },
  {
   "cell_type": "code",
   "execution_count": null,
   "metadata": {},
   "outputs": [],
   "source": [
    "replaced_r = replace_debug(r, False, 300)\n",
    "print(replaced_r)"
   ]
  },
  {
   "cell_type": "code",
   "execution_count": null,
   "metadata": {},
   "outputs": [],
   "source": [
    "# rhs = replaced_r[-1]\n",
    "# print(rhs)"
   ]
  },
  {
   "cell_type": "code",
   "execution_count": null,
   "metadata": {},
   "outputs": [],
   "source": [
    "# i = AbstractWithDimension(Scalar(0), variable_name=\"i\")\n",
    "\n",
    "# rr_ = Index(Vector(i), rhs)\n",
    "# print(rr_)\n",
    "# rr = replace(rr_)\n",
    "# print(rr)"
   ]
  },
  {
   "cell_type": "code",
   "execution_count": null,
   "metadata": {},
   "outputs": [],
   "source": [
    "# print(replace(Index(Vector(), rr)))"
   ]
  },
  {
   "cell_type": "code",
   "execution_count": null,
   "metadata": {},
   "outputs": [],
   "source": []
  }
 ],
 "metadata": {
  "kernelspec": {
   "display_name": "Python 3",
   "language": "python",
   "name": "python3"
  },
  "language_info": {
   "codemirror_mode": {
    "name": "ipython",
    "version": 3
   },
   "file_extension": ".py",
   "mimetype": "text/x-python",
   "name": "python",
   "nbconvert_exporter": "python",
   "pygments_lexer": "ipython3",
   "version": "3.7.0"
  }
 },
 "nbformat": 4,
 "nbformat_minor": 2
}
