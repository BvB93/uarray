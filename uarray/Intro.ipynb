{
 "cells": [
  {
   "cell_type": "markdown",
   "metadata": {},
   "source": [
    "Let's walk through some of this uarray code to see if it makes sense"
   ]
  },
  {
   "cell_type": "code",
   "execution_count": 1,
   "metadata": {},
   "outputs": [],
   "source": [
    "import uarray"
   ]
  },
  {
   "cell_type": "markdown",
   "metadata": {},
   "source": [
    "In order to get a literal array in, we first just have it as a scalar with the value being a tuple of (shape, data), where data is the array as nested tuples."
   ]
  },
  {
   "cell_type": "code",
   "execution_count": 2,
   "metadata": {},
   "outputs": [
    {
     "name": "stdout",
     "output_type": "stream",
     "text": [
      "Array('[1 2 3 4; ρ=(2, 2)]')\n",
      "[1 2 3 4; ρ=(2, 2)]\n"
     ]
    }
   ],
   "source": [
    "a = uarray.Array((2, 2), (1, 2, 3, 4))\n",
    "print(repr(a))\n",
    "print(a)"
   ]
  },
  {
   "cell_type": "markdown",
   "metadata": {},
   "source": [
    "Now let's see if we can get the shape of that :"
   ]
  },
  {
   "cell_type": "code",
   "execution_count": 3,
   "metadata": {},
   "outputs": [
    {
     "name": "stdout",
     "output_type": "stream",
     "text": [
      "ρ([1 2 3 4; ρ=(2, 2)])\n",
      "<2 2>\n"
     ]
    }
   ],
   "source": [
    "s = uarray.Shape(a)\n",
    "print(s)\n",
    "print(uarray.replace(s))"
   ]
  },
  {
   "cell_type": "markdown",
   "metadata": {},
   "source": [
    "This is a bit more of an involved replacement. Let's see how it works by iterating over the `max_count` of replacements:"
   ]
  },
  {
   "cell_type": "markdown",
   "metadata": {},
   "source": [
    "Now let's turn this back into an array"
   ]
  },
  {
   "cell_type": "code",
   "execution_count": 4,
   "metadata": {},
   "outputs": [
    {
     "data": {
      "text/plain": [
       "AsArray(Shape(Array('[1 2 3 4; ρ=(2, 2)]')))"
      ]
     },
     "execution_count": 4,
     "metadata": {},
     "output_type": "execute_result"
    }
   ],
   "source": [
    "a2 = uarray.AsArray(s)\n",
    "a2"
   ]
  },
  {
   "cell_type": "code",
   "execution_count": 5,
   "metadata": {},
   "outputs": [
    {
     "name": "stdout",
     "output_type": "stream",
     "text": [
      "AsArray(ρ([1 2 3 4; ρ=(2, 2)]))\n",
      "AsArrayWithShape(ρ(ρ([1 2 3 4; ρ=(2, 2)])), ρ([1 2 3 4; ρ=(2, 2)]))\n",
      "AsArrayWithShape(ρ(<2 2>), ρ([1 2 3 4; ρ=(2, 2)]))\n",
      "AsArrayWithShape(<2>, ρ([1 2 3 4; ρ=(2, 2)]))\n",
      "AsArrayWithValues(<2>, (<0> ψ ρ([1 2 3 4; ρ=(2, 2)])), (<1> ψ ρ([1 2 3 4; ρ=(2, 2)])))\n",
      "AsArrayWithValues(<2>, (<0> ψ <2 2>), (<1> ψ ρ([1 2 3 4; ρ=(2, 2)])))\n",
      "AsArrayWithValues(<2>, 2, (<1> ψ ρ([1 2 3 4; ρ=(2, 2)])))\n",
      "AsArrayWithValues(<2>, 2, (<1> ψ <2 2>))\n",
      "AsArrayWithValues(<2>, 2, 2)\n",
      "[2 2; ρ=(2,)]\n",
      "[2 2; ρ=(2,)]\n",
      "[2 2; ρ=(2,)]\n"
     ]
    }
   ],
   "source": [
    "for i in range(12):\n",
    "    print(uarray.replace(a2, i))"
   ]
  },
  {
   "cell_type": "markdown",
   "metadata": {},
   "source": [
    "OK so far this has been pretty boring. Let's define a new array that is lazily computed and convert this to Python:"
   ]
  },
  {
   "cell_type": "code",
   "execution_count": 6,
   "metadata": {},
   "outputs": [],
   "source": [
    "import matchpy"
   ]
  },
  {
   "cell_type": "code",
   "execution_count": 7,
   "metadata": {},
   "outputs": [],
   "source": [
    "class SumIndex(matchpy.Symbol):\n",
    "    def __init__(self, shape):\n",
    "        self.shape = shape\n",
    "        super().__init__(f\"SumIndex({repr(shape)})\", None)"
   ]
  },
  {
   "cell_type": "code",
   "execution_count": 8,
   "metadata": {},
   "outputs": [],
   "source": [
    "sum_index = matchpy.Wildcard.symbol(\"sum_index\", SumIndex)"
   ]
  },
  {
   "cell_type": "code",
   "execution_count": 9,
   "metadata": {},
   "outputs": [],
   "source": [
    "uarray.register(uarray.Index(uarray.vector, sum_index), lambda vector, sum_index: uarray.Scalar(sum(vector.values)))\n",
    "uarray.register(uarray.Shape(sum_index), lambda sum_index: uarray.Vector(*sum_index.shape))"
   ]
  },
  {
   "cell_type": "markdown",
   "metadata": {},
   "source": [
    "Now let's see if can convert one of these to a concrete array:"
   ]
  },
  {
   "cell_type": "code",
   "execution_count": 10,
   "metadata": {},
   "outputs": [
    {
     "name": "stdout",
     "output_type": "stream",
     "text": [
      "AsArray(SumIndex((2, 2, 2)))\n"
     ]
    }
   ],
   "source": [
    "expr = uarray.AsArray(SumIndex((2, 2, 2)))\n",
    "print(expr)"
   ]
  },
  {
   "cell_type": "code",
   "execution_count": 11,
   "metadata": {},
   "outputs": [
    {
     "data": {
      "text/plain": [
       "Array('[0 1 1 2 1 2 2 3; ρ=(2, 2, 2)]')"
      ]
     },
     "execution_count": 11,
     "metadata": {},
     "output_type": "execute_result"
    }
   ],
   "source": [
    "uarray.replace(expr)"
   ]
  },
  {
   "cell_type": "markdown",
   "metadata": {},
   "source": [
    "Would be nice to print this better, but it seems right. let's take a look at the trace:"
   ]
  },
  {
   "cell_type": "code",
   "execution_count": 13,
   "metadata": {},
   "outputs": [
    {
     "name": "stdout",
     "output_type": "stream",
     "text": [
      "AsArray(SumIndex((2, 2, 2)))\n",
      "AsArrayWithShape(ρ(SumIndex((2, 2, 2))), SumIndex((2, 2, 2)))\n",
      "AsArrayWithShape(<2 2 2>, SumIndex((2, 2, 2)))\n",
      "AsArrayWithValues(<2 2 2>, (<0 0 0> ψ SumIndex((2, 2, 2))), (<0 0 1> ψ SumIndex((2, 2, 2))), (<0 1 0> ψ SumIndex((2, 2, 2))), (<0 1 1> ψ SumIndex((2, 2, 2))), (<1 0 0> ψ SumIndex((2, 2, 2))), (<1 0 1> ψ SumIndex((2, 2, 2))), (<1 1 0> ψ SumIndex((2, 2, 2))), (<1 1 1> ψ SumIndex((2, 2, 2))))\n",
      "AsArrayWithValues(<2 2 2>, 0, (<0 0 1> ψ SumIndex((2, 2, 2))), (<0 1 0> ψ SumIndex((2, 2, 2))), (<0 1 1> ψ SumIndex((2, 2, 2))), (<1 0 0> ψ SumIndex((2, 2, 2))), (<1 0 1> ψ SumIndex((2, 2, 2))), (<1 1 0> ψ SumIndex((2, 2, 2))), (<1 1 1> ψ SumIndex((2, 2, 2))))\n",
      "AsArrayWithValues(<2 2 2>, 0, 1, (<0 1 0> ψ SumIndex((2, 2, 2))), (<0 1 1> ψ SumIndex((2, 2, 2))), (<1 0 0> ψ SumIndex((2, 2, 2))), (<1 0 1> ψ SumIndex((2, 2, 2))), (<1 1 0> ψ SumIndex((2, 2, 2))), (<1 1 1> ψ SumIndex((2, 2, 2))))\n",
      "AsArrayWithValues(<2 2 2>, 0, 1, 1, (<0 1 1> ψ SumIndex((2, 2, 2))), (<1 0 0> ψ SumIndex((2, 2, 2))), (<1 0 1> ψ SumIndex((2, 2, 2))), (<1 1 0> ψ SumIndex((2, 2, 2))), (<1 1 1> ψ SumIndex((2, 2, 2))))\n",
      "AsArrayWithValues(<2 2 2>, 0, 1, 1, 2, (<1 0 0> ψ SumIndex((2, 2, 2))), (<1 0 1> ψ SumIndex((2, 2, 2))), (<1 1 0> ψ SumIndex((2, 2, 2))), (<1 1 1> ψ SumIndex((2, 2, 2))))\n",
      "AsArrayWithValues(<2 2 2>, 0, 1, 1, 2, 1, (<1 0 1> ψ SumIndex((2, 2, 2))), (<1 1 0> ψ SumIndex((2, 2, 2))), (<1 1 1> ψ SumIndex((2, 2, 2))))\n",
      "AsArrayWithValues(<2 2 2>, 0, 1, 1, 2, 1, 2, (<1 1 0> ψ SumIndex((2, 2, 2))), (<1 1 1> ψ SumIndex((2, 2, 2))))\n"
     ]
    }
   ],
   "source": [
    "uarray.replace_debug(expr)"
   ]
  },
  {
   "cell_type": "markdown",
   "metadata": {},
   "source": [
    "You can see that it expands this out into indexing all values into the array, using it's shape to calculate what these should be."
   ]
  }
 ],
 "metadata": {
  "kernelspec": {
   "display_name": "Python 3",
   "language": "python",
   "name": "python3"
  },
  "language_info": {
   "codemirror_mode": {
    "name": "ipython",
    "version": 3
   },
   "file_extension": ".py",
   "mimetype": "text/x-python",
   "name": "python",
   "nbconvert_exporter": "python",
   "pygments_lexer": "ipython3",
   "version": "3.7.0"
  }
 },
 "nbformat": 4,
 "nbformat_minor": 2
}
