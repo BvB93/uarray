{
 "cells": [
  {
   "cell_type": "markdown",
   "metadata": {},
   "source": [
    "# Introduction"
   ]
  },
  {
   "cell_type": "code",
   "execution_count": 1,
   "metadata": {},
   "outputs": [],
   "source": [
    "from uarray import *"
   ]
  },
  {
   "cell_type": "markdown",
   "metadata": {},
   "source": [
    "## Creating Arrays"
   ]
  },
  {
   "cell_type": "markdown",
   "metadata": {},
   "source": [
    "Everything (Operations and Symbols) are one of two types:\n",
    "\n",
    "* Arrays: Reduce down to Array(length: Accessor, content: Accessor)\n",
    "* Accessors: Accessors support calling Get(index: Accessor, content: Accessor) -> Array"
   ]
  },
  {
   "cell_type": "markdown",
   "metadata": {},
   "source": [
    "### Scalar"
   ]
  },
  {
   "cell_type": "markdown",
   "metadata": {},
   "source": [
    "We can add custom values as scalars:"
   ]
  },
  {
   "cell_type": "code",
   "execution_count": 2,
   "metadata": {},
   "outputs": [
    {
     "name": "stdout",
     "output_type": "stream",
     "text": [
      "Array(NoLengthAccessor(), 123)\n"
     ]
    },
    {
     "data": {
      "text/plain": [
       "Array(NoLengthAccessor(), ScalarAccessor('123'))"
      ]
     },
     "execution_count": 2,
     "metadata": {},
     "output_type": "execute_result"
    }
   ],
   "source": [
    "a_scalar = scalar(123)\n",
    "print(a_scalar)\n",
    "a_scalar"
   ]
  },
  {
   "cell_type": "markdown",
   "metadata": {},
   "source": [
    "We see that it's an Array with a length of `NoLengthAccessor()` and a content of `ScalarAccessor(123)`."
   ]
  },
  {
   "cell_type": "markdown",
   "metadata": {},
   "source": [
    "Now we can take the shape of a scalar:"
   ]
  },
  {
   "cell_type": "code",
   "execution_count": 3,
   "metadata": {},
   "outputs": [
    {
     "data": {
      "text/plain": [
       "Shape(Array(NoLengthAccessor(), ScalarAccessor('123')))"
      ]
     },
     "execution_count": 3,
     "metadata": {},
     "output_type": "execute_result"
    }
   ],
   "source": [
    "a_scalar_shape = Shape(a_scalar)\n",
    "a_scalar_shape"
   ]
  },
  {
   "cell_type": "markdown",
   "metadata": {},
   "source": [
    "We see that the shape is not computed.\n",
    "\n",
    "It just contains a reference to the arrays it operates on:"
   ]
  },
  {
   "cell_type": "code",
   "execution_count": 4,
   "metadata": {},
   "outputs": [
    {
     "data": {
      "text/plain": [
       "[Array(NoLengthAccessor(), ScalarAccessor('123'))]"
      ]
     },
     "execution_count": 4,
     "metadata": {},
     "output_type": "execute_result"
    }
   ],
   "source": [
    "a_scalar_shape.operands"
   ]
  },
  {
   "cell_type": "markdown",
   "metadata": {},
   "source": [
    "It also has a shorter representation we can print based on the Mathematics of Arrays symbols:"
   ]
  },
  {
   "cell_type": "code",
   "execution_count": 5,
   "metadata": {},
   "outputs": [
    {
     "name": "stdout",
     "output_type": "stream",
     "text": [
      "ρ(Array(NoLengthAccessor(), 123))\n"
     ]
    }
   ],
   "source": [
    "print(a_scalar_shape)"
   ]
  },
  {
   "cell_type": "markdown",
   "metadata": {},
   "source": [
    "We call `replace` to keep replacing expressions until no more are matched:"
   ]
  },
  {
   "cell_type": "code",
   "execution_count": 6,
   "metadata": {},
   "outputs": [
    {
     "name": "stdout",
     "output_type": "stream",
     "text": [
      "ρ(Array(NoLengthAccessor(), 123))\n",
      "\n",
      "  Shape(Array(NoLengthAccessor(), ScalarAccessor('123')))\n",
      "->ShapeInner(ScalarAccessor('()'), Array(NoLengthAccessor(), ScalarAccessor('123')))\n",
      "\n",
      "ShapeInner((), Array(NoLengthAccessor(), 123))\n",
      "\n",
      "  ShapeInner(ScalarAccessor('()'), Array(NoLengthAccessor(), ScalarAccessor('123')))\n",
      "->Array(ScalarAccessor('0'), VectorAccessor())\n",
      "\n",
      "Array(0, <>)\n"
     ]
    },
    {
     "data": {
      "text/plain": [
       "Array(ScalarAccessor('0'), VectorAccessor())"
      ]
     },
     "execution_count": 6,
     "metadata": {},
     "output_type": "execute_result"
    }
   ],
   "source": [
    "replace_debug(a_scalar_shape, False)"
   ]
  },
  {
   "cell_type": "markdown",
   "metadata": {},
   "source": [
    "### Vector"
   ]
  },
  {
   "cell_type": "markdown",
   "metadata": {},
   "source": [
    "We see that the shape of a scalar is `VectorAccessor`. We can create arrays with vector accessors with the `vector` helper functions."
   ]
  },
  {
   "cell_type": "code",
   "execution_count": 7,
   "metadata": {},
   "outputs": [
    {
     "data": {
      "text/plain": [
       "\u001b[0;31mSignature:\u001b[0m \u001b[0mvector\u001b[0m\u001b[0;34m(\u001b[0m\u001b[0;34m*\u001b[0m\u001b[0mvalues\u001b[0m\u001b[0;34m)\u001b[0m\u001b[0;34m\u001b[0m\u001b[0m\n",
       "\u001b[0;31mDocstring:\u001b[0m <no docstring>\n",
       "\u001b[0;31mSource:\u001b[0m   \n",
       "\u001b[0;32mdef\u001b[0m \u001b[0mvector\u001b[0m\u001b[0;34m(\u001b[0m\u001b[0;34m*\u001b[0m\u001b[0mvalues\u001b[0m\u001b[0;34m)\u001b[0m\u001b[0;34m:\u001b[0m\u001b[0;34m\u001b[0m\n",
       "\u001b[0;34m\u001b[0m    \u001b[0;32mreturn\u001b[0m \u001b[0mvector_of\u001b[0m\u001b[0;34m(\u001b[0m\u001b[0;34m*\u001b[0m\u001b[0;34m(\u001b[0m\u001b[0mScalarAccessor\u001b[0m\u001b[0;34m(\u001b[0m\u001b[0mv\u001b[0m\u001b[0;34m)\u001b[0m \u001b[0;32mfor\u001b[0m \u001b[0mv\u001b[0m \u001b[0;32min\u001b[0m \u001b[0mvalues\u001b[0m\u001b[0;34m)\u001b[0m\u001b[0;34m)\u001b[0m\u001b[0;34m\u001b[0m\u001b[0m\n",
       "\u001b[0;31mFile:\u001b[0m      ~/p/uarray/uarray/uarray.py\n",
       "\u001b[0;31mType:\u001b[0m      function\n"
      ]
     },
     "metadata": {},
     "output_type": "display_data"
    }
   ],
   "source": [
    "??vector"
   ]
  },
  {
   "cell_type": "code",
   "execution_count": 8,
   "metadata": {},
   "outputs": [
    {
     "name": "stdout",
     "output_type": "stream",
     "text": [
      "Array(3, <1 2 3>)\n"
     ]
    },
    {
     "data": {
      "text/plain": [
       "Array(ScalarAccessor('3'), VectorAccessor(ScalarAccessor('1'), ScalarAccessor('2'), ScalarAccessor('3')))"
      ]
     },
     "execution_count": 8,
     "metadata": {},
     "output_type": "execute_result"
    }
   ],
   "source": [
    "a_vector = vector(1, 2, 3)\n",
    "print(a_vector)\n",
    "a_vector"
   ]
  },
  {
   "cell_type": "markdown",
   "metadata": {},
   "source": [
    "We can see the shape of a vector:"
   ]
  },
  {
   "cell_type": "code",
   "execution_count": 9,
   "metadata": {},
   "outputs": [
    {
     "name": "stdout",
     "output_type": "stream",
     "text": [
      "Array(1, <3>)\n"
     ]
    }
   ],
   "source": [
    "a_vector_shape = replace(Shape(a_vector))\n",
    "print(a_vector_shape)"
   ]
  },
  {
   "cell_type": "markdown",
   "metadata": {},
   "source": [
    "Which is itself a vector. "
   ]
  },
  {
   "cell_type": "markdown",
   "metadata": {},
   "source": [
    "### Iota"
   ]
  },
  {
   "cell_type": "markdown",
   "metadata": {},
   "source": [
    "Now let's do something more interesting and create a range of values:"
   ]
  },
  {
   "cell_type": "code",
   "execution_count": 10,
   "metadata": {},
   "outputs": [
    {
     "name": "stdout",
     "output_type": "stream",
     "text": [
      "ι(Array(NoLengthAccessor(), 10))\n"
     ]
    }
   ],
   "source": [
    "a_range = Iota(scalar(10))\n",
    "print(a_range)"
   ]
  },
  {
   "cell_type": "code",
   "execution_count": 11,
   "metadata": {},
   "outputs": [
    {
     "name": "stdout",
     "output_type": "stream",
     "text": [
      "Array(1, <10>)\n"
     ]
    }
   ],
   "source": [
    "print(replace(Shape(a_range)))"
   ]
  },
  {
   "cell_type": "markdown",
   "metadata": {},
   "source": [
    "This is a vector of length 10. Let's see that the 5th element is the integer 5."
   ]
  },
  {
   "cell_type": "code",
   "execution_count": 12,
   "metadata": {},
   "outputs": [
    {
     "name": "stdout",
     "output_type": "stream",
     "text": [
      "Array(NoLengthAccessor(), 5)\n"
     ]
    }
   ],
   "source": [
    "print(replace(Index(vector(5), a_range)))"
   ]
  },
  {
   "cell_type": "markdown",
   "metadata": {},
   "source": [
    "Here we use a new command `Index` which takes in a vector of indices and the an array and returns a subarray."
   ]
  },
  {
   "cell_type": "markdown",
   "metadata": {},
   "source": [
    "Let's try adding taking it's sum:"
   ]
  },
  {
   "cell_type": "code",
   "execution_count": 13,
   "metadata": {},
   "outputs": [
    {
     "data": {
      "text/plain": [
       "Array(NoLengthAccessor(), ScalarAccessor('45'))"
      ]
     },
     "execution_count": 13,
     "metadata": {},
     "output_type": "execute_result"
    }
   ],
   "source": [
    "replace(ReduceVector(scalar(0), ScalarAccessor(Add), a_range))"
   ]
  },
  {
   "cell_type": "code",
   "execution_count": 14,
   "metadata": {},
   "outputs": [
    {
     "data": {
      "text/plain": [
       "45"
      ]
     },
     "execution_count": 14,
     "metadata": {},
     "output_type": "execute_result"
    }
   ],
   "source": [
    "sum(range(10))"
   ]
  },
  {
   "cell_type": "markdown",
   "metadata": {},
   "source": [
    "## Abstract Variables"
   ]
  },
  {
   "cell_type": "markdown",
   "metadata": {},
   "source": [
    "Let's look at how abstract variables are implemented.\n"
   ]
  },
  {
   "cell_type": "markdown",
   "metadata": {},
   "source": [
    "### 0D\n",
    "We can make one that is an anstract 0D scalar:"
   ]
  },
  {
   "cell_type": "code",
   "execution_count": 15,
   "metadata": {},
   "outputs": [
    {
     "name": "stdout",
     "output_type": "stream",
     "text": [
      "Z^0\n",
      "Array(NoLengthAccessor(), UnboundAccessor('', variable_name=Z_content))\n"
     ]
    }
   ],
   "source": [
    "Z = AbstractWithDimension(0, \"Z\")\n",
    "print(Z)\n",
    "replaced_Z = replace(Z)\n",
    "pprint.pprint(replaced_Z)"
   ]
  },
  {
   "cell_type": "markdown",
   "metadata": {},
   "source": [
    "We see that the content of this is given the name `Z_content`. We can then replace that later with the actual value, after it has been simplified:"
   ]
  },
  {
   "cell_type": "code",
   "execution_count": 16,
   "metadata": {},
   "outputs": [
    {
     "data": {
      "text/plain": [
       "Array(NoLengthAccessor(), ScalarAccessor('10'))"
      ]
     },
     "execution_count": 16,
     "metadata": {},
     "output_type": "execute_result"
    }
   ],
   "source": [
    "replace(matchpy.substitute(replaced_Z, {\"Z_content\": ScalarAccessor(10)}))"
   ]
  },
  {
   "cell_type": "markdown",
   "metadata": {},
   "source": [
    "### 1D"
   ]
  },
  {
   "cell_type": "markdown",
   "metadata": {},
   "source": [
    "This is all fine and good, but what about an array with more dimensions, like a 1D array?"
   ]
  },
  {
   "cell_type": "code",
   "execution_count": 17,
   "metadata": {},
   "outputs": [
    {
     "name": "stdout",
     "output_type": "stream",
     "text": [
      "A^1\n",
      "Array(Content(Get(ScalarAccessor('0'),\n",
      "                  UnboundAccessor('', variable_name=A_shape))),\n",
      "      ForwardGetAccessor(Array(NoLengthAccessor(),\n",
      "                               UnboundAccessor('', variable_name=A_content))))\n"
     ]
    }
   ],
   "source": [
    "A = AbstractWithDimension(1, \"A\")\n",
    "print(A)\n",
    "replaced_A = replace(A)\n",
    "pprint.pprint(replaced_A)"
   ]
  },
  {
   "cell_type": "markdown",
   "metadata": {},
   "source": [
    "We can get the shape of this:"
   ]
  },
  {
   "cell_type": "code",
   "execution_count": 18,
   "metadata": {},
   "outputs": [
    {
     "name": "stdout",
     "output_type": "stream",
     "text": [
      "Array(1, <Content(Get(0, UnboundAccessor(A_shape)))>)\n"
     ]
    }
   ],
   "source": [
    "replaced_shape_a = replace(Shape(replaced_A))\n",
    "print(replaced_shape_a)"
   ]
  },
  {
   "cell_type": "markdown",
   "metadata": {},
   "source": [
    "It's a bit weird, but it makes sense if you squint. The `A_shape` is an accesor that returns the shape. So the shape is an array of length 1 where the first element is a scalar that is getting the first element from the shape. Yes it's not that intuitive and we could write some special case rewrite rules to clean this up (like if a vecto contains just a bunch of get values of another accessor, just replace it with that), but it works!"
   ]
  },
  {
   "cell_type": "code",
   "execution_count": 19,
   "metadata": {},
   "outputs": [
    {
     "name": "stdout",
     "output_type": "stream",
     "text": [
      "Array(1, <10>)\n"
     ]
    }
   ],
   "source": [
    "actual_shape_accesor = VectorAccessor(ScalarAccessor(10))\n",
    "print(replace(matchpy.substitute(replaced_shape_a, {\"A_shape\": actual_shape_accesor})))"
   ]
  },
  {
   "cell_type": "markdown",
   "metadata": {},
   "source": [
    "Now let's get an item from this:"
   ]
  },
  {
   "cell_type": "code",
   "execution_count": 20,
   "metadata": {},
   "outputs": [
    {
     "name": "stdout",
     "output_type": "stream",
     "text": [
      "Array(NoLengthAccessor(), Content(Get(10, UnboundAccessor(A_content))))\n"
     ]
    }
   ],
   "source": [
    "replaced_get_A = replace(Get(ScalarAccessor(10), Content(A)))\n",
    "print(replaced_get_A)"
   ]
  },
  {
   "cell_type": "markdown",
   "metadata": {},
   "source": [
    "### 2D\n",
    "\n",
    "Now let's make a matrix\n"
   ]
  },
  {
   "cell_type": "code",
   "execution_count": 21,
   "metadata": {},
   "outputs": [],
   "source": [
    "B = AbstractWithDimension(2, \"B\")\n"
   ]
  },
  {
   "cell_type": "code",
   "execution_count": 22,
   "metadata": {},
   "outputs": [
    {
     "name": "stdout",
     "output_type": "stream",
     "text": [
      "Array(Content(Get(ScalarAccessor('0'),\n",
      "                  UnboundAccessor('', variable_name=B_shape))),\n",
      "      GetBySubstituting(ScalarAccessor(\"'idx_5'\"),\n",
      "                        Array(Content(Get(ScalarAccessor('1'),\n",
      "                                          UnboundAccessor('', variable_name=B_shape))),\n",
      "                              ForwardGetAccessor(Array(NoLengthAccessor(),\n",
      "                                                       Content(Get(UnboundAccessor('', variable_name=idx_5),\n",
      "                                                                   UnboundAccessor('', variable_name=B_content))))))))\n"
     ]
    }
   ],
   "source": [
    "pprint.pprint(replace(B))"
   ]
  },
  {
   "cell_type": "code",
   "execution_count": 23,
   "metadata": {},
   "outputs": [
    {
     "name": "stdout",
     "output_type": "stream",
     "text": [
      "Array(NoLengthAccessor(),\n",
      "      Content(Get(UnboundAccessor('', variable_name=j),\n",
      "                  Content(Get(UnboundAccessor('', variable_name=i),\n",
      "                              UnboundAccessor('', variable_name=B_content))))))\n"
     ]
    }
   ],
   "source": [
    "pprint.pprint(replace(Get(UnboundAccessor(\"j\"), Content(Get(UnboundAccessor(\"i\"), Content(replace(B)))))))"
   ]
  },
  {
   "cell_type": "code",
   "execution_count": 24,
   "metadata": {},
   "outputs": [],
   "source": [
    "# A_value = Iota(scalar(10))\n",
    "# A_subs = matchpy.substitute(replaced_A, {\"A_content\": Content(A_value), \"A_shape\": Shape(A_value)})\n",
    "# pprint.pprint(replace(A_subs))"
   ]
  },
  {
   "cell_type": "markdown",
   "metadata": {},
   "source": [
    "# Paper Example"
   ]
  },
  {
   "cell_type": "markdown",
   "metadata": {},
   "source": [
    "Now let's look at the example from the paper in `uarray-docs`."
   ]
  },
  {
   "cell_type": "code",
   "execution_count": 25,
   "metadata": {},
   "outputs": [
    {
     "name": "stdout",
     "output_type": "stream",
     "text": [
      "((Array(2, <1 0>) ψ A^3) +·* (Array(1, <2>) ψ ((Array(2, <1 0>) ψ A^3) ·* (Array(2, <0 1>) ψ B^3))))\n"
     ]
    }
   ],
   "source": [
    "A = AbstractWithDimension(3, \"A\")\n",
    "B = AbstractWithDimension(3, \"B\")\n",
    "r = InnerProduct(\n",
    "    Index(vector(1, 0), A),\n",
    "    ScalarAccessor(Add),\n",
    "    ScalarAccessor(Multiply),\n",
    "    Index(\n",
    "        vector(2),\n",
    "        OuterProduct(\n",
    "            Index(vector(1, 0), A),\n",
    "            ScalarAccessor(Multiply),\n",
    "            Index(vector(0, 1), B)\n",
    "        )\n",
    "    )\n",
    ")\n",
    "print(r)"
   ]
  },
  {
   "cell_type": "code",
   "execution_count": 26,
   "metadata": {},
   "outputs": [
    {
     "name": "stdout",
     "output_type": "stream",
     "text": [
      "BinaryOperation(Array(NoLengthAccessor(),\n",
      "                      Content(Get(ScalarAccessor('2'),\n",
      "                                  Content(Get(ScalarAccessor('0'),\n",
      "                                              Content(Get(ScalarAccessor('1'),\n",
      "                                                          UnboundAccessor('', variable_name=A_content)))))))),\n",
      "                ScalarAccessor(\"Multiply['*', Arity(min_count=2, fixed_size=True), infix]\"),\n",
      "                InnerProduct(Array(Content(Get(ScalarAccessor('2'),\n",
      "                                               UnboundAccessor('', variable_name=A_shape))),\n",
      "                                   ForwardGetAccessor(Array(NoLengthAccessor(),\n",
      "                                                            Content(Get(ScalarAccessor('0'),\n",
      "                                                                        Content(Get(ScalarAccessor('1'),\n",
      "                                                                                    UnboundAccessor('', variable_name=A_content)))))))),\n",
      "                             ScalarAccessor(\"Add['+', Arity(min_count=2, fixed_size=True), infix]\"),\n",
      "                             ScalarAccessor(\"Multiply['*', Arity(min_count=2, fixed_size=True), infix]\"),\n",
      "                             Array(Content(Get(ScalarAccessor('2'),\n",
      "                                               UnboundAccessor('', variable_name=B_shape))),\n",
      "                                   ForwardGetAccessor(Array(NoLengthAccessor(),\n",
      "                                                            Content(Get(ScalarAccessor('1'),\n",
      "                                                                        Content(Get(ScalarAccessor('0'),\n",
      "                                                                                    UnboundAccessor('', variable_name=B_content))))))))))\n"
     ]
    }
   ],
   "source": [
    "replaced_r = replace(r)\n",
    "pprint.pprint(replaced_r)"
   ]
  },
  {
   "cell_type": "markdown",
   "metadata": {},
   "source": [
    "This is a bit opaque, but does represent the right optimized form. Let's now conver this to a string of NumPy code:"
   ]
  },
  {
   "cell_type": "code",
   "execution_count": 27,
   "metadata": {},
   "outputs": [],
   "source": [
    "import numpy as np"
   ]
  },
  {
   "cell_type": "code",
   "execution_count": 28,
   "metadata": {},
   "outputs": [],
   "source": [
    "A = np.arange(30).reshape((2, 3, 5))\n",
    "B = 2 + A"
   ]
  },
  {
   "cell_type": "code",
   "execution_count": 30,
   "metadata": {},
   "outputs": [
    {
     "data": {
      "text/plain": [
       "NumpyAccessor(\"'A[1][0][2] * np.inner(A[1][0][:], B[0][1][:])'\")"
      ]
     },
     "execution_count": 30,
     "metadata": {},
     "output_type": "execute_result"
    }
   ],
   "source": [
    "res = replace(matchpy.substitute(replaced_r, {\"A_content\": NumpyAccessor(\"A\"), \"B_content\": NumpyAccessor(\"B\")}))\n",
    "res"
   ]
  },
  {
   "cell_type": "code",
   "execution_count": 32,
   "metadata": {},
   "outputs": [
    {
     "data": {
      "text/plain": [
       "13175"
      ]
     },
     "execution_count": 32,
     "metadata": {},
     "output_type": "execute_result"
    }
   ],
   "source": [
    "eval(res.code)"
   ]
  }
 ],
 "metadata": {
  "kernelspec": {
   "display_name": "Python 3",
   "language": "python",
   "name": "python3"
  },
  "language_info": {
   "codemirror_mode": {
    "name": "ipython",
    "version": 3
   },
   "file_extension": ".py",
   "mimetype": "text/x-python",
   "name": "python",
   "nbconvert_exporter": "python",
   "pygments_lexer": "ipython3",
   "version": "3.7.0"
  }
 },
 "nbformat": 4,
 "nbformat_minor": 2
}
