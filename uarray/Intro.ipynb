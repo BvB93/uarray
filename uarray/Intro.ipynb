{
 "cells": [
  {
   "cell_type": "markdown",
   "metadata": {},
   "source": [
    "# Introduction"
   ]
  },
  {
   "cell_type": "code",
   "execution_count": 1,
   "metadata": {},
   "outputs": [],
   "source": [
    "from uarray import *\n",
    "import pprint"
   ]
  },
  {
   "cell_type": "markdown",
   "metadata": {},
   "source": [
    "## Creating Arrays"
   ]
  },
  {
   "cell_type": "markdown",
   "metadata": {},
   "source": [
    "Everything (Operations and Symbols) are one of two types:\n",
    "\n",
    "* Arrays: Reduce down to Array(length: Accessor, content: Accessor)\n",
    "* Accessors: Accessors support calling Get(index: Accessor, content: Accessor) -> Array"
   ]
  },
  {
   "cell_type": "markdown",
   "metadata": {},
   "source": [
    "### Scalar"
   ]
  },
  {
   "cell_type": "markdown",
   "metadata": {},
   "source": [
    "We can add custom values as scalars:"
   ]
  },
  {
   "cell_type": "code",
   "execution_count": 2,
   "metadata": {},
   "outputs": [
    {
     "name": "stdout",
     "output_type": "stream",
     "text": [
      "123\n"
     ]
    },
    {
     "data": {
      "text/plain": [
       "Scalar(Value('123'))"
      ]
     },
     "execution_count": 2,
     "metadata": {},
     "output_type": "execute_result"
    }
   ],
   "source": [
    "a_scalar = scalar(123)\n",
    "print(a_scalar)\n",
    "a_scalar"
   ]
  },
  {
   "cell_type": "markdown",
   "metadata": {},
   "source": [
    "We see that it's an Array with a length of `NoLengthAccessor()` and a content of `ScalarAccessor(123)`."
   ]
  },
  {
   "cell_type": "markdown",
   "metadata": {},
   "source": [
    "Now we can take the shape of a scalar:"
   ]
  },
  {
   "cell_type": "code",
   "execution_count": 3,
   "metadata": {},
   "outputs": [
    {
     "data": {
      "text/plain": [
       "Shape(Scalar(Value('123')))"
      ]
     },
     "execution_count": 3,
     "metadata": {},
     "output_type": "execute_result"
    }
   ],
   "source": [
    "a_scalar_shape = Shape(a_scalar)\n",
    "a_scalar_shape"
   ]
  },
  {
   "cell_type": "markdown",
   "metadata": {},
   "source": [
    "We see that the shape is not computed.\n",
    "\n",
    "It just contains a reference to the arrays it operates on:"
   ]
  },
  {
   "cell_type": "code",
   "execution_count": 4,
   "metadata": {},
   "outputs": [
    {
     "data": {
      "text/plain": [
       "[Scalar(Value('123'))]"
      ]
     },
     "execution_count": 4,
     "metadata": {},
     "output_type": "execute_result"
    }
   ],
   "source": [
    "a_scalar_shape.operands"
   ]
  },
  {
   "cell_type": "markdown",
   "metadata": {},
   "source": [
    "It also has a shorter representation we can print based on the Mathematics of Arrays symbols:"
   ]
  },
  {
   "cell_type": "code",
   "execution_count": 5,
   "metadata": {},
   "outputs": [
    {
     "name": "stdout",
     "output_type": "stream",
     "text": [
      "ρ(123)\n"
     ]
    }
   ],
   "source": [
    "print(a_scalar_shape)"
   ]
  },
  {
   "cell_type": "markdown",
   "metadata": {},
   "source": [
    "We call `replace` to keep replacing expressions until no more are matched:"
   ]
  },
  {
   "cell_type": "code",
   "execution_count": 6,
   "metadata": {},
   "outputs": [
    {
     "name": "stdout",
     "output_type": "stream",
     "text": [
      "Sequence(0, <>)\n"
     ]
    }
   ],
   "source": [
    "print(replace(a_scalar_shape))"
   ]
  },
  {
   "cell_type": "markdown",
   "metadata": {},
   "source": [
    "### Vector"
   ]
  },
  {
   "cell_type": "markdown",
   "metadata": {},
   "source": [
    "We see that the shape of a scalar is `VectorAccessor`. We can create arrays with vector accessors with the `vector` helper functions."
   ]
  },
  {
   "cell_type": "code",
   "execution_count": 7,
   "metadata": {},
   "outputs": [
    {
     "data": {
      "text/plain": [
       "\u001b[0;31mSignature:\u001b[0m \u001b[0mvector\u001b[0m\u001b[0;34m(\u001b[0m\u001b[0;34m*\u001b[0m\u001b[0mvalues\u001b[0m\u001b[0;34m)\u001b[0m\u001b[0;34m\u001b[0m\u001b[0m\n",
       "\u001b[0;31mDocstring:\u001b[0m <no docstring>\n",
       "\u001b[0;31mSource:\u001b[0m   \n",
       "\u001b[0;32mdef\u001b[0m \u001b[0mvector\u001b[0m\u001b[0;34m(\u001b[0m\u001b[0;34m*\u001b[0m\u001b[0mvalues\u001b[0m\u001b[0;34m)\u001b[0m\u001b[0;34m:\u001b[0m\u001b[0;34m\u001b[0m\n",
       "\u001b[0;34m\u001b[0m    \u001b[0;32mreturn\u001b[0m \u001b[0mvector_of\u001b[0m\u001b[0;34m(\u001b[0m\u001b[0;34m*\u001b[0m\u001b[0;34m(\u001b[0m\u001b[0mValue\u001b[0m\u001b[0;34m(\u001b[0m\u001b[0mv\u001b[0m\u001b[0;34m)\u001b[0m \u001b[0;32mfor\u001b[0m \u001b[0mv\u001b[0m \u001b[0;32min\u001b[0m \u001b[0mvalues\u001b[0m\u001b[0;34m)\u001b[0m\u001b[0;34m)\u001b[0m\u001b[0;34m\u001b[0m\u001b[0m\n",
       "\u001b[0;31mFile:\u001b[0m      ~/p/uarray/uarray/uarray/core.py\n",
       "\u001b[0;31mType:\u001b[0m      function\n"
      ]
     },
     "metadata": {},
     "output_type": "display_data"
    }
   ],
   "source": [
    "??vector"
   ]
  },
  {
   "cell_type": "code",
   "execution_count": 8,
   "metadata": {},
   "outputs": [
    {
     "name": "stdout",
     "output_type": "stream",
     "text": [
      "Sequence(3, <1 2 3>)\n"
     ]
    },
    {
     "data": {
      "text/plain": [
       "Sequence(Value('3'), VectorCallable(Value('1'), Value('2'), Value('3')))"
      ]
     },
     "execution_count": 8,
     "metadata": {},
     "output_type": "execute_result"
    }
   ],
   "source": [
    "a_vector = vector(1, 2, 3)\n",
    "print(a_vector)\n",
    "a_vector"
   ]
  },
  {
   "cell_type": "markdown",
   "metadata": {},
   "source": [
    "We can see the shape of a vector:"
   ]
  },
  {
   "cell_type": "code",
   "execution_count": 9,
   "metadata": {},
   "outputs": [
    {
     "name": "stdout",
     "output_type": "stream",
     "text": [
      "Sequence((1 + ExtractLength(ρ(Call(<1 2 3>, _)))), <3, *Content(ρ(Call(<1 2 3>, _)))>)\n",
      "Sequence((1 + ExtractLength(ρ(VectorIndexed(_, 1, 2, 3)))), <3, *Content(ρ(Call(<1 2 3>, _)))>)\n",
      "Sequence((1 + ExtractLength(Sequence(0, <>))), <3, *Content(ρ(Call(<1 2 3>, _)))>)\n",
      "Sequence((1 + 0), <3, *Content(ρ(Call(<1 2 3>, _)))>)\n",
      "Sequence(1, <3, *Content(ρ(Call(<1 2 3>, _)))>)\n",
      "Sequence(1, <3, *Content(ρ(VectorIndexed(_, 1, 2, 3)))>)\n",
      "Sequence(1, <3, *Content(Sequence(0, <>))>)\n",
      "Sequence(1, <3, *<>>)\n",
      "Sequence(1, <3>)\n"
     ]
    }
   ],
   "source": [
    "for x in Shape(a_vector).r:\n",
    "    print(x)"
   ]
  },
  {
   "cell_type": "markdown",
   "metadata": {},
   "source": [
    "Which is itself a vector. "
   ]
  },
  {
   "cell_type": "code",
   "execution_count": 33,
   "metadata": {},
   "outputs": [
    {
     "data": {
      "text/plain": [
       "Function(Index(Unbound('', variable_name=i37), Unbound('', variable_name=i37)), Unbound('', variable_name=i37))"
      ]
     },
     "execution_count": 33,
     "metadata": {},
     "output_type": "execute_result"
    }
   ],
   "source": [
    "function(1, lambda i: Index(i, i))"
   ]
  },
  {
   "cell_type": "markdown",
   "metadata": {},
   "source": [
    "### Iota"
   ]
  },
  {
   "cell_type": "markdown",
   "metadata": {},
   "source": [
    "Now let's do something more interesting and create a range of values:"
   ]
  },
  {
   "cell_type": "code",
   "execution_count": 10,
   "metadata": {},
   "outputs": [
    {
     "name": "stdout",
     "output_type": "stream",
     "text": [
      "ι(10)\n"
     ]
    }
   ],
   "source": [
    "a_range = Iota(scalar(10))\n",
    "print(a_range)"
   ]
  },
  {
   "cell_type": "code",
   "execution_count": 11,
   "metadata": {},
   "outputs": [
    {
     "name": "stdout",
     "output_type": "stream",
     "text": [
      "Sequence(1, <10>)\n"
     ]
    }
   ],
   "source": [
    "print(replace(Shape(a_range)))"
   ]
  },
  {
   "cell_type": "markdown",
   "metadata": {},
   "source": [
    "This is a vector of length 10. Let's see that the 5th element is the integer 5."
   ]
  },
  {
   "cell_type": "code",
   "execution_count": 12,
   "metadata": {},
   "outputs": [
    {
     "name": "stdout",
     "output_type": "stream",
     "text": [
      "5\n"
     ]
    }
   ],
   "source": [
    "# pprint.pprint(list(Index(vector(5), a_range).r))\n",
    "print(replace(Index(vector(5), a_range)))"
   ]
  },
  {
   "cell_type": "markdown",
   "metadata": {},
   "source": [
    "Here we use a new command `Index` which takes in a vector of indices and the an array and returns a subarray."
   ]
  },
  {
   "cell_type": "markdown",
   "metadata": {},
   "source": [
    "Let's try adding taking it's sum:"
   ]
  },
  {
   "cell_type": "code",
   "execution_count": 13,
   "metadata": {},
   "outputs": [
    {
     "data": {
      "text/plain": [
       "Value('45')"
      ]
     },
     "execution_count": 13,
     "metadata": {},
     "output_type": "execute_result"
    }
   ],
   "source": [
    "replace(ReduceVector(function(2, Add), Value(0), a_range))"
   ]
  },
  {
   "cell_type": "code",
   "execution_count": 14,
   "metadata": {},
   "outputs": [
    {
     "data": {
      "text/plain": [
       "45"
      ]
     },
     "execution_count": 14,
     "metadata": {},
     "output_type": "execute_result"
    }
   ],
   "source": [
    "sum(range(10))"
   ]
  },
  {
   "cell_type": "markdown",
   "metadata": {},
   "source": [
    "Nowe we have an example taking the outer product of two iotas and indexing them"
   ]
  },
  {
   "cell_type": "code",
   "execution_count": 15,
   "metadata": {},
   "outputs": [
    {
     "name": "stdout",
     "output_type": "stream",
     "text": [
      "Sequence(Value('4'),\n",
      "         Function(Sequence(Value('4'),\n",
      "                           Function(Scalar(Multiply(Unbound('', variable_name=i8),\n",
      "                                                    Unbound('', variable_name=i10))),\n",
      "                                    Unbound('', variable_name=i10))),\n",
      "                  Unbound('', variable_name=i8)))\n"
     ]
    }
   ],
   "source": [
    "replaced = replace(OuterProduct(function(2, Multiply), Iota(scalar(4)), Iota(scalar(4))))\n",
    "pprint.pprint(replaced)"
   ]
  },
  {
   "cell_type": "code",
   "execution_count": 16,
   "metadata": {},
   "outputs": [
    {
     "name": "stdout",
     "output_type": "stream",
     "text": [
      "Scalar(Value('6'))\n"
     ]
    }
   ],
   "source": [
    "pprint.pprint(replace(Index(vector(2, 3), replaced)))"
   ]
  },
  {
   "cell_type": "code",
   "execution_count": 17,
   "metadata": {},
   "outputs": [
    {
     "data": {
      "text/plain": [
       "Sequence(Value('10'), Function(Scalar(Multiply(Unbound('', variable_name=i14), Value('5'))), Unbound('', variable_name=i14)))"
      ]
     },
     "execution_count": 17,
     "metadata": {},
     "output_type": "execute_result"
    }
   ],
   "source": [
    "replace(BinaryOperation(function(2, Multiply), Iota(scalar(10)), scalar(5)))"
   ]
  },
  {
   "cell_type": "markdown",
   "metadata": {},
   "source": [
    "## Unbound Variables"
   ]
  },
  {
   "cell_type": "markdown",
   "metadata": {},
   "source": [
    "### 0D"
   ]
  },
  {
   "cell_type": "code",
   "execution_count": 18,
   "metadata": {},
   "outputs": [
    {
     "name": "stdout",
     "output_type": "stream",
     "text": [
      "Z^0\n",
      "Scalar(Content(Unbound('', variable_name=Z)))\n"
     ]
    }
   ],
   "source": [
    "Z = UnboundWithDimension(0, \"Z\")\n",
    "print(Z)\n",
    "replaced_Z = replace(Z)\n",
    "pprint.pprint(replaced_Z)"
   ]
  },
  {
   "cell_type": "markdown",
   "metadata": {},
   "source": [
    "We can then replace that later with the actual value, after it has been simplified:"
   ]
  },
  {
   "cell_type": "code",
   "execution_count": 19,
   "metadata": {},
   "outputs": [
    {
     "data": {
      "text/plain": [
       "Scalar(Value('10'))"
      ]
     },
     "execution_count": 19,
     "metadata": {},
     "output_type": "execute_result"
    }
   ],
   "source": [
    "replace(matchpy.substitute(replaced_Z, {\"Z\": scalar(10)}))"
   ]
  },
  {
   "cell_type": "markdown",
   "metadata": {},
   "source": [
    "### 1D"
   ]
  },
  {
   "cell_type": "markdown",
   "metadata": {},
   "source": [
    "This is all fine and good, but what about an array with more dimensions, like a 1D array?"
   ]
  },
  {
   "cell_type": "code",
   "execution_count": 20,
   "metadata": {},
   "outputs": [
    {
     "name": "stdout",
     "output_type": "stream",
     "text": [
      "A^1\n",
      "Sequence(ExtractLength(Unbound('', variable_name=A)),\n",
      "         Function(Scalar(Content(Call(Content(Unbound('', variable_name=A)),\n",
      "                                      Unbound('', variable_name=i15)))),\n",
      "                  Unbound('', variable_name=i15)))\n"
     ]
    }
   ],
   "source": [
    "A = UnboundWithDimension(1, \"A\")\n",
    "print(A)\n",
    "replaced_A = replace(A)\n",
    "pprint.pprint(replaced_A)"
   ]
  },
  {
   "cell_type": "markdown",
   "metadata": {},
   "source": [
    "We can get the shape of this:"
   ]
  },
  {
   "cell_type": "code",
   "execution_count": 21,
   "metadata": {},
   "outputs": [
    {
     "name": "stdout",
     "output_type": "stream",
     "text": [
      "Sequence(1, <ExtractLength(A)>)\n"
     ]
    }
   ],
   "source": [
    "replaced_shape_a = replace(Shape(replaced_A))\n",
    "print(replaced_shape_a)"
   ]
  },
  {
   "cell_type": "markdown",
   "metadata": {},
   "source": [
    "Now let's get an item from this:"
   ]
  },
  {
   "cell_type": "code",
   "execution_count": 22,
   "metadata": {},
   "outputs": [
    {
     "name": "stdout",
     "output_type": "stream",
     "text": [
      "Content(Call(Content(A), 10))\n"
     ]
    }
   ],
   "source": [
    "replaced_get_A = replace(Index(vector(10), A))\n",
    "print(replaced_get_A)"
   ]
  },
  {
   "cell_type": "markdown",
   "metadata": {},
   "source": [
    "Now let's substitute and see if it is correct"
   ]
  },
  {
   "cell_type": "code",
   "execution_count": 23,
   "metadata": {},
   "outputs": [
    {
     "name": "stdout",
     "output_type": "stream",
     "text": [
      "Sequence(3, (i15 -> VectorIndexed(i15, 0, 1, 2)))\n"
     ]
    }
   ],
   "source": [
    "print(replace(matchpy.substitute(replaced_A, {\"A\": vector(0, 1, 2)})))"
   ]
  },
  {
   "cell_type": "markdown",
   "metadata": {},
   "source": [
    "### 2D\n",
    "\n",
    "Now let's make a matrix\n"
   ]
  },
  {
   "cell_type": "code",
   "execution_count": 24,
   "metadata": {},
   "outputs": [],
   "source": [
    "B = UnboundWithDimension(2, \"B\")\n"
   ]
  },
  {
   "cell_type": "code",
   "execution_count": 25,
   "metadata": {},
   "outputs": [
    {
     "name": "stdout",
     "output_type": "stream",
     "text": [
      "Sequence(ExtractLength(Unbound('', variable_name=B)),\n",
      "         Function(Sequence(ExtractLength(Call(Content(Unbound('', variable_name=B)),\n",
      "                                              Unbound('', variable_name=i17))),\n",
      "                           Function(Scalar(Content(Call(Content(Call(Content(Unbound('', variable_name=B)),\n",
      "                                                                     Unbound('', variable_name=i17))),\n",
      "                                                        Unbound('', variable_name=i18)))),\n",
      "                                    Unbound('', variable_name=i18))),\n",
      "                  Unbound('', variable_name=i17)))\n"
     ]
    }
   ],
   "source": [
    "pprint.pprint(replace(B))"
   ]
  },
  {
   "cell_type": "code",
   "execution_count": 26,
   "metadata": {},
   "outputs": [
    {
     "name": "stdout",
     "output_type": "stream",
     "text": [
      "Content(Call(Content(Call(Content(B), j)), i))\n"
     ]
    }
   ],
   "source": [
    "print(replace(Index(vector_of(Unbound(\"j\"), Unbound(\"i\")), replace(B))))"
   ]
  },
  {
   "cell_type": "markdown",
   "metadata": {},
   "source": [
    "# Paper Example"
   ]
  },
  {
   "cell_type": "markdown",
   "metadata": {},
   "source": [
    "Now let's look at the example from the paper in `uarray-docs`."
   ]
  },
  {
   "cell_type": "code",
   "execution_count": 27,
   "metadata": {},
   "outputs": [
    {
     "name": "stdout",
     "output_type": "stream",
     "text": [
      "((Sequence(2, <1 0>) ψ A^3) (i21, i22 -> (i21 + i22))·(i23, i24 -> (i23 * i24)) (Sequence(1, <2>) ψ ((Sequence(2, <1 0>) ψ A^3) ·(i25, i26 -> (i25 * i26)) (Sequence(2, <0 1>) ψ B^3))))\n"
     ]
    }
   ],
   "source": [
    "A = UnboundWithDimension(3, \"A\")\n",
    "B = UnboundWithDimension(3, \"B\")\n",
    "r = InnerProduct(\n",
    "    function(2, Add),\n",
    "    function(2, Multiply),\n",
    "    Index(vector(1, 0), A),\n",
    "    Index(\n",
    "        vector(2),\n",
    "        OuterProduct(\n",
    "            function(2, Multiply),\n",
    "            Index(vector(1, 0), A),\n",
    "            Index(vector(0, 1), B)\n",
    "        )\n",
    "    )\n",
    ")\n",
    "print(r)"
   ]
  },
  {
   "cell_type": "code",
   "execution_count": 28,
   "metadata": {},
   "outputs": [
    {
     "name": "stdout",
     "output_type": "stream",
     "text": [
      "BinaryOperation(Function(Multiply(Unbound('', variable_name=i25),\n",
      "                                  Unbound('', variable_name=i26)),\n",
      "                         Unbound('', variable_name=i25),\n",
      "                         Unbound('', variable_name=i26)),\n",
      "                Scalar(Content(Call(Content(Call(Content(Call(Content(Unbound('', variable_name=A)),\n",
      "                                                              Value('1'))),\n",
      "                                                 Value('0'))),\n",
      "                                    Value('2')))),\n",
      "                InnerProduct(Function(Add(Unbound('', variable_name=i21),\n",
      "                                          Unbound('', variable_name=i22)),\n",
      "                                      Unbound('', variable_name=i21),\n",
      "                                      Unbound('', variable_name=i22)),\n",
      "                             Function(Multiply(Unbound('', variable_name=i23),\n",
      "                                               Unbound('', variable_name=i24)),\n",
      "                                      (Unbound('', variable_name=i23),\n",
      "                                       Unbound('', variable_name=i24))),\n",
      "                             Sequence(ExtractLength(Call(Content(Call(Content(Unbound('', variable_name=A)),\n",
      "                                                                      Value('1'))),\n",
      "                                                         Value('0'))),\n",
      "                                      Function(Scalar(Content(Call(Content(Call(Content(Call(Content(Unbound('', variable_name=A)),\n",
      "                                                                                             Value('1'))),\n",
      "                                                                                Value('0'))),\n",
      "                                                                   Unbound('', variable_name=i29)))),\n",
      "                                               Unbound('', variable_name=i29))),\n",
      "                             Sequence(ExtractLength(Call(Content(Call(Content(Unbound('', variable_name=B)),\n",
      "                                                                      Value('0'))),\n",
      "                                                         Value('1'))),\n",
      "                                      Function(Scalar(Content(Call(Content(Call(Content(Call(Content(Unbound('', variable_name=B)),\n",
      "                                                                                             Value('0'))),\n",
      "                                                                                Value('1'))),\n",
      "                                                                   Unbound('', variable_name=i36)))),\n",
      "                                               Unbound('', variable_name=i36)))))\n"
     ]
    }
   ],
   "source": [
    "replaced_r = replace(r)\n",
    "pprint.pprint(replaced_r)"
   ]
  },
  {
   "cell_type": "markdown",
   "metadata": {},
   "source": [
    "This is a bit opaque, but does represent the right optimized form. Let's now conver this to a string of NumPy code:"
   ]
  },
  {
   "cell_type": "code",
   "execution_count": 29,
   "metadata": {},
   "outputs": [],
   "source": [
    "import numpy as np"
   ]
  },
  {
   "cell_type": "code",
   "execution_count": 30,
   "metadata": {},
   "outputs": [],
   "source": [
    "A = np.arange(30).reshape((2, 3, 5))\n",
    "B = 2 + A"
   ]
  },
  {
   "cell_type": "code",
   "execution_count": 31,
   "metadata": {},
   "outputs": [
    {
     "name": "stdout",
     "output_type": "stream",
     "text": [
      "BinaryOperation(Function(Multiply(Unbound('', variable_name=i25),\n",
      "                                  Unbound('', variable_name=i26)),\n",
      "                         Unbound('', variable_name=i25),\n",
      "                         Unbound('', variable_name=i26)),\n",
      "                Numpy(('A', (1, 0, 2))),\n",
      "                InnerProduct(Function(Add(Unbound('', variable_name=i21),\n",
      "                                          Unbound('', variable_name=i22)),\n",
      "                                      Unbound('', variable_name=i21),\n",
      "                                      Unbound('', variable_name=i22)),\n",
      "                             Function(Multiply(Unbound('', variable_name=i23),\n",
      "                                               Unbound('', variable_name=i24)),\n",
      "                                      (Unbound('', variable_name=i23),\n",
      "                                       Unbound('', variable_name=i24))),\n",
      "                             Sequence(ExtractLength(Numpy(('A', (1, 0)))),\n",
      "                                      Function(Scalar(Content(Call(Content(Numpy(('A', (1, 0)))),\n",
      "                                                                   Unbound('', variable_name=i29)))),\n",
      "                                               Unbound('', variable_name=i29))),\n",
      "                             Sequence(ExtractLength(Numpy(('B', (0, 1)))),\n",
      "                                      Function(Scalar(Content(Call(Content(Numpy(('B', (0, 1)))),\n",
      "                                                                   Unbound('', variable_name=i36)))),\n",
      "                                               Unbound('', variable_name=i36)))))\n"
     ]
    }
   ],
   "source": [
    "res = replace(matchpy.substitute(replaced_r, {\"A\": Numpy(\"A\"), \"B\": Numpy(\"B\")}))\n",
    "pprint.pprint(res)"
   ]
  },
  {
   "cell_type": "code",
   "execution_count": 32,
   "metadata": {},
   "outputs": [
    {
     "ename": "AttributeError",
     "evalue": "'BinaryOperation' object has no attribute 'code'",
     "output_type": "error",
     "traceback": [
      "\u001b[0;31m---------------------------------------------------------------------------\u001b[0m",
      "\u001b[0;31mAttributeError\u001b[0m                            Traceback (most recent call last)",
      "\u001b[0;32m<ipython-input-32-129c139b65c5>\u001b[0m in \u001b[0;36m<module>\u001b[0;34m()\u001b[0m\n\u001b[0;32m----> 1\u001b[0;31m \u001b[0meval\u001b[0m\u001b[0;34m(\u001b[0m\u001b[0mres\u001b[0m\u001b[0;34m.\u001b[0m\u001b[0mcode\u001b[0m\u001b[0;34m)\u001b[0m\u001b[0;34m\u001b[0m\u001b[0m\n\u001b[0m",
      "\u001b[0;31mAttributeError\u001b[0m: 'BinaryOperation' object has no attribute 'code'"
     ]
    }
   ],
   "source": [
    "eval(res.code)"
   ]
  },
  {
   "cell_type": "code",
   "execution_count": null,
   "metadata": {},
   "outputs": [],
   "source": [
    "replacer.matcher.as_graph()"
   ]
  }
 ],
 "metadata": {
  "kernelspec": {
   "display_name": "Python 3",
   "language": "python",
   "name": "python3"
  },
  "language_info": {
   "codemirror_mode": {
    "name": "ipython",
    "version": 3
   },
   "file_extension": ".py",
   "mimetype": "text/x-python",
   "name": "python",
   "nbconvert_exporter": "python",
   "pygments_lexer": "ipython3",
   "version": "3.7.0"
  }
 },
 "nbformat": 4,
 "nbformat_minor": 2
}
