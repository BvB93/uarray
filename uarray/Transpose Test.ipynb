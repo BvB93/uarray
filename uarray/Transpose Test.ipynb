{
 "cells": [
  {
   "cell_type": "markdown",
   "metadata": {},
   "source": [
    "# 2018.11.02 Transpose and Reverse"
   ]
  },
  {
   "cell_type": "code",
   "execution_count": 1,
   "metadata": {},
   "outputs": [],
   "source": [
    "from uarray import *"
   ]
  },
  {
   "cell_type": "markdown",
   "metadata": {},
   "source": [
    "## Basic testing\n",
    "### scalar"
   ]
  },
  {
   "cell_type": "code",
   "execution_count": 2,
   "metadata": {},
   "outputs": [
    {
     "data": {
      "text/plain": [
       "Scalar(Content(Unbound('', variable_name=A)))"
      ]
     },
     "execution_count": 2,
     "metadata": {},
     "output_type": "execute_result"
    }
   ],
   "source": [
    "A = unbound_with_shape(\"A\", 0)\n",
    "A"
   ]
  },
  {
   "cell_type": "code",
   "execution_count": 3,
   "metadata": {},
   "outputs": [],
   "source": [
    "assert replace(Transpose(vector(), A)) == A"
   ]
  },
  {
   "cell_type": "markdown",
   "metadata": {},
   "source": [
    "### Vector"
   ]
  },
  {
   "cell_type": "code",
   "execution_count": 4,
   "metadata": {},
   "outputs": [
    {
     "data": {
      "text/plain": [
       "Sequence(Unbound('', variable_name=B_shape_0),\n",
       "         UnaryFunction(Scalar(Content(CallUnary(GetItem(Unbound('')),\n",
       "                                                Unbound('')))),\n",
       "                       Unbound('', variable_name=i0)))"
      ]
     },
     "execution_count": 4,
     "metadata": {},
     "output_type": "execute_result"
    }
   ],
   "source": [
    "B = unbound_with_shape(\"B\", 1)\n",
    "B"
   ]
  },
  {
   "cell_type": "code",
   "execution_count": 5,
   "metadata": {},
   "outputs": [
    {
     "data": {
      "text/plain": [
       "Scalar(Content(CallUnary(GetItem(Unbound('', variable_name=B)),\n",
       "                         Content(Unbound('i')))))"
      ]
     },
     "execution_count": 5,
     "metadata": {},
     "output_type": "execute_result"
    }
   ],
   "source": [
    "i = Unbound(\"i\")\n",
    "B_indexed = replace(Index(vector_of(i), B))\n",
    "B_indexed"
   ]
  },
  {
   "cell_type": "markdown",
   "metadata": {},
   "source": [
    "Should be same as B (but with temp variables different)"
   ]
  },
  {
   "cell_type": "code",
   "execution_count": 6,
   "metadata": {},
   "outputs": [
    {
     "data": {
      "text/plain": [
       "Sequence(Unbound('', variable_name=B_shape_0),\n",
       "         UnaryFunction(Scalar(Content(CallUnary(GetItem(Unbound('')),\n",
       "                                                Unbound('')))),\n",
       "                       Unbound('', variable_name=i1)))"
      ]
     },
     "execution_count": 6,
     "metadata": {},
     "output_type": "execute_result"
    }
   ],
   "source": [
    "B_transposed = Transpose(vector(0), B)\n",
    "replace(B_transposed)"
   ]
  },
  {
   "cell_type": "code",
   "execution_count": 7,
   "metadata": {},
   "outputs": [
    {
     "data": {
      "text/plain": [
       "Scalar(Content(CallUnary(GetItem(Unbound('', variable_name=B)),\n",
       "                         Content(Unbound('i')))))"
      ]
     },
     "execution_count": 7,
     "metadata": {},
     "output_type": "execute_result"
    }
   ],
   "source": [
    "B_indexed"
   ]
  },
  {
   "cell_type": "code",
   "execution_count": 8,
   "metadata": {},
   "outputs": [],
   "source": [
    "assert replace(Index(vector_of(i), Transpose(vector(0), B))) == B_indexed"
   ]
  },
  {
   "cell_type": "markdown",
   "metadata": {},
   "source": [
    "### Matrix"
   ]
  },
  {
   "cell_type": "code",
   "execution_count": 9,
   "metadata": {},
   "outputs": [
    {
     "data": {
      "text/plain": [
       "Sequence(Unbound('', variable_name=B_shape_0),\n",
       "         UnaryFunction(Sequence(Unbound('', variable_name=B_shape_1),\n",
       "                                UnaryFunction(Scalar(Content(CallUnary(GetItem(CallUnary(GetItem(Unbound('')),\n",
       "                                                                                         Unbound(''))),\n",
       "                                                                       Unbound('')))),\n",
       "                                              Unbound('', variable_name=i6))),\n",
       "                       Unbound('', variable_name=i5)))"
      ]
     },
     "execution_count": 9,
     "metadata": {},
     "output_type": "execute_result"
    }
   ],
   "source": [
    "C = unbound_with_shape(\"B\", 2)\n",
    "C"
   ]
  },
  {
   "cell_type": "code",
   "execution_count": 10,
   "metadata": {},
   "outputs": [
    {
     "data": {
      "text/plain": [
       "Scalar(Content(CallUnary(GetItem(CallUnary(GetItem(Unbound('')),\n",
       "                                           Content(Unbound('i')))),\n",
       "                         Content(Unbound('j')))))"
      ]
     },
     "execution_count": 10,
     "metadata": {},
     "output_type": "execute_result"
    }
   ],
   "source": [
    "j  = Unbound(\"j\")\n",
    "C_indexed = replace(Index(vector_of(i, j), C))\n",
    "C_indexed"
   ]
  },
  {
   "cell_type": "markdown",
   "metadata": {},
   "source": [
    "#### Identity"
   ]
  },
  {
   "cell_type": "code",
   "execution_count": 11,
   "metadata": {},
   "outputs": [
    {
     "data": {
      "text/plain": [
       "Sequence(Unbound('', variable_name=B_shape_0),\n",
       "         UnaryFunction(Sequence(Unbound('', variable_name=B_shape_1),\n",
       "                                UnaryFunction(Scalar(Content(CallUnary(GetItem(CallUnary(GetItem(Unbound('')),\n",
       "                                                                                         Unbound(''))),\n",
       "                                                                       Unbound('')))),\n",
       "                                              Unbound('', variable_name=i9))),\n",
       "                       Unbound('', variable_name=i7)))"
      ]
     },
     "execution_count": 11,
     "metadata": {},
     "output_type": "execute_result"
    }
   ],
   "source": [
    "C_transposed_identity = Transpose(vector(0, 1), C)\n",
    "replace(C_transposed_identity)"
   ]
  },
  {
   "cell_type": "code",
   "execution_count": 12,
   "metadata": {},
   "outputs": [
    {
     "data": {
      "text/plain": [
       "Scalar(Content(CallUnary(GetItem(CallUnary(GetItem(Unbound('')),\n",
       "                                           Content(Unbound('i')))),\n",
       "                         Content(Unbound('j')))))"
      ]
     },
     "execution_count": 12,
     "metadata": {},
     "output_type": "execute_result"
    }
   ],
   "source": [
    "replace(Index(vector_of(i, j), C_transposed_identity))"
   ]
  },
  {
   "cell_type": "code",
   "execution_count": 13,
   "metadata": {},
   "outputs": [
    {
     "data": {
      "text/plain": [
       "Scalar(Content(CallUnary(GetItem(CallUnary(GetItem(Unbound('')),\n",
       "                                           Content(Unbound('i')))),\n",
       "                         Content(Unbound('j')))))"
      ]
     },
     "execution_count": 13,
     "metadata": {},
     "output_type": "execute_result"
    }
   ],
   "source": [
    "C_indexed"
   ]
  },
  {
   "cell_type": "code",
   "execution_count": 14,
   "metadata": {},
   "outputs": [],
   "source": [
    "assert replace(Index(vector_of(i, j), C_transposed_identity)) == C_indexed"
   ]
  },
  {
   "cell_type": "markdown",
   "metadata": {},
   "source": [
    "#### Tranpose"
   ]
  },
  {
   "cell_type": "code",
   "execution_count": 15,
   "metadata": {},
   "outputs": [
    {
     "data": {
      "text/plain": [
       "Sequence(Unbound('', variable_name=B_shape_1),\n",
       "         UnaryFunction(Sequence(Unbound('', variable_name=B_shape_0),\n",
       "                                UnaryFunction(Scalar(Content(CallUnary(GetItem(CallUnary(GetItem(Unbound('')),\n",
       "                                                                                         Unbound(''))),\n",
       "                                                                       Unbound('')))),\n",
       "                                              Unbound('', variable_name=i22))),\n",
       "                       Unbound('', variable_name=i19)))"
      ]
     },
     "execution_count": 15,
     "metadata": {},
     "output_type": "execute_result"
    }
   ],
   "source": [
    "C_transposed = Transpose(vector(1, 0), C)\n",
    "replace(C_transposed)"
   ]
  },
  {
   "cell_type": "code",
   "execution_count": 16,
   "metadata": {},
   "outputs": [
    {
     "data": {
      "text/plain": [
       "Scalar(Content(CallUnary(GetItem(CallUnary(GetItem(Unbound('')),\n",
       "                                           Content(Unbound('j')))),\n",
       "                         Content(Unbound('i')))))"
      ]
     },
     "execution_count": 16,
     "metadata": {},
     "output_type": "execute_result"
    }
   ],
   "source": [
    "replace(Index(vector_of(i, j), C_transposed))"
   ]
  },
  {
   "cell_type": "markdown",
   "metadata": {},
   "source": [
    "## NumPy testing"
   ]
  },
  {
   "cell_type": "code",
   "execution_count": 17,
   "metadata": {},
   "outputs": [],
   "source": [
    "@optimize\n",
    "def numpy_transpose(a: LazyNDArray):\n",
    "    a = a.has_dim(2)\n",
    "    # identity\n",
    "    return Transpose(vector(1, 0), a.expr)"
   ]
  },
  {
   "cell_type": "code",
   "execution_count": 18,
   "metadata": {},
   "outputs": [
    {
     "name": "stdout",
     "output_type": "stream",
     "text": [
      "\n",
      "\n",
      "def fn(a):\n",
      "    i_7 = ()\n",
      "    i_8 = a.shape[0]\n",
      "    i_5 = ((i_8,) + i_7)\n",
      "    i_6 = a.shape[1]\n",
      "    i_1 = ((i_6,) + i_5)\n",
      "    i_0 = np.empty(i_1)\n",
      "    i_2 = a.shape[1]\n",
      "    for i_3 in range(i_2):\n",
      "        i_4 = i_0[i_3]\n",
      "        i_9 = a.shape[0]\n",
      "        for i_10 in range(i_9):\n",
      "            i_11 = i_4[i_10]\n",
      "            i_12 = i_3\n",
      "            i_14 = i_10\n",
      "            i_15 = a\n",
      "            i_13 = i_15[i_14]\n",
      "            i_11 = i_13[i_12]\n",
      "            i_4[i_10] = i_11\n",
      "        i_0[i_3] = i_4\n",
      "    return i_0\n",
      "\n"
     ]
    }
   ],
   "source": [
    "print(numpy_transpose.__optimize_steps__[\"ast_as_source\"])"
   ]
  },
  {
   "cell_type": "code",
   "execution_count": 19,
   "metadata": {},
   "outputs": [
    {
     "data": {
      "text/plain": [
       "array([[ 0.,  1.,  2.],\n",
       "       [ 3.,  4.,  5.],\n",
       "       [ 6.,  7.,  8.],\n",
       "       [ 9., 10., 11.]])"
      ]
     },
     "execution_count": 19,
     "metadata": {},
     "output_type": "execute_result"
    }
   ],
   "source": [
    "A = np.arange(12, dtype=\"float64\").reshape(4, 3)\n",
    "A"
   ]
  },
  {
   "cell_type": "code",
   "execution_count": 23,
   "metadata": {},
   "outputs": [
    {
     "data": {
      "text/plain": [
       "array([[ 0.,  3.,  6.,  9.],\n",
       "       [ 1.,  4.,  7., 10.],\n",
       "       [ 2.,  5.,  8., 11.]])"
      ]
     },
     "execution_count": 23,
     "metadata": {},
     "output_type": "execute_result"
    }
   ],
   "source": [
    "np.transpose(A, (1, 0))"
   ]
  },
  {
   "cell_type": "code",
   "execution_count": 24,
   "metadata": {},
   "outputs": [
    {
     "data": {
      "text/plain": [
       "array([[ 0.,  3.,  6.,  9.],\n",
       "       [ 1.,  4.,  7., 10.],\n",
       "       [ 2.,  5.,  8., 11.]])"
      ]
     },
     "execution_count": 24,
     "metadata": {},
     "output_type": "execute_result"
    }
   ],
   "source": [
    "numpy_transpose(A)"
   ]
  }
 ],
 "metadata": {
  "kernelspec": {
   "display_name": "Python 3",
   "language": "python",
   "name": "python3"
  },
  "language_info": {
   "codemirror_mode": {
    "name": "ipython",
    "version": 3
   },
   "file_extension": ".py",
   "mimetype": "text/x-python",
   "name": "python",
   "nbconvert_exporter": "python",
   "pygments_lexer": "ipython3",
   "version": "3.6.6"
  }
 },
 "nbformat": 4,
 "nbformat_minor": 2
}
