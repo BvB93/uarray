{
 "cells": [
  {
   "cell_type": "markdown",
   "metadata": {},
   "source": [
    "# 2018.11.02 Transpose and Reverse"
   ]
  },
  {
   "cell_type": "code",
   "execution_count": 1,
   "metadata": {},
   "outputs": [],
   "source": [
    "from uarray import *"
   ]
  },
  {
   "cell_type": "markdown",
   "metadata": {},
   "source": [
    "## Basic testing\n",
    "### scalar"
   ]
  },
  {
   "cell_type": "code",
   "execution_count": 8,
   "metadata": {},
   "outputs": [
    {
     "data": {
      "text/plain": [
       "Scalar(Content(Unbound('', variable_name=A)))"
      ]
     },
     "execution_count": 8,
     "metadata": {},
     "output_type": "execute_result"
    }
   ],
   "source": [
    "A = unbound_with_shape(\"A\", 0)\n",
    "A"
   ]
  },
  {
   "cell_type": "code",
   "execution_count": 7,
   "metadata": {},
   "outputs": [
    {
     "data": {
      "text/plain": [
       "Scalar(Content(Unbound('', variable_name=A)))"
      ]
     },
     "execution_count": 7,
     "metadata": {},
     "output_type": "execute_result"
    }
   ],
   "source": [
    "replace(Transpose(vector(), A))"
   ]
  },
  {
   "cell_type": "markdown",
   "metadata": {},
   "source": [
    "### Vector"
   ]
  },
  {
   "cell_type": "code",
   "execution_count": 16,
   "metadata": {},
   "outputs": [
    {
     "data": {
      "text/plain": [
       "Scalar(Content(Call(GetItem(Unbound('', variable_name=B)),\n",
       "                    Unbound('', variable_name=i))))"
      ]
     },
     "execution_count": 16,
     "metadata": {},
     "output_type": "execute_result"
    }
   ],
   "source": [
    "B = unbound_with_shape(\"B\", 1)\n",
    "i = Unbound(\"i\")\n",
    "replace(Index(vector_of(i), B))"
   ]
  },
  {
   "cell_type": "code",
   "execution_count": 18,
   "metadata": {},
   "outputs": [
    {
     "data": {
      "text/plain": [
       "Scalar(Content(Call(GetItem(Unbound('', variable_name=B)),\n",
       "                    Unbound('', variable_name=i))))"
      ]
     },
     "execution_count": 18,
     "metadata": {},
     "output_type": "execute_result"
    }
   ],
   "source": [
    "B = unbound_with_shape(\"B\", 1)\n",
    "replace(Index(vector_of(i), Transpose(vector(0), B)))"
   ]
  },
  {
   "cell_type": "markdown",
   "metadata": {},
   "source": [
    "### Matrix"
   ]
  },
  {
   "cell_type": "code",
   "execution_count": 19,
   "metadata": {},
   "outputs": [
    {
     "data": {
      "text/plain": [
       "Scalar(Content(Call(GetItem(Call(GetItem(Unbound('', variable_name=B)),\n",
       "                                 Unbound('', variable_name=i))),\n",
       "                    Unbound('', variable_name=j))))"
      ]
     },
     "execution_count": 19,
     "metadata": {},
     "output_type": "execute_result"
    }
   ],
   "source": [
    "C = unbound_with_shape(\"B\", 2)\n",
    "j  = Unbound(\"j\")\n",
    "replace(Index(vector_of(i, j), C))"
   ]
  },
  {
   "cell_type": "markdown",
   "metadata": {},
   "source": [
    "#### Identity"
   ]
  },
  {
   "cell_type": "code",
   "execution_count": 20,
   "metadata": {},
   "outputs": [
    {
     "data": {
      "text/plain": [
       "Call(GetItem(Scalar(Content(Call(GetItem(Unbound('', variable_name=B)),\n",
       "                                 Unbound('', variable_name=i))))),\n",
       "     Unbound('', variable_name=j))"
      ]
     },
     "execution_count": 20,
     "metadata": {},
     "output_type": "execute_result"
    }
   ],
   "source": [
    "replace(Index(vector_of(i, j), Transpose(vector(0, 1), B)))"
   ]
  },
  {
   "cell_type": "markdown",
   "metadata": {},
   "source": [
    "#### Tranpose"
   ]
  },
  {
   "cell_type": "code",
   "execution_count": 21,
   "metadata": {},
   "outputs": [
    {
     "data": {
      "text/plain": [
       "Call(GetItem(Scalar(Content(Call(GetItem(Unbound('', variable_name=B)),\n",
       "                                 Unbound('', variable_name=j))))),\n",
       "     Unbound('', variable_name=i))"
      ]
     },
     "execution_count": 21,
     "metadata": {},
     "output_type": "execute_result"
    }
   ],
   "source": [
    "replace(Index(vector_of(i, j), Transpose(vector(1, 0), B)))"
   ]
  },
  {
   "cell_type": "markdown",
   "metadata": {},
   "source": [
    "## NumPy testing"
   ]
  },
  {
   "cell_type": "code",
   "execution_count": 22,
   "metadata": {},
   "outputs": [
    {
     "ename": "RuntimeError",
     "evalue": "Could not replace Call(SubstituteStatements(<function _define_function.<locals>.inner at 0x1101d6b70>), Statement(Assign(targets=[Name(id='i_7', ctx=Store())], value=Tuple(elts=[], ctx=Load()))), Call(Initializer(ToPythonContent(Length(Scalar(PythonContent(SubstituteIdentifier(<function _nparray_getitem.<locals>.inner at 0x110216158>)))))), Identifier('i_8')), Statement(Assign(targets=[Name(id='i_5', ctx=Store())], value=BinOp(left=Tuple(elts=[Name(id='i_8', ctx=Load())], ctx=Load()), op=Add(), right=Name(id='i_7', ctx=Load())))), Call(Initializer(ToPythonContent(Length(Scalar(PythonContent(SubstituteIdentifier(<function _nparray_getitem.<locals>.inner at 0x110216400>)))))), Identifier('i_6')), Statement(Assign(targets=[Name(id='i_1', ctx=Store())], value=BinOp(left=Tuple(elts=[Name(id='i_6', ctx=Load())], ctx=Load()), op=Add(), right=Name(id='i_5', ctx=Load())))), Statement(Assign(targets=[Name(id='i_0', ctx=Store())], value=Call(func=Attribute(value=Name(id='np', ctx=Load()), attr='empty', ctx=Load()), args=[Name(id='i_1', ctx=Load())], keywords=[]))), Call(Initializer(ToPythonContent(Length(Scalar(PythonContent(SubstituteIdentifier(<function _nparray_getitem.<locals>.inner at 0x110216620>)))))), Identifier('i_2')), Call(SubstituteStatements(<function _to_np_array_sequence.<locals>.inner.<locals>.inner at 0x1101d6a60>), Call(Initializer(ToPythonContent(Length(Scalar(PythonContent(SubstituteIdentifier(<function _nparray_getitem.<locals>.inner at 0x1101d6d08>)))))), Identifier('i_9')), Statement(For(target=Name(id='i_10', ctx=Store()), iter=Call(func=Name(id='range', ctx=Load()), args=[Name(id='i_9', ctx=Load())], keywords=[]), body=[Assign(targets=[Name(id='i_12', ctx=Store())], value=Name(id='i_3', ctx=Load())), Assign(targets=[Name(id='i_14', ctx=Store())], value=Name(id='i_10', ctx=Load())), Assign(targets=[Name(id='i_15', ctx=Store())], value=Name(id='a', ctx=Load())), Assign(targets=[Name(id='i_13', ctx=Store())], value=Subscript(value=Name(id='i_15', ctx=Load()), slice=Index(value=Name(id='i_14', ctx=Load())), ctx=Load())), Assign(targets=[Name(id='i_11', ctx=Store())], value=Subscript(value=Name(id='i_13', ctx=Load()), slice=Index(value=Name(id='i_12', ctx=Load())), ctx=Load())), Assign(targets=[Subscript(value=Name(id='i_4', ctx=Load()), slice=Index(value=Name(id='i_10', ctx=Load())), ctx=Store())], value=Name(id='i_11', ctx=Load()))], orelse=[])))) into AST statement",
     "output_type": "error",
     "traceback": [
      "\u001b[0;31m---------------------------------------------------------------------------\u001b[0m",
      "\u001b[0;31mRuntimeError\u001b[0m                              Traceback (most recent call last)",
      "\u001b[0;32m<ipython-input-22-b0c74e29c332>\u001b[0m in \u001b[0;36m<module>\u001b[0;34m\u001b[0m\n\u001b[1;32m      1\u001b[0m \u001b[0;34m@\u001b[0m\u001b[0moptimize\u001b[0m\u001b[0;34m\u001b[0m\u001b[0m\n\u001b[0;32m----> 2\u001b[0;31m \u001b[0;32mdef\u001b[0m \u001b[0mnumpy_transpose\u001b[0m\u001b[0;34m(\u001b[0m\u001b[0ma\u001b[0m\u001b[0;34m:\u001b[0m \u001b[0mLazyNDArray\u001b[0m\u001b[0;34m)\u001b[0m\u001b[0;34m:\u001b[0m\u001b[0;34m\u001b[0m\u001b[0m\n\u001b[0m\u001b[1;32m      3\u001b[0m     \u001b[0ma\u001b[0m \u001b[0;34m=\u001b[0m \u001b[0ma\u001b[0m\u001b[0;34m.\u001b[0m\u001b[0mhas_dim\u001b[0m\u001b[0;34m(\u001b[0m\u001b[0;36m2\u001b[0m\u001b[0;34m)\u001b[0m\u001b[0;34m\u001b[0m\u001b[0m\n\u001b[1;32m      4\u001b[0m     \u001b[0;31m# identity\u001b[0m\u001b[0;34m\u001b[0m\u001b[0;34m\u001b[0m\u001b[0m\n\u001b[1;32m      5\u001b[0m     \u001b[0;32mreturn\u001b[0m \u001b[0mTranspose\u001b[0m\u001b[0;34m(\u001b[0m\u001b[0mvector\u001b[0m\u001b[0;34m(\u001b[0m\u001b[0;36m1\u001b[0m\u001b[0;34m,\u001b[0m \u001b[0;36m0\u001b[0m\u001b[0;34m)\u001b[0m\u001b[0;34m,\u001b[0m \u001b[0ma\u001b[0m\u001b[0;34m.\u001b[0m\u001b[0mexpr\u001b[0m\u001b[0;34m)\u001b[0m\u001b[0;34m\u001b[0m\u001b[0m\n",
      "\u001b[0;32m~/p/uarray/uarray/uarray/optimize.py\u001b[0m in \u001b[0;36moptimize\u001b[0;34m(initial_fn)\u001b[0m\n\u001b[1;32m     19\u001b[0m     \u001b[0;32mif\u001b[0m \u001b[0;32mnot\u001b[0m \u001b[0misinstance\u001b[0m\u001b[0;34m(\u001b[0m\u001b[0mreplaced_expr\u001b[0m\u001b[0;34m,\u001b[0m \u001b[0mStatement\u001b[0m\u001b[0;34m)\u001b[0m\u001b[0;34m:\u001b[0m\u001b[0;34m\u001b[0m\u001b[0m\n\u001b[1;32m     20\u001b[0m         raise RuntimeError(\n\u001b[0;32m---> 21\u001b[0;31m             \u001b[0;34mf\"Could not replace {repr(replaced_expr)} into AST statement\"\u001b[0m\u001b[0;34m\u001b[0m\u001b[0m\n\u001b[0m\u001b[1;32m     22\u001b[0m         )\n\u001b[1;32m     23\u001b[0m     \u001b[0mast_\u001b[0m \u001b[0;34m=\u001b[0m \u001b[0mreplaced_expr\u001b[0m\u001b[0;34m.\u001b[0m\u001b[0mname\u001b[0m\u001b[0;34m\u001b[0m\u001b[0m\n",
      "\u001b[0;31mRuntimeError\u001b[0m: Could not replace Call(SubstituteStatements(<function _define_function.<locals>.inner at 0x1101d6b70>), Statement(Assign(targets=[Name(id='i_7', ctx=Store())], value=Tuple(elts=[], ctx=Load()))), Call(Initializer(ToPythonContent(Length(Scalar(PythonContent(SubstituteIdentifier(<function _nparray_getitem.<locals>.inner at 0x110216158>)))))), Identifier('i_8')), Statement(Assign(targets=[Name(id='i_5', ctx=Store())], value=BinOp(left=Tuple(elts=[Name(id='i_8', ctx=Load())], ctx=Load()), op=Add(), right=Name(id='i_7', ctx=Load())))), Call(Initializer(ToPythonContent(Length(Scalar(PythonContent(SubstituteIdentifier(<function _nparray_getitem.<locals>.inner at 0x110216400>)))))), Identifier('i_6')), Statement(Assign(targets=[Name(id='i_1', ctx=Store())], value=BinOp(left=Tuple(elts=[Name(id='i_6', ctx=Load())], ctx=Load()), op=Add(), right=Name(id='i_5', ctx=Load())))), Statement(Assign(targets=[Name(id='i_0', ctx=Store())], value=Call(func=Attribute(value=Name(id='np', ctx=Load()), attr='empty', ctx=Load()), args=[Name(id='i_1', ctx=Load())], keywords=[]))), Call(Initializer(ToPythonContent(Length(Scalar(PythonContent(SubstituteIdentifier(<function _nparray_getitem.<locals>.inner at 0x110216620>)))))), Identifier('i_2')), Call(SubstituteStatements(<function _to_np_array_sequence.<locals>.inner.<locals>.inner at 0x1101d6a60>), Call(Initializer(ToPythonContent(Length(Scalar(PythonContent(SubstituteIdentifier(<function _nparray_getitem.<locals>.inner at 0x1101d6d08>)))))), Identifier('i_9')), Statement(For(target=Name(id='i_10', ctx=Store()), iter=Call(func=Name(id='range', ctx=Load()), args=[Name(id='i_9', ctx=Load())], keywords=[]), body=[Assign(targets=[Name(id='i_12', ctx=Store())], value=Name(id='i_3', ctx=Load())), Assign(targets=[Name(id='i_14', ctx=Store())], value=Name(id='i_10', ctx=Load())), Assign(targets=[Name(id='i_15', ctx=Store())], value=Name(id='a', ctx=Load())), Assign(targets=[Name(id='i_13', ctx=Store())], value=Subscript(value=Name(id='i_15', ctx=Load()), slice=Index(value=Name(id='i_14', ctx=Load())), ctx=Load())), Assign(targets=[Name(id='i_11', ctx=Store())], value=Subscript(value=Name(id='i_13', ctx=Load()), slice=Index(value=Name(id='i_12', ctx=Load())), ctx=Load())), Assign(targets=[Subscript(value=Name(id='i_4', ctx=Load()), slice=Index(value=Name(id='i_10', ctx=Load())), ctx=Store())], value=Name(id='i_11', ctx=Load()))], orelse=[])))) into AST statement"
     ]
    }
   ],
   "source": [
    "@optimize\n",
    "def numpy_transpose(a: LazyNDArray):\n",
    "    a = a.has_dim(2)\n",
    "    # identity\n",
    "    return Transpose(vector(1, 0), a.expr)"
   ]
  },
  {
   "cell_type": "code",
   "execution_count": null,
   "metadata": {},
   "outputs": [],
   "source": []
  },
  {
   "cell_type": "code",
   "execution_count": null,
   "metadata": {},
   "outputs": [],
   "source": []
  }
 ],
 "metadata": {
  "kernelspec": {
   "display_name": "Python 3",
   "language": "python",
   "name": "python3"
  },
  "language_info": {
   "codemirror_mode": {
    "name": "ipython",
    "version": 3
   },
   "file_extension": ".py",
   "mimetype": "text/x-python",
   "name": "python",
   "nbconvert_exporter": "python",
   "pygments_lexer": "ipython3",
   "version": "3.6.6"
  }
 },
 "nbformat": 4,
 "nbformat_minor": 2
}
