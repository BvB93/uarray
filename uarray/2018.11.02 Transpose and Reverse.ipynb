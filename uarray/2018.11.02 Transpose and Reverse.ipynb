{
 "cells": [
  {
   "cell_type": "markdown",
   "metadata": {},
   "source": [
    "# 2018.11.02 Transpose and Reverse"
   ]
  },
  {
   "cell_type": "code",
   "execution_count": 1,
   "metadata": {},
   "outputs": [],
   "source": [
    "from uarray import *"
   ]
  },
  {
   "cell_type": "markdown",
   "metadata": {},
   "source": [
    "## Basic testing\n",
    "### scalar"
   ]
  },
  {
   "cell_type": "code",
   "execution_count": 2,
   "metadata": {},
   "outputs": [
    {
     "data": {
      "text/plain": [
       "Scalar(Content(Unbound('', variable_name=A)))"
      ]
     },
     "execution_count": 2,
     "metadata": {},
     "output_type": "execute_result"
    }
   ],
   "source": [
    "A = unbound_with_shape(\"A\", 0)\n",
    "A"
   ]
  },
  {
   "cell_type": "code",
   "execution_count": 9,
   "metadata": {},
   "outputs": [],
   "source": [
    "assert replace(Transpose(vector(), A)) == A"
   ]
  },
  {
   "cell_type": "markdown",
   "metadata": {},
   "source": [
    "### Vector"
   ]
  },
  {
   "cell_type": "code",
   "execution_count": 4,
   "metadata": {},
   "outputs": [
    {
     "data": {
      "text/plain": [
       "Sequence(Unbound('', variable_name=B_shape_0),\n",
       "         Function(Scalar(Content(Call(GetItem(Unbound('', variable_name=B)),\n",
       "                                      Unbound('', variable_name=i0)))),\n",
       "                  Unbound('', variable_name=i0)))"
      ]
     },
     "execution_count": 4,
     "metadata": {},
     "output_type": "execute_result"
    }
   ],
   "source": [
    "B = unbound_with_shape(\"B\", 1)\n",
    "B"
   ]
  },
  {
   "cell_type": "code",
   "execution_count": 11,
   "metadata": {},
   "outputs": [
    {
     "data": {
      "text/plain": [
       "Scalar(Content(Call(GetItem(Unbound('', variable_name=B)),\n",
       "                    Unbound('', variable_name=i))))"
      ]
     },
     "execution_count": 11,
     "metadata": {},
     "output_type": "execute_result"
    }
   ],
   "source": [
    "i = Unbound(\"i\")\n",
    "B_indexed = replace(Index(vector_of(i), B))\n",
    "B_indexed"
   ]
  },
  {
   "cell_type": "markdown",
   "metadata": {},
   "source": [
    "Should be same as B (but with temp variables different)"
   ]
  },
  {
   "cell_type": "code",
   "execution_count": 6,
   "metadata": {},
   "outputs": [
    {
     "data": {
      "text/plain": [
       "Sequence(Unbound('', variable_name=B_shape_0),\n",
       "         Function(Scalar(Content(Call(GetItem(Unbound('', variable_name=B)),\n",
       "                                      Unbound('', variable_name=i1)))),\n",
       "                  Unbound('', variable_name=i1)))"
      ]
     },
     "execution_count": 6,
     "metadata": {},
     "output_type": "execute_result"
    }
   ],
   "source": [
    "B_transposed = Transpose(vector(0), B)\n",
    "replace(B_transposed)"
   ]
  },
  {
   "cell_type": "code",
   "execution_count": 12,
   "metadata": {},
   "outputs": [],
   "source": [
    "assert replace(Index(vector_of(i), Transpose(vector(0), B))) == B_indexed"
   ]
  },
  {
   "cell_type": "markdown",
   "metadata": {},
   "source": [
    "### Matrix"
   ]
  },
  {
   "cell_type": "code",
   "execution_count": 13,
   "metadata": {},
   "outputs": [
    {
     "data": {
      "text/plain": [
       "Sequence(Unbound('', variable_name=B_shape_0),\n",
       "         Function(Sequence(Unbound('', variable_name=B_shape_1),\n",
       "                           Function(Scalar(Content(Call(GetItem(Call(GetItem(Unbound('', variable_name=B)),\n",
       "                                                                     Unbound('', variable_name=i9))),\n",
       "                                                        Unbound('', variable_name=i10)))),\n",
       "                                    Unbound('', variable_name=i10))),\n",
       "                  Unbound('', variable_name=i9)))"
      ]
     },
     "execution_count": 13,
     "metadata": {},
     "output_type": "execute_result"
    }
   ],
   "source": [
    "C = unbound_with_shape(\"B\", 2)\n",
    "C"
   ]
  },
  {
   "cell_type": "code",
   "execution_count": 15,
   "metadata": {},
   "outputs": [
    {
     "data": {
      "text/plain": [
       "Scalar(Content(Call(GetItem(Call(GetItem(Unbound('', variable_name=B)),\n",
       "                                 Unbound('', variable_name=i))),\n",
       "                    Unbound('', variable_name=j))))"
      ]
     },
     "execution_count": 15,
     "metadata": {},
     "output_type": "execute_result"
    }
   ],
   "source": [
    "j  = Unbound(\"j\")\n",
    "C_indexed = replace(Index(vector_of(i, j), C))\n",
    "C_indexed"
   ]
  },
  {
   "cell_type": "markdown",
   "metadata": {},
   "source": [
    "#### Identity"
   ]
  },
  {
   "cell_type": "code",
   "execution_count": 18,
   "metadata": {},
   "outputs": [
    {
     "data": {
      "text/plain": [
       "Sequence(Unbound('', variable_name=B_shape_0),\n",
       "         Function(Sequence(Unbound('', variable_name=B_shape_1),\n",
       "                           Function(Scalar(Content(Call(GetItem(Call(GetItem(Unbound('', variable_name=B)),\n",
       "                                                                     Unbound('', variable_name=i19))),\n",
       "                                                        Unbound('', variable_name=i21)))),\n",
       "                                    Unbound('', variable_name=i21))),\n",
       "                  Unbound('', variable_name=i19)))"
      ]
     },
     "execution_count": 18,
     "metadata": {},
     "output_type": "execute_result"
    }
   ],
   "source": [
    "C_transposed_identity = Transpose(vector(0, 1), C)\n",
    "replace(C_transposed_identity)"
   ]
  },
  {
   "cell_type": "code",
   "execution_count": 17,
   "metadata": {},
   "outputs": [],
   "source": [
    "assert replace(Index(vector_of(i, j), C_transposed_identity)) == C_indexed"
   ]
  },
  {
   "cell_type": "markdown",
   "metadata": {},
   "source": [
    "#### Tranpose"
   ]
  },
  {
   "cell_type": "code",
   "execution_count": 19,
   "metadata": {},
   "outputs": [
    {
     "data": {
      "text/plain": [
       "Sequence(Unbound('', variable_name=B_shape_1),\n",
       "         Function(Sequence(Unbound('', variable_name=B_shape_0),\n",
       "                           Function(Scalar(Content(Call(GetItem(Call(GetItem(Unbound('', variable_name=B)),\n",
       "                                                                     Unbound('', variable_name=i25))),\n",
       "                                                        Unbound('', variable_name=i23)))),\n",
       "                                    Unbound('', variable_name=i25))),\n",
       "                  Unbound('', variable_name=i23)))"
      ]
     },
     "execution_count": 19,
     "metadata": {},
     "output_type": "execute_result"
    }
   ],
   "source": [
    "C_transposed = Transpose(vector(1, 0), C)\n",
    "replace(C_transposed)"
   ]
  },
  {
   "cell_type": "code",
   "execution_count": 20,
   "metadata": {},
   "outputs": [
    {
     "data": {
      "text/plain": [
       "Scalar(Content(Call(GetItem(Call(GetItem(Unbound('', variable_name=B)),\n",
       "                                 Unbound('', variable_name=j))),\n",
       "                    Unbound('', variable_name=i))))"
      ]
     },
     "execution_count": 20,
     "metadata": {},
     "output_type": "execute_result"
    }
   ],
   "source": [
    "replace(Index(vector_of(i, j), C_transposed))"
   ]
  },
  {
   "cell_type": "markdown",
   "metadata": {},
   "source": [
    "## NumPy testing"
   ]
  },
  {
   "cell_type": "code",
   "execution_count": 21,
   "metadata": {},
   "outputs": [],
   "source": [
    "@optimize\n",
    "def numpy_transpose(a: LazyNDArray):\n",
    "    a = a.has_dim(2)\n",
    "    # identity\n",
    "    return Transpose(vector(1, 0), a.expr)"
   ]
  },
  {
   "cell_type": "code",
   "execution_count": null,
   "metadata": {},
   "outputs": [],
   "source": [
    "numpy_transpose.__optimize_steps__[\"ast_as_source\"]"
   ]
  },
  {
   "cell_type": "code",
   "execution_count": null,
   "metadata": {},
   "outputs": [],
   "source": []
  }
 ],
 "metadata": {
  "kernelspec": {
   "display_name": "Python 3",
   "language": "python",
   "name": "python3"
  },
  "language_info": {
   "codemirror_mode": {
    "name": "ipython",
    "version": 3
   },
   "file_extension": ".py",
   "mimetype": "text/x-python",
   "name": "python",
   "nbconvert_exporter": "python",
   "pygments_lexer": "ipython3",
   "version": "3.6.6"
  }
 },
 "nbformat": 4,
 "nbformat_minor": 2
}
