{
 "cells": [
  {
   "cell_type": "markdown",
   "metadata": {},
   "source": [
    "Let's look at this example:"
   ]
  },
  {
   "cell_type": "code",
   "execution_count": 1,
   "metadata": {},
   "outputs": [
    {
     "data": {
      "text/plain": [
       "array([ 0,  5, 10, 15, 20, 25, 30, 35, 40, 45])"
      ]
     },
     "execution_count": 1,
     "metadata": {},
     "output_type": "execute_result"
    }
   ],
   "source": [
    "import numpy as np\n",
    "\n",
    "def fn(a, b):\n",
    "    return np.multiply.outer(a, b)[5]\n",
    "\n",
    "a = np.arange(10)\n",
    "b = np.arange(10)\n",
    "fn(a, b)"
   ]
  },
  {
   "cell_type": "markdown",
   "metadata": {},
   "source": [
    "What *is* this result?\n",
    "\n",
    "Well we could say that it is the result to applying the outer product to two arrays and then taking the 5th item. \n",
    "\n",
    "However, this way of understanding the operation obscures two key things:\n",
    "\n",
    "1. We don't need to materialize the whole outer product result if we only use the 10th index of it. \n",
    "2. Outer product can be executed as more primitive operations .\n",
    "\n",
    "For efficiency we don't want to do work we don't have to (1) and since different hardware and software backends have different interfaces, we need to be able to translatate  our operation into equivalent forms (2). \n",
    "\n",
    "So what's another way of representing this computation?\n",
    "\n",
    "Instead of thinking about how to execute the expression as we did above (imperative) let's consider what are the properties of the result (declarative). Because then we can just think about how the result should behave and hopefully that definition will not depend directly on intermediate results, just on the inputs. Then we don't have to compute them and we can rely on more primititve operations.\n",
    "\n",
    "We know the result is an \"array\", but what is an array? In NumPy land, an array is expected to behave consistantly under the NumPy API. For example, normal indexing should reduce the dimensionality. But this API is very large! (xxx methtods) So this seems like it would be hard to understand and specify how the result works under all these operations.\n"
   ]
  },
  {
   "cell_type": "markdown",
   "metadata": {},
   "source": [
    "---\n",
    "\n",
    "So let's use the definition from Lenore Mullin's Mathematics of Arrays instead. In her work, which came out the the APL language, arrays have **indexing** and **shape**. Indexing is a function from the indices to an item inside.\n",
    "\n",
    "So, instead of thinking of outer product as a compositive operation, we can understand how it relates to these concepts. Writing in Python ish syntax:\n",
    "\n",
    "```python\n",
    "np.multiply.outer(a, b).shape == a.shape + b.shape\n",
    "np.multiply.outer(a, b)[*i, *j] == a[i] * b[j]\n",
    "# where len(i) == len(a.shape)\n",
    "```\n",
    "\n",
    "We can also write partial indexing in this form:\n",
    "\n",
    "\n",
    "```python\n",
    "a[i].shape == a.shape[1:]\n",
    "a[i][*j] == a[i, *j]\n",
    "```\n",
    "\n",
    "Together we can use these forms to get the index and shape of our final form:\n",
    "\n",
    "\n",
    "```python\n",
    "np.multiply.outer(a, b)[10].shape == (a.shape + b.shape)[1:]\n",
    "\n",
    "# if we know that a and b are both 1D, then:\n",
    "== ([a.shape[0]] + [b.shape[0]])[1:]\n",
    "== [a.shape[0], b.shape[0]][1:]\n",
    "==[b.shape[0]]\n",
    "# so we know the result is a vector with length the same as the length of b.\n",
    "\n",
    "# Now let's figure out indexing, by i\n",
    "\n",
    "np.multiply.outer(a, b)[10][i] == np.multiply.outer(a, b)[10, i]\n",
    "== a[10] * b[i]\n",
    "```\n",
    "\n",
    "\n",
    "So now we have the type of description we were looking for. To restate it:\n",
    "\n",
    "1. The result has the same shape as `a`\n",
    "2. Indexing the result with `i` will give you back `a[10] * b[i]`\n",
    "\n",
    "\n",
    "This description removes the need to compute the intermediary result and it also translates this to more basic operations.\n",
    "\n",
    "So if we had a backend that only new how to multiply and index, but now how to do outer product (*cough* numba *cough*), then we could use\n",
    "this mathematical definition of the operation to compile to that backend.\n",
    "\n",
    "---\n",
    "\n",
    "We are building `uarray` to give us a place to register these types of translations and make them easily usable.\n",
    "\n",
    "For example, here we can build up the same operation, but instead of executing it, it builds up an AST:"
   ]
  },
  {
   "cell_type": "code",
   "execution_count": 2,
   "metadata": {},
   "outputs": [],
   "source": [
    "from uarray import *"
   ]
  },
  {
   "cell_type": "code",
   "execution_count": 3,
   "metadata": {},
   "outputs": [
    {
     "data": {
      "text/plain": [
       "Index(\n",
       "    Sequence(Int(1), VectorCallable(Scalar(Int(5)))),\n",
       "    OuterProduct(\n",
       "        BinaryFunction(\n",
       "            Scalar(Multiply(Content(Unbound(variable_name=\"i0\")), Content(Unbound(variable_name=\"i1\")))),\n",
       "            Unbound(variable_name=\"i0\"),\n",
       "            Unbound(variable_name=\"i1\"),\n",
       "        ),\n",
       "        Sequence(\n",
       "            Length(Unbound(variable_name=\"A\")),\n",
       "            UnaryFunction(\n",
       "                Scalar(Content(CallUnary(GetItem(Unbound(variable_name=\"A\")), Unbound(variable_name=\"i2\")))),\n",
       "                Unbound(variable_name=\"i2\"),\n",
       "            ),\n",
       "        ),\n",
       "        Sequence(\n",
       "            Length(Unbound(variable_name=\"B\")),\n",
       "            UnaryFunction(\n",
       "                Scalar(Content(CallUnary(GetItem(Unbound(variable_name=\"B\")), Unbound(variable_name=\"i3\")))),\n",
       "                Unbound(variable_name=\"i3\"),\n",
       "            ),\n",
       "        ),\n",
       "    ),\n",
       ")\n"
      ]
     },
     "execution_count": 3,
     "metadata": {},
     "output_type": "execute_result"
    }
   ],
   "source": [
    "A = with_dims(unbound(\"A\"), 1)\n",
    "B = with_dims(unbound(\"B\"), 1)\n",
    "\n",
    "op = Index(vector(5), OuterProduct(multiply, A, B))\n",
    "op"
   ]
  },
  {
   "cell_type": "markdown",
   "metadata": {},
   "source": [
    "Now we can call `replace` to simplify this:"
   ]
  },
  {
   "cell_type": "code",
   "execution_count": 22,
   "metadata": {},
   "outputs": [
    {
     "data": {
      "text/plain": [
       "Sequence(\n",
       "    Length(Unbound(variable_name=\"B\")),\n",
       "    UnaryFunction(\n",
       "        Scalar(\n",
       "            Multiply(\n",
       "                Content(CallUnary(GetItem(Unbound(variable_name=\"A\")), Int(5))),\n",
       "                Content(CallUnary(GetItem(Unbound(variable_name=\"B\")), Unbound(variable_name=\"i42\"))),\n",
       "            )\n",
       "        ),\n",
       "        Unbound(variable_name=\"i42\"),\n",
       "    ),\n",
       ")\n"
      ]
     },
     "execution_count": 22,
     "metadata": {},
     "output_type": "execute_result"
    }
   ],
   "source": [
    "replaced_op = replace(op)\n",
    "replaced_op"
   ]
  },
  {
   "cell_type": "markdown",
   "metadata": {},
   "source": [
    "Now we can get the shape and call `replace` which keeps replacing rules until no more match:"
   ]
  },
  {
   "cell_type": "code",
   "execution_count": 24,
   "metadata": {},
   "outputs": [
    {
     "name": "stdout",
     "output_type": "stream",
     "text": [
      "Sequence(1, <Length(B)>)\n"
     ]
    }
   ],
   "source": [
    "print(replace(Shape(replaced_op)))"
   ]
  },
  {
   "cell_type": "markdown",
   "metadata": {},
   "source": [
    "We see this is the same as what we had done above.\n",
    "\n",
    "\n",
    "And now we can index:"
   ]
  },
  {
   "cell_type": "code",
   "execution_count": 5,
   "metadata": {},
   "outputs": [
    {
     "name": "stdout",
     "output_type": "stream",
     "text": [
      "Scalar((Content(CallUnary(GetItem(A), 5)) * Content(CallUnary(GetItem(B), Content(i)))))\n"
     ]
    }
   ],
   "source": [
    "i = unbound_with_shape(\"i\", 0)\n",
    "print(replace(Index(vector_of(i), op)))"
   ]
  },
  {
   "cell_type": "markdown",
   "metadata": {},
   "source": [
    "OK this looks ok, now lets execute it:"
   ]
  },
  {
   "cell_type": "code",
   "execution_count": 6,
   "metadata": {},
   "outputs": [
    {
     "name": "stdout",
     "output_type": "stream",
     "text": [
      "Shape: Sequence(1, <10>)\n",
      "Indexed: Scalar((5 * Content(i)))\n"
     ]
    }
   ],
   "source": [
    "A_value = Iota(to_array(10))\n",
    "B_value = Iota(to_array(10))\n",
    "subs_op = matchpy.substitute(op, {\"A\": A_value, \"B\": B_value})\n",
    "\n",
    "print(\"Shape:\", replace(Shape(subs_op)))\n",
    "print(\"Indexed:\", replace(Index(vector_of(i), subs_op)))"
   ]
  },
  {
   "cell_type": "markdown",
   "metadata": {},
   "source": [
    "Again this looks similar to the manual result above.\n"
   ]
  },
  {
   "cell_type": "markdown",
   "metadata": {},
   "source": [
    "---"
   ]
  },
  {
   "cell_type": "markdown",
   "metadata": {},
   "source": [
    "\n",
    "However, it's still not very tangible.\n",
    "\n",
    "For that, we can use the `optimize` decorator, which takes a function that takes in NP arrays and returns a new function.\n",
    "\n",
    "In the middle, we turn it into array expressions as above, then turn those into Python AST:"
   ]
  },
  {
   "cell_type": "code",
   "execution_count": 8,
   "metadata": {},
   "outputs": [],
   "source": [
    "optimized_fn = optimize(a.shape, b.shape)(fn)"
   ]
  },
  {
   "cell_type": "code",
   "execution_count": 12,
   "metadata": {},
   "outputs": [
    {
     "name": "stdout",
     "output_type": "stream",
     "text": [
      "\n",
      "\n",
      "def fn(a, b):\n",
      "    i_5 = ()\n",
      "    i_6 = 10\n",
      "    i_1 = ((i_6,) + i_5)\n",
      "    i_0 = np.empty(i_1)\n",
      "    i_2 = 10\n",
      "    for i_3 in range(i_2):\n",
      "        i_4 = i_0[i_3]\n",
      "        i_9 = 5\n",
      "        i_10 = a\n",
      "        i_13 = i_10[i_9]\n",
      "        i_11 = i_3\n",
      "        i_12 = b\n",
      "        i_14 = i_12[i_11]\n",
      "        i_4 = (i_13 * i_14)\n",
      "        i_0[i_3] = i_4\n",
      "    return i_0\n",
      "\n"
     ]
    }
   ],
   "source": [
    "print(optimized_fn.__optimize_steps__[\"ast_as_source\"])"
   ]
  },
  {
   "cell_type": "markdown",
   "metadata": {},
   "source": [
    "It has some unneccesary identifiers, but it does what we need at the moment.\n",
    "\n",
    "We can also look at all the steps produced by the replacement:"
   ]
  },
  {
   "cell_type": "code",
   "execution_count": 13,
   "metadata": {},
   "outputs": [],
   "source": [
    "all_steps = optimized_fn.__optimize_steps__[\"all_replaced\"]"
   ]
  },
  {
   "cell_type": "code",
   "execution_count": 14,
   "metadata": {},
   "outputs": [
    {
     "data": {
      "text/plain": [
       "88"
      ]
     },
     "execution_count": 14,
     "metadata": {},
     "output_type": "execute_result"
    }
   ],
   "source": [
    "len(all_steps)"
   ]
  },
  {
   "cell_type": "markdown",
   "metadata": {},
   "source": [
    "We start, just as we did above, with indexing an outer product. However, it is sandwhiched between some operations to turn it into a Python AST:"
   ]
  },
  {
   "cell_type": "code",
   "execution_count": 16,
   "metadata": {},
   "outputs": [
    {
     "data": {
      "text/plain": [
       "DefineFunction(\n",
       "    ToNPArray(\n",
       "        Index(\n",
       "            Sequence(Int(1), VectorCallable(Scalar(Int(5)))),\n",
       "            OuterProduct(\n",
       "                BinaryUfunc(np.ufunc(multiply)),\n",
       "                Sequence(\n",
       "                    Int(10),\n",
       "                    UnaryFunction(\n",
       "                        Scalar(\n",
       "                            Content(\n",
       "                                CallUnary(GetItem(NPArray(Expression(Name(\"a\", Load())))), Unbound(variable_name=\"i19\"))\n",
       "                            )\n",
       "                        ),\n",
       "                        Unbound(variable_name=\"i19\"),\n",
       "                    ),\n",
       "                ),\n",
       "                Sequence(\n",
       "                    Int(10),\n",
       "                    UnaryFunction(\n",
       "                        Scalar(\n",
       "                            Content(\n",
       "                                CallUnary(GetItem(NPArray(Expression(Name(\"b\", Load())))), Unbound(variable_name=\"i20\"))\n",
       "                            )\n",
       "                        ),\n",
       "                        Unbound(variable_name=\"i20\"),\n",
       "                    ),\n",
       "                ),\n",
       "            ),\n",
       "        ),\n",
       "        ShouldAllocate(True),\n",
       "    ),\n",
       "    Identifier(\"a\"),\n",
       "    Identifier(\"b\"),\n",
       ")\n"
      ]
     },
     "execution_count": 16,
     "metadata": {},
     "output_type": "execute_result"
    }
   ],
   "source": [
    "all_steps[0]"
   ]
  }
 ],
 "metadata": {
  "kernelspec": {
   "display_name": "Python 3",
   "language": "python",
   "name": "python3"
  },
  "language_info": {
   "codemirror_mode": {
    "name": "ipython",
    "version": 3
   },
   "file_extension": ".py",
   "mimetype": "text/x-python",
   "name": "python",
   "nbconvert_exporter": "python",
   "pygments_lexer": "ipython3",
   "version": "3.6.6"
  }
 },
 "nbformat": 4,
 "nbformat_minor": 2
}
