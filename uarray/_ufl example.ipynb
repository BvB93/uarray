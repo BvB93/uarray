{
 "cells": [
  {
   "cell_type": "markdown",
   "metadata": {},
   "source": [
    "Example relevent to https://github.com/Quansight-Labs/uarray/issues/22"
   ]
  },
  {
   "cell_type": "code",
   "execution_count": 1,
   "metadata": {},
   "outputs": [],
   "source": [
    "from uarray import *"
   ]
  },
  {
   "cell_type": "code",
   "execution_count": 6,
   "metadata": {},
   "outputs": [
    {
     "name": "stdout",
     "output_type": "stream",
     "text": [
      "(ι(10) ·(i2, i3 -> (i2 * i3)) ι(5))\n"
     ]
    },
    {
     "data": {
      "text/plain": [
       "OuterProduct(Function(Multiply(Unbound('', variable_name=i2),\n",
       "                               Unbound('', variable_name=i3)),\n",
       "                      Unbound('', variable_name=i2),\n",
       "                      Unbound('', variable_name=i3)),\n",
       "             Iota(Scalar(Value('10'))),\n",
       "             Iota(Scalar(Value('5'))))"
      ]
     },
     "execution_count": 6,
     "metadata": {},
     "output_type": "execute_result"
    }
   ],
   "source": [
    "multiply_function = function(2, Multiply)\n",
    "\n",
    "res = OuterProduct(multiply_function, Iota(scalar(10)), Iota(scalar(5)))\n",
    "print(res)\n",
    "res"
   ]
  },
  {
   "cell_type": "code",
   "execution_count": 7,
   "metadata": {},
   "outputs": [
    {
     "name": "stdout",
     "output_type": "stream",
     "text": [
      "Sequence(10, (i5 -> Sequence(5, (i7 -> (i5 * i7)))))\n"
     ]
    },
    {
     "data": {
      "text/plain": [
       "Sequence(Value('10'),\n",
       "         Function(Sequence(Value('5'),\n",
       "                           Function(Scalar(Multiply(Unbound('', variable_name=i5),\n",
       "                                                    Unbound('', variable_name=i7))),\n",
       "                                    Unbound('', variable_name=i7))),\n",
       "                  Unbound('', variable_name=i5)))"
      ]
     },
     "execution_count": 7,
     "metadata": {},
     "output_type": "execute_result"
    }
   ],
   "source": [
    "replaced_res = replace(res)\n",
    "print(replaced_res)\n",
    "replaced_res"
   ]
  },
  {
   "cell_type": "markdown",
   "metadata": {},
   "source": [
    "now let's index this with `i` and `j`:\n"
   ]
  },
  {
   "cell_type": "code",
   "execution_count": 13,
   "metadata": {},
   "outputs": [
    {
     "name": "stdout",
     "output_type": "stream",
     "text": [
      "(Sequence(2, <i j>) ψ (ι(10) ·(i2, i3 -> (i2 * i3)) ι(5)))\n"
     ]
    },
    {
     "data": {
      "text/plain": [
       "Index(Sequence(Value('2'),\n",
       "               VectorCallable(Scalar(Unbound('', variable_name=i)),\n",
       "                              Scalar(Unbound('', variable_name=j)))),\n",
       "      OuterProduct(Function(Multiply(Unbound('', variable_name=i2),\n",
       "                                     Unbound('', variable_name=i3)),\n",
       "                            Unbound('', variable_name=i2),\n",
       "                            Unbound('', variable_name=i3)),\n",
       "                   Iota(Scalar(Value('10'))),\n",
       "                   Iota(Scalar(Value('5')))))"
      ]
     },
     "execution_count": 13,
     "metadata": {},
     "output_type": "execute_result"
    }
   ],
   "source": [
    "i = Scalar(Unbound(\"i\"))\n",
    "j = Scalar(Unbound(\"j\"))\n",
    "unrolled = Index(vector_of(i, j), res)\n",
    "print(unrolled)\n",
    "unrolled"
   ]
  },
  {
   "cell_type": "code",
   "execution_count": 14,
   "metadata": {},
   "outputs": [
    {
     "data": {
      "text/plain": [
       "Scalar(Multiply(Scalar(Unbound('', variable_name=i)),\n",
       "                Scalar(Unbound('', variable_name=j))))"
      ]
     },
     "execution_count": 14,
     "metadata": {},
     "output_type": "execute_result"
    }
   ],
   "source": [
    "replaced_unrolled = replace(unrolled)\n",
    "replaced_unrolled"
   ]
  }
 ],
 "metadata": {
  "kernelspec": {
   "display_name": "Python 3",
   "language": "python",
   "name": "python3"
  },
  "language_info": {
   "codemirror_mode": {
    "name": "ipython",
    "version": 3
   },
   "file_extension": ".py",
   "mimetype": "text/x-python",
   "name": "python",
   "nbconvert_exporter": "python",
   "pygments_lexer": "ipython3",
   "version": "3.6.6"
  }
 },
 "nbformat": 4,
 "nbformat_minor": 2
}
