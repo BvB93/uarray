{
 "cells": [
  {
   "cell_type": "markdown",
   "metadata": {},
   "source": [
    "# Outer Product"
   ]
  },
  {
   "cell_type": "markdown",
   "metadata": {},
   "source": [
    "Now let's try the outer product!"
   ]
  },
  {
   "cell_type": "code",
   "execution_count": 1,
   "metadata": {},
   "outputs": [],
   "source": [
    "import uarray"
   ]
  },
  {
   "cell_type": "code",
   "execution_count": 2,
   "metadata": {},
   "outputs": [],
   "source": [
    "v1 = uarray.Vector(1, 2, 3)\n",
    "v2 = uarray.Vector(3, 4, 5)"
   ]
  },
  {
   "cell_type": "code",
   "execution_count": 3,
   "metadata": {},
   "outputs": [
    {
     "name": "stdout",
     "output_type": "stream",
     "text": [
      "<1 2 3> ·+ <3 4 5>\n"
     ]
    }
   ],
   "source": [
    "res = uarray.OuterProduct(v1, uarray.BinaryOperation(uarray.Add), v2)\n",
    "print(res)"
   ]
  },
  {
   "cell_type": "markdown",
   "metadata": {},
   "source": [
    "## Shape"
   ]
  },
  {
   "cell_type": "code",
   "execution_count": 4,
   "metadata": {},
   "outputs": [
    {
     "name": "stdout",
     "output_type": "stream",
     "text": [
      "ρ(<1 2 3> ·+ <3 4 5>)\n"
     ]
    }
   ],
   "source": [
    "shape = uarray.Shape(res)\n",
    "print(shape)"
   ]
  },
  {
   "cell_type": "code",
   "execution_count": 5,
   "metadata": {},
   "outputs": [
    {
     "name": "stdout",
     "output_type": "stream",
     "text": [
      "<3 3>\n"
     ]
    }
   ],
   "source": [
    "print(uarray.replace(shape))"
   ]
  },
  {
   "cell_type": "markdown",
   "metadata": {},
   "source": [
    "This seems good. Let's watch how it does it."
   ]
  },
  {
   "cell_type": "code",
   "execution_count": 6,
   "metadata": {},
   "outputs": [
    {
     "name": "stdout",
     "output_type": "stream",
     "text": [
      "ρ(<1 2 3> ·+ <3 4 5>)\n",
      "(ρ(<1 2 3>) ‡ ρ(<3 4 5>))\n",
      "(<3> ‡ ρ(<3 4 5>))\n",
      "(<3> ‡ <3>)\n",
      "<3 3>\n",
      "<3 3>\n",
      "<3 3>\n",
      "<3 3>\n",
      "<3 3>\n",
      "<3 3>\n"
     ]
    }
   ],
   "source": [
    "uarray.replace_debug(shape)"
   ]
  },
  {
   "cell_type": "markdown",
   "metadata": {},
   "source": [
    "## Full Index"
   ]
  },
  {
   "cell_type": "markdown",
   "metadata": {},
   "source": [
    "Now let's actually try to index into it."
   ]
  },
  {
   "cell_type": "code",
   "execution_count": 7,
   "metadata": {},
   "outputs": [
    {
     "name": "stdout",
     "output_type": "stream",
     "text": [
      "(<1 2> ψ <1 2 3> ·+ <3 4 5>)\n"
     ]
    }
   ],
   "source": [
    "idxed = uarray.Index(uarray.Vector(1, 2), res)\n",
    "print(idxed)"
   ]
  },
  {
   "cell_type": "code",
   "execution_count": 8,
   "metadata": {},
   "outputs": [
    {
     "data": {
      "text/plain": [
       "Scalar(7)"
      ]
     },
     "execution_count": 8,
     "metadata": {},
     "output_type": "execute_result"
    }
   ],
   "source": [
    "uarray.replace(idxed)"
   ]
  },
  {
   "cell_type": "markdown",
   "metadata": {},
   "source": [
    "Wow, that looks right!"
   ]
  },
  {
   "cell_type": "markdown",
   "metadata": {},
   "source": [
    "## Partial Indexing\n",
    "Let's try partial indexing:"
   ]
  },
  {
   "cell_type": "code",
   "execution_count": 9,
   "metadata": {},
   "outputs": [
    {
     "name": "stdout",
     "output_type": "stream",
     "text": [
      "(<1> ψ <1 2 3> ·+ <3 4 5>)\n"
     ]
    }
   ],
   "source": [
    "p = uarray.Index(uarray.Vector(1), res)\n",
    "print(p)"
   ]
  },
  {
   "cell_type": "code",
   "execution_count": 10,
   "metadata": {},
   "outputs": [
    {
     "name": "stdout",
     "output_type": "stream",
     "text": [
      "2 ·+ <3 4 5>\n"
     ]
    }
   ],
   "source": [
    "partially_indexed_res = uarray.replace(p)\n",
    "print(partially_indexed_res)"
   ]
  },
  {
   "cell_type": "markdown",
   "metadata": {},
   "source": [
    "This seems right. Now let's see how it works:"
   ]
  },
  {
   "cell_type": "code",
   "execution_count": 11,
   "metadata": {},
   "outputs": [
    {
     "name": "stdout",
     "output_type": "stream",
     "text": [
      "(<1> ψ <1 2 3> ·+ <3 4 5>)\n",
      "(IsScalar(((δ(<1 2 3>) ↑ <1>) ψ <1 2 3>)) and IsScalar(((δ(<1 2 3>) ↓ <1>) ψ <3 4 5>))) ? <function outer_product_index.<locals>.<lambda> at 0x102be36a8> : <function outer_product_index.<locals>.<lambda> at 0x102be3730>\n",
      "((δ(((δ(<1 2 3>) ↑ <1>) ψ <1 2 3>)) ≡ 0) and IsScalar(((δ(<1 2 3>) ↓ <1>) ψ <3 4 5>))) ? <function outer_product_index.<locals>.<lambda> at 0x102be3840> : <function outer_product_index.<locals>.<lambda> at 0x102be38c8>\n",
      "(((<0> ψ ρ(ρ(((δ(<1 2 3>) ↑ <1>) ψ <1 2 3>)))) ≡ 0) and IsScalar(((δ(<1 2 3>) ↓ <1>) ψ <3 4 5>))) ? <function outer_product_index.<locals>.<lambda> at 0x102be3950> : <function outer_product_index.<locals>.<lambda> at 0x102ba48c8>\n",
      "(((<0> ψ ρ(ρ((((<0> ψ ρ(ρ(<1 2 3>))) ↑ <1>) ψ <1 2 3>)))) ≡ 0) and IsScalar(((δ(<1 2 3>) ↓ <1>) ψ <3 4 5>))) ? <function outer_product_index.<locals>.<lambda> at 0x102be39d8> : <function outer_product_index.<locals>.<lambda> at 0x102be3a60>\n",
      "(((<0> ψ ρ(ρ((((<0> ψ ρ(<3>)) ↑ <1>) ψ <1 2 3>)))) ≡ 0) and IsScalar(((δ(<1 2 3>) ↓ <1>) ψ <3 4 5>))) ? <function outer_product_index.<locals>.<lambda> at 0x102be3ae8> : <function outer_product_index.<locals>.<lambda> at 0x102be3400>\n",
      "(((<0> ψ ρ(ρ((((<0> ψ <1>) ↑ <1>) ψ <1 2 3>)))) ≡ 0) and IsScalar(((δ(<1 2 3>) ↓ <1>) ψ <3 4 5>))) ? <function outer_product_index.<locals>.<lambda> at 0x102be3d08> : <function outer_product_index.<locals>.<lambda> at 0x102be3bf8>\n",
      "(((<0> ψ ρ(ρ(((1 ↑ <1>) ψ <1 2 3>)))) ≡ 0) and IsScalar(((δ(<1 2 3>) ↓ <1>) ψ <3 4 5>))) ? <function outer_product_index.<locals>.<lambda> at 0x102be3e18> : <function outer_product_index.<locals>.<lambda> at 0x102be3620>\n",
      "(((<0> ψ ρ(ρ((<1> ψ <1 2 3>)))) ≡ 0) and IsScalar(((δ(<1 2 3>) ↓ <1>) ψ <3 4 5>))) ? <function outer_product_index.<locals>.<lambda> at 0x102be3378> : <function outer_product_index.<locals>.<lambda> at 0x102be31e0>\n",
      "(((<0> ψ ρ(ρ(2))) ≡ 0) and IsScalar(((δ(<1 2 3>) ↓ <1>) ψ <3 4 5>))) ? <function outer_product_index.<locals>.<lambda> at 0x102be3b70> : <function outer_product_index.<locals>.<lambda> at 0x102be3d90>\n",
      "(((<0> ψ ρ(<>)) ≡ 0) and IsScalar(((δ(<1 2 3>) ↓ <1>) ψ <3 4 5>))) ? <function outer_product_index.<locals>.<lambda> at 0x102be3f28> : <function outer_product_index.<locals>.<lambda> at 0x102be37b8>\n",
      "(((<0> ψ <0>) ≡ 0) and IsScalar(((δ(<1 2 3>) ↓ <1>) ψ <3 4 5>))) ? <function outer_product_index.<locals>.<lambda> at 0x102be3d90> : <function outer_product_index.<locals>.<lambda> at 0x102be32f0>\n",
      "((0 ≡ 0) and IsScalar(((δ(<1 2 3>) ↓ <1>) ψ <3 4 5>))) ? <function outer_product_index.<locals>.<lambda> at 0x102be3620> : <function outer_product_index.<locals>.<lambda> at 0x102be3bf8>\n",
      "(True and IsScalar(((δ(<1 2 3>) ↓ <1>) ψ <3 4 5>))) ? <function outer_product_index.<locals>.<lambda> at 0x102ba48c8> : <function outer_product_index.<locals>.<lambda> at 0x102be3510>\n",
      "(True and (δ(((δ(<1 2 3>) ↓ <1>) ψ <3 4 5>)) ≡ 0)) ? <function outer_product_index.<locals>.<lambda> at 0x102be3a60> : <function outer_product_index.<locals>.<lambda> at 0x102be3ae8>\n",
      "(True and ((<0> ψ ρ(ρ(((δ(<1 2 3>) ↓ <1>) ψ <3 4 5>)))) ≡ 0)) ? <function outer_product_index.<locals>.<lambda> at 0x102be38c8> : <function outer_product_index.<locals>.<lambda> at 0x102be3ea0>\n",
      "(True and ((<0> ψ ρ(ρ((((<0> ψ ρ(ρ(<1 2 3>))) ↓ <1>) ψ <3 4 5>)))) ≡ 0)) ? <function outer_product_index.<locals>.<lambda> at 0x102be3268> : <function outer_product_index.<locals>.<lambda> at 0x102be3488>\n",
      "(True and ((<0> ψ ρ(ρ((((<0> ψ ρ(<3>)) ↓ <1>) ψ <3 4 5>)))) ≡ 0)) ? <function outer_product_index.<locals>.<lambda> at 0x102be31e0> : <function outer_product_index.<locals>.<lambda> at 0x102be39d8>\n",
      "(True and ((<0> ψ ρ(ρ((((<0> ψ <1>) ↓ <1>) ψ <3 4 5>)))) ≡ 0)) ? <function outer_product_index.<locals>.<lambda> at 0x102be3840> : <function outer_product_index.<locals>.<lambda> at 0x102be3378>\n",
      "(True and ((<0> ψ ρ(ρ(((1 ↓ <1>) ψ <3 4 5>)))) ≡ 0)) ? <function outer_product_index.<locals>.<lambda> at 0x102be3950> : <function outer_product_index.<locals>.<lambda> at 0x102ba4840>\n",
      "(True and ((<0> ψ ρ(ρ((<> ψ <3 4 5>)))) ≡ 0)) ? <function outer_product_index.<locals>.<lambda> at 0x102be3e18> : <function outer_product_index.<locals>.<lambda> at 0x102ba4d08>\n",
      "(True and ((<0> ψ ρ(ρ(<3 4 5>))) ≡ 0)) ? <function outer_product_index.<locals>.<lambda> at 0x102be3c80> : <function outer_product_index.<locals>.<lambda> at 0x102ba4ea0>\n",
      "(True and ((<0> ψ ρ(<3>)) ≡ 0)) ? <function outer_product_index.<locals>.<lambda> at 0x102be3378> : <function outer_product_index.<locals>.<lambda> at 0x102be3950>\n",
      "(True and ((<0> ψ <1>) ≡ 0)) ? <function outer_product_index.<locals>.<lambda> at 0x102be3488> : <function outer_product_index.<locals>.<lambda> at 0x102be39d8>\n",
      "(True and (1 ≡ 0)) ? <function outer_product_index.<locals>.<lambda> at 0x102be3ae8> : <function outer_product_index.<locals>.<lambda> at 0x102be3510>\n",
      "(True and False) ? <function outer_product_index.<locals>.<lambda> at 0x102ba48c8> : <function outer_product_index.<locals>.<lambda> at 0x102ba4d08>\n",
      "False ? <function outer_product_index.<locals>.<lambda> at 0x102be32f0> : <function outer_product_index.<locals>.<lambda> at 0x102ba4620>\n",
      "((δ(<1 2 3>) ↑ <1>) ψ <1 2 3>) ·+ ((δ(<1 2 3>) ↓ <1>) ψ <3 4 5>)\n",
      "(((<0> ψ ρ(ρ(<1 2 3>))) ↑ <1>) ψ <1 2 3>) ·+ ((δ(<1 2 3>) ↓ <1>) ψ <3 4 5>)\n",
      "(((<0> ψ ρ(<3>)) ↑ <1>) ψ <1 2 3>) ·+ ((δ(<1 2 3>) ↓ <1>) ψ <3 4 5>)\n",
      "(((<0> ψ <1>) ↑ <1>) ψ <1 2 3>) ·+ ((δ(<1 2 3>) ↓ <1>) ψ <3 4 5>)\n",
      "((1 ↑ <1>) ψ <1 2 3>) ·+ ((δ(<1 2 3>) ↓ <1>) ψ <3 4 5>)\n",
      "(<1> ψ <1 2 3>) ·+ ((δ(<1 2 3>) ↓ <1>) ψ <3 4 5>)\n",
      "2 ·+ ((δ(<1 2 3>) ↓ <1>) ψ <3 4 5>)\n",
      "2 ·+ (((<0> ψ ρ(ρ(<1 2 3>))) ↓ <1>) ψ <3 4 5>)\n",
      "2 ·+ (((<0> ψ ρ(<3>)) ↓ <1>) ψ <3 4 5>)\n",
      "2 ·+ (((<0> ψ <1>) ↓ <1>) ψ <3 4 5>)\n",
      "2 ·+ ((1 ↓ <1>) ψ <3 4 5>)\n",
      "2 ·+ (<> ψ <3 4 5>)\n",
      "2 ·+ <3 4 5>\n"
     ]
    }
   ],
   "source": [
    "uarray.replace_debug(p, 40)"
   ]
  },
  {
   "cell_type": "markdown",
   "metadata": {},
   "source": [
    "And now if we index the second value, we should get the same result"
   ]
  },
  {
   "cell_type": "code",
   "execution_count": 12,
   "metadata": {},
   "outputs": [
    {
     "name": "stdout",
     "output_type": "stream",
     "text": [
      "7\n"
     ]
    }
   ],
   "source": [
    "print(uarray.replace(uarray.Index(uarray.Vector(2), partially_indexed_res)))"
   ]
  },
  {
   "cell_type": "markdown",
   "metadata": {},
   "source": [
    "## Full Computation"
   ]
  },
  {
   "cell_type": "markdown",
   "metadata": {},
   "source": [
    "Now let's try to export the whole resulting array to Python:"
   ]
  },
  {
   "cell_type": "code",
   "execution_count": 13,
   "metadata": {},
   "outputs": [
    {
     "name": "stdout",
     "output_type": "stream",
     "text": [
      "AsArray(<1 2 3> ·+ <3 4 5>)\n"
     ]
    }
   ],
   "source": [
    "as_array = uarray.AsArray(res)\n",
    "print(as_array)"
   ]
  },
  {
   "cell_type": "code",
   "execution_count": 14,
   "metadata": {},
   "outputs": [
    {
     "data": {
      "text/plain": [
       "Array('[4 5 6 5 6 7 6 7 8; ρ=(3, 3)]')"
      ]
     },
     "execution_count": 14,
     "metadata": {},
     "output_type": "execute_result"
    }
   ],
   "source": [
    "uarray.replace(as_array)"
   ]
  },
  {
   "cell_type": "markdown",
   "metadata": {},
   "source": [
    "And if we wanna look at the trace:"
   ]
  },
  {
   "cell_type": "code",
   "execution_count": 17,
   "metadata": {},
   "outputs": [
    {
     "name": "stdout",
     "output_type": "stream",
     "text": [
      "AsArray(<1 2 3> ·+ <3 4 5>)\n",
      "AsArrayWithShape(ρ(<1 2 3> ·+ <3 4 5>), <1 2 3> ·+ <3 4 5>)\n",
      "AsArrayWithShape((ρ(<1 2 3>) ‡ ρ(<3 4 5>)), <1 2 3> ·+ <3 4 5>)\n",
      "AsArrayWithShape((<3> ‡ ρ(<3 4 5>)), <1 2 3> ·+ <3 4 5>)\n",
      "AsArrayWithShape((<3> ‡ <3>), <1 2 3> ·+ <3 4 5>)\n",
      "AsArrayWithShape(<3 3>, <1 2 3> ·+ <3 4 5>)\n",
      "AsArrayWithValues(<3 3>, (<0 0> ψ <1 2 3> ·+ <3 4 5>), (<0 1> ψ <1 2 3> ·+ <3 4 5>), (<0 2> ψ <1 2 3> ·+ <3 4 5>), (<1 0> ψ <1 2 3> ·+ <3 4 5>), (<1 1> ψ <1 2 3> ·+ <3 4 5>), (<1 2> ψ <1 2 3> ·+ <3 4 5>), (<2 0> ψ <1 2 3> ·+ <3 4 5>), (<2 1> ψ <1 2 3> ·+ <3 4 5>), (<2 2> ψ <1 2 3> ·+ <3 4 5>))\n"
     ]
    }
   ],
   "source": [
    "uarray.replace_debug(as_array, 7)"
   ]
  }
 ],
 "metadata": {
  "kernelspec": {
   "display_name": "Python 3",
   "language": "python",
   "name": "python3"
  },
  "language_info": {
   "codemirror_mode": {
    "name": "ipython",
    "version": 3
   },
   "file_extension": ".py",
   "mimetype": "text/x-python",
   "name": "python",
   "nbconvert_exporter": "python",
   "pygments_lexer": "ipython3",
   "version": "3.7.0"
  }
 },
 "nbformat": 4,
 "nbformat_minor": 2
}
