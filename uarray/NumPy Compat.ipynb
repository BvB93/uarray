{
 "cells": [
  {
   "cell_type": "markdown",
   "metadata": {},
   "source": [
    "# `uarray` NumPy Compatability"
   ]
  },
  {
   "cell_type": "code",
   "execution_count": 1,
   "metadata": {},
   "outputs": [],
   "source": [
    "from uarray import *\n",
    "import numpy as np\n",
    "from numba import njit"
   ]
  },
  {
   "cell_type": "markdown",
   "metadata": {},
   "source": [
    "## Original Expression"
   ]
  },
  {
   "cell_type": "markdown",
   "metadata": {},
   "source": [
    "Let's look at this simple NumPy expression of calling the outer production of two values and then indexing it:"
   ]
  },
  {
   "cell_type": "code",
   "execution_count": 2,
   "metadata": {},
   "outputs": [],
   "source": [
    "def some_fn(a, b):\n",
    "    return np.multiply.outer(a, b)[5]"
   ]
  },
  {
   "cell_type": "markdown",
   "metadata": {},
   "source": [
    "We can see that this does a lot of extra work, since we discard most of the results of the outer product after indexing. We can look at the time:"
   ]
  },
  {
   "cell_type": "code",
   "execution_count": 3,
   "metadata": {},
   "outputs": [],
   "source": [
    "args = [np.arange(1000), np.arange(10)]"
   ]
  },
  {
   "cell_type": "code",
   "execution_count": 4,
   "metadata": {},
   "outputs": [
    {
     "name": "stdout",
     "output_type": "stream",
     "text": [
      "CPU times: user 230 µs, sys: 107 µs, total: 337 µs\n",
      "Wall time: 285 µs\n"
     ]
    },
    {
     "data": {
      "text/plain": [
       "array([ 0,  5, 10, 15, 20, 25, 30, 35, 40, 45])"
      ]
     },
     "execution_count": 4,
     "metadata": {},
     "output_type": "execute_result"
    }
   ],
   "source": [
    "%time some_fn(*args)"
   ]
  },
  {
   "cell_type": "markdown",
   "metadata": {},
   "source": [
    "## Uarray reduced"
   ]
  },
  {
   "cell_type": "markdown",
   "metadata": {},
   "source": [
    "Now let's use uarray's `optimize` decorator to create an updated function that specifes the dimensionality of the arrays to produced an optimized form:"
   ]
  },
  {
   "cell_type": "code",
   "execution_count": 5,
   "metadata": {},
   "outputs": [],
   "source": [
    "@optimize\n",
    "def optimized_some_fn(a, b):\n",
    "    return some_fn(a.has_dim(1), b.has_dim(1))"
   ]
  },
  {
   "cell_type": "markdown",
   "metadata": {},
   "source": [
    "Now let's try our function out to see if it's faster:"
   ]
  },
  {
   "cell_type": "code",
   "execution_count": 6,
   "metadata": {},
   "outputs": [
    {
     "name": "stdout",
     "output_type": "stream",
     "text": [
      "CPU times: user 27 µs, sys: 7 µs, total: 34 µs\n",
      "Wall time: 39.1 µs\n"
     ]
    },
    {
     "data": {
      "text/plain": [
       "array([ 0.,  5., 10., 15., 20., 25., 30., 35., 40., 45.])"
      ]
     },
     "execution_count": 6,
     "metadata": {},
     "output_type": "execute_result"
    }
   ],
   "source": [
    "%time optimized_some_fn(*args)"
   ]
  },
  {
   "cell_type": "markdown",
   "metadata": {},
   "source": [
    "Yep about 10x as fast. Let's look at how this is done! First, we create an abstract representation of the array operations:"
   ]
  },
  {
   "cell_type": "code",
   "execution_count": 7,
   "metadata": {},
   "outputs": [
    {
     "data": {
      "text/plain": [
       "Index(Sequence(Value('1'), VectorCallable(Content(Scalar(Value('5'))))),\n",
       "      OuterProduct(Function(Content(Call(Ufunc(<ufunc 'multiply'>),\n",
       "                                         Scalar(Unbound('', variable_name=i0)),\n",
       "                                         Scalar(Unbound('', variable_name=i1)))),\n",
       "                            Unbound('', variable_name=i0),\n",
       "                            Unbound('', variable_name=i1)),\n",
       "                   ToSequenceWithDim(NPArray(Expression(Name(id='a', ctx=Load()))),\n",
       "                                     Value('1')),\n",
       "                   ToSequenceWithDim(NPArray(Expression(Name(id='b', ctx=Load()))),\n",
       "                                     Value('1'))))"
      ]
     },
     "execution_count": 7,
     "metadata": {},
     "output_type": "execute_result"
    }
   ],
   "source": [
    "optimized_some_fn.__optimize_steps__['resulting_expr']"
   ]
  },
  {
   "cell_type": "markdown",
   "metadata": {},
   "source": [
    "Then, we compile that to Python AST:"
   ]
  },
  {
   "cell_type": "code",
   "execution_count": 8,
   "metadata": {},
   "outputs": [
    {
     "name": "stdout",
     "output_type": "stream",
     "text": [
      "\n",
      "\n",
      "def fn(a, b):\n",
      "    i_5 = ()\n",
      "    i_6 = b.shape[0]\n",
      "    i_1 = ((i_6,) + i_5)\n",
      "    i_0 = np.empty(i_1)\n",
      "    i_2 = b.shape[0]\n",
      "    for i_3 in range(i_2):\n",
      "        i_9 = 5\n",
      "        i_10 = a\n",
      "        i_7 = i_10[i_9]\n",
      "        i_11 = i_3\n",
      "        i_12 = b\n",
      "        i_8 = i_12[i_11]\n",
      "        i_4 = (i_7 * i_8)\n",
      "        i_0[i_3] = i_4\n",
      "    return i_0\n",
      "\n"
     ]
    }
   ],
   "source": [
    "print(optimized_some_fn.__optimize_steps__['ast_as_source'])"
   ]
  },
  {
   "cell_type": "markdown",
   "metadata": {},
   "source": [
    "## Numba optimized"
   ]
  },
  {
   "cell_type": "markdown",
   "metadata": {},
   "source": [
    "To give this an extra speed boost, we can compile the returned expression with Numba:"
   ]
  },
  {
   "cell_type": "code",
   "execution_count": 9,
   "metadata": {},
   "outputs": [],
   "source": [
    "numba_optimized = njit(optimized_some_fn)"
   ]
  },
  {
   "cell_type": "code",
   "execution_count": 10,
   "metadata": {},
   "outputs": [
    {
     "name": "stdout",
     "output_type": "stream",
     "text": [
      "CPU times: user 8 µs, sys: 1 µs, total: 9 µs\n",
      "Wall time: 11.7 µs\n"
     ]
    },
    {
     "data": {
      "text/plain": [
       "array([ 0.,  5., 10., 15., 20., 25., 30., 35., 40., 45.])"
      ]
     },
     "execution_count": 10,
     "metadata": {},
     "output_type": "execute_result"
    }
   ],
   "source": [
    "# run once first to compile\n",
    "numba_optimized(*args)\n",
    "                \n",
    "%time numba_optimized(*args)"
   ]
  },
  {
   "cell_type": "markdown",
   "metadata": {},
   "source": [
    "Great, another 2x speedup!"
   ]
  },
  {
   "cell_type": "code",
   "execution_count": 11,
   "metadata": {},
   "outputs": [],
   "source": [
    "# ast.dump(ast.parse(\"(1,) + ()\"))"
   ]
  },
  {
   "cell_type": "markdown",
   "metadata": {},
   "source": [
    "## Unkown dimensionality?"
   ]
  },
  {
   "cell_type": "markdown",
   "metadata": {},
   "source": [
    "What if we want to produce a version of the function that works on any dimensional input? Or if we just want to actually defer to NumPy's implementation and not replace `outer`? We simply omit the `with_dim` methods and we get back an abstract representation that is compiled without any knowledge of the dimensionality:"
   ]
  },
  {
   "cell_type": "code",
   "execution_count": 12,
   "metadata": {},
   "outputs": [
    {
     "data": {
      "text/plain": [
       "<function __main__.some_fn(a, b)>"
      ]
     },
     "execution_count": 12,
     "metadata": {},
     "output_type": "execute_result"
    }
   ],
   "source": [
    "some_fn"
   ]
  },
  {
   "cell_type": "code",
   "execution_count": 13,
   "metadata": {},
   "outputs": [],
   "source": [
    "dims_not_known = optimize(some_fn)"
   ]
  },
  {
   "cell_type": "code",
   "execution_count": 15,
   "metadata": {},
   "outputs": [
    {
     "data": {
      "text/plain": [
       "Index(Sequence(Value('1'), VectorCallable(Content(Scalar(Value('5'))))),\n",
       "      OuterProduct(Function(Content(Call(Ufunc(<ufunc 'multiply'>),\n",
       "                                         Scalar(Unbound('', variable_name=i6)),\n",
       "                                         Scalar(Unbound('', variable_name=i7)))),\n",
       "                            Unbound('', variable_name=i6),\n",
       "                            Unbound('', variable_name=i7)),\n",
       "                   NPArray(Expression(Name(id='a', ctx=Load()))),\n",
       "                   NPArray(Expression(Name(id='b', ctx=Load())))))"
      ]
     },
     "execution_count": 15,
     "metadata": {},
     "output_type": "execute_result"
    }
   ],
   "source": [
    "dims_not_known.__optimize_steps__['resulting_expr']"
   ]
  },
  {
   "cell_type": "code",
   "execution_count": 17,
   "metadata": {},
   "outputs": [
    {
     "name": "stdout",
     "output_type": "stream",
     "text": [
      "\n",
      "\n",
      "def fn(a, b):\n",
      "    i_14 = 5\n",
      "    i_16 = a\n",
      "    i_17 = b\n",
      "    i_15 = np.multiply.outer(i_16, i_17)\n",
      "    i_13 = i_15[i_14]\n",
      "    return i_13\n",
      "\n"
     ]
    }
   ],
   "source": [
    "print(dims_not_known.__optimize_steps__['ast_as_source'])"
   ]
  }
 ],
 "metadata": {
  "kernelspec": {
   "display_name": "Python 3",
   "language": "python",
   "name": "python3"
  },
  "language_info": {
   "codemirror_mode": {
    "name": "ipython",
    "version": 3
   },
   "file_extension": ".py",
   "mimetype": "text/x-python",
   "name": "python",
   "nbconvert_exporter": "python",
   "pygments_lexer": "ipython3",
   "version": "3.6.6"
  }
 },
 "nbformat": 4,
 "nbformat_minor": 2
}
