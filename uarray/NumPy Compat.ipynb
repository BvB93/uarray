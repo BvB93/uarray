{
 "cells": [
  {
   "cell_type": "markdown",
   "metadata": {},
   "source": [
    "# Numpy Compat"
   ]
  },
  {
   "cell_type": "code",
   "execution_count": 1,
   "metadata": {},
   "outputs": [],
   "source": [
    "from uarray import *\n",
    "from uarray.ast import *\n",
    "import numpy as np\n",
    "import matchpy\n",
    "import ast\n",
    "import typing"
   ]
  },
  {
   "cell_type": "code",
   "execution_count": 2,
   "metadata": {},
   "outputs": [],
   "source": [
    "@optimize(final_call=lambda e: e)\n",
    "def some_fn(a, b):\n",
    "    return np.multiply.outer(a, b)[10]"
   ]
  },
  {
   "cell_type": "code",
   "execution_count": null,
   "metadata": {},
   "outputs": [],
   "source": []
  },
  {
   "cell_type": "code",
   "execution_count": 3,
   "metadata": {},
   "outputs": [
    {
     "data": {
      "text/plain": [
       "Sequence(Length(Expression(Name(id='b', ctx=Load()))),\n",
       "         Function(Scalar(Multiply(Content(Call(Content(Expression(Name(id='a', ctx=Load()))),\n",
       "                                               Value('10'))),\n",
       "                                  Content(Call(Content(Expression(Name(id='b', ctx=Load()))),\n",
       "                                               Unbound('', variable_name=i5))))),\n",
       "                  Unbound('', variable_name=i5)))"
      ]
     },
     "execution_count": 3,
     "metadata": {},
     "output_type": "execute_result"
    }
   ],
   "source": [
    "e = some_fn(ArrayLike(with_dims(Expression(ast.Name(\"a\", ast.Load())), 1)), ArrayLike(with_dims(Expression(ast.Name(\"b\", ast.Load())), 1)))\n",
    "e"
   ]
  },
  {
   "cell_type": "code",
   "execution_count": 4,
   "metadata": {},
   "outputs": [
    {
     "data": {
      "text/plain": [
       "Sequence(Length(Expression(Name(id='b', ctx=Load()))),\n",
       "         Function(Scalar(Multiply(Content(Call(Content(Expression(Name(id='a', ctx=Load()))),\n",
       "                                               Value('10'))),\n",
       "                                  Content(Call(Content(Expression(Name(id='b', ctx=Load()))),\n",
       "                                               Unbound('', variable_name=i5))))),\n",
       "                  Unbound('', variable_name=i5)))"
      ]
     },
     "execution_count": 4,
     "metadata": {},
     "output_type": "execute_result"
    }
   ],
   "source": [
    "replace(e)"
   ]
  },
  {
   "cell_type": "code",
   "execution_count": 5,
   "metadata": {},
   "outputs": [
    {
     "data": {
      "text/plain": [
       "(AssignAsNestedList(Sequence(Value('1'),\n",
       "                            VectorCallable(Length(Expression(Name(id='b', ctx=Load()))))),\n",
       "                   Value(\"'id0'\")),\n",
       " Statement(Assign(targets=[Name(id='res', ctx=Store())], value=Call(func=Attribute(value=Name(id='np', ctx=Load()), attr='array', ctx=Load()), args=[Call(func=Name(id='tuple', ctx=Load()), args=[Name(id='id0', ctx=Load())], keywords=[])], keywords=[]))),\n",
       " Call(Call(SubstituteStatements(<function assign_sequence_nparray.<locals>.inner at 0x110c57d90>),\n",
       "          AssignAsValue(Length(Expression(Name(id='b', ctx=Load()))),\n",
       "                        Value(\"'id2'\"))),\n",
       "     Call(Call(SubstituteStatements(<function _assign_multiply.<locals>.inner at 0x110c3bf28>),\n",
       "               AssignAsValue(Content(Call(Content(Expression(Name(id='a', ctx=Load()))),\n",
       "                                          Value('10'))),\n",
       "                             'id4')),\n",
       "          AssignAsValue(Content(Call(Content(Expression(Name(id='b', ctx=Load()))),\n",
       "                                     Expression(Subscript(value=Name(id='res', ctx=Load()), slice=Index(value=Name(id='id1', ctx=Load())), ctx=Load())))),\n",
       "                        'id5'))))"
      ]
     },
     "execution_count": 5,
     "metadata": {},
     "output_type": "execute_result"
    }
   ],
   "source": [
    "replace(AssignAsNPArray(replace(e), Value(\"res\"), Value(True)))"
   ]
  },
  {
   "cell_type": "code",
   "execution_count": 6,
   "metadata": {},
   "outputs": [
    {
     "ename": "NameError",
     "evalue": "name 'args' is not defined",
     "output_type": "error",
     "traceback": [
      "\u001b[0;31m---------------------------------------------------------------------------\u001b[0m",
      "\u001b[0;31mNameError\u001b[0m                                 Traceback (most recent call last)",
      "\u001b[0;32m<timed eval>\u001b[0m in \u001b[0;36m<module>\u001b[0;34m()\u001b[0m\n",
      "\u001b[0;31mNameError\u001b[0m: name 'args' is not defined"
     ]
    }
   ],
   "source": [
    "%time some_fn.__wrapped__(*args)"
   ]
  },
  {
   "cell_type": "code",
   "execution_count": 7,
   "metadata": {},
   "outputs": [],
   "source": [
    "# import logging\n",
    "\n",
    "# logging.basicConfig(level=logging.DEBUG)\n"
   ]
  },
  {
   "cell_type": "code",
   "execution_count": 8,
   "metadata": {},
   "outputs": [
    {
     "ename": "NameError",
     "evalue": "name 'args' is not defined",
     "output_type": "error",
     "traceback": [
      "\u001b[0;31m---------------------------------------------------------------------------\u001b[0m",
      "\u001b[0;31mNameError\u001b[0m                                 Traceback (most recent call last)",
      "\u001b[0;32m<timed eval>\u001b[0m in \u001b[0;36m<module>\u001b[0;34m()\u001b[0m\n",
      "\u001b[0;31mNameError\u001b[0m: name 'args' is not defined"
     ]
    }
   ],
   "source": [
    "%time some_fn(*args)"
   ]
  },
  {
   "cell_type": "markdown",
   "metadata": {},
   "source": [
    "## Tensorflow support\n",
    "\n",
    "Even though we support the NumPy API, that doesn't tie us to using NumPy arrays. Instead let's add support for TensorFlow arrays and use those:"
   ]
  },
  {
   "cell_type": "code",
   "execution_count": 9,
   "metadata": {},
   "outputs": [],
   "source": [
    "import tensorflow as tf"
   ]
  },
  {
   "cell_type": "markdown",
   "metadata": {},
   "source": [
    "We have to define a way to take the final reduced expression and return a tensorflow graph.\n",
    "\n",
    "We can do this by creating an empty TF array, and looping over all possible"
   ]
  },
  {
   "cell_type": "code",
   "execution_count": 10,
   "metadata": {},
   "outputs": [],
   "source": [
    "class TFTensor(matchpy.Symbol):\n",
    "    pass"
   ]
  },
  {
   "cell_type": "code",
   "execution_count": 11,
   "metadata": {},
   "outputs": [],
   "source": [
    "class ToTFTensor(matchpy.Operation):\n",
    "    name = \"ToTFTensor\"\n",
    "    arity = matchpy.Arity(1, False)"
   ]
  },
  {
   "cell_type": "code",
   "execution_count": 12,
   "metadata": {},
   "outputs": [],
   "source": [
    "class ToTFTensorInner(matchpy.Operation):\n",
    "    name = \"ToTFTensorInner\"\n",
    "    arity = matchpy.Arity(1, False)"
   ]
  },
  {
   "cell_type": "code",
   "execution_count": 13,
   "metadata": {},
   "outputs": [],
   "source": [
    "register(ToTFTensor(Scalar(w.x)), lambda x: Scalar(ToTFTensor(x)))\n",
    "register(ToTFTensor(Value.w.x), lambda x: ToTFTensorInner(x))"
   ]
  },
  {
   "cell_type": "code",
   "execution_count": 14,
   "metadata": {},
   "outputs": [],
   "source": [
    "register(ToTFTensorInner(Value.w.x), lambda x: Content(TFTensor(tf.convert_to_tensor(x.value))))"
   ]
  },
  {
   "cell_type": "code",
   "execution_count": 15,
   "metadata": {},
   "outputs": [],
   "source": [
    "register(ToTFTensor(Sequence(w.length, w.content)),lambda length, content: ToTFTensorInner(\n",
    "    Sequence(\n",
    "        ToTFTensor(length),\n",
    "        ToGenerateTFTensor(Call(content, Content(GenerateTFTensor(lambda i: i))))\n",
    "    )\n",
    "))"
   ]
  },
  {
   "cell_type": "code",
   "execution_count": 16,
   "metadata": {},
   "outputs": [],
   "source": [
    "class GenerateTFTensor(matchpy.Symbol):\n",
    "    \"\"\"\n",
    "    GenerateTFTensor(lambda i: tf.Tensor(...))\n",
    "    \"\"\"\n",
    "    pass"
   ]
  },
  {
   "cell_type": "code",
   "execution_count": 17,
   "metadata": {},
   "outputs": [],
   "source": [
    "class ToGenerateTFTensor(matchpy.Operation):\n",
    "    name = \"ToGenerateTFTensor\"\n",
    "    arity = matchpy.Arity(1, False)"
   ]
  },
  {
   "cell_type": "code",
   "execution_count": 18,
   "metadata": {},
   "outputs": [],
   "source": [
    "register(\n",
    "    ToTFTensorInner(Sequence(Content(TFTensor.w.length), GenerateTFTensor.w.content)),\n",
    "    lambda length, content: TFTensor(tf.stack(tf.map_fn(\n",
    "        content.name,\n",
    "        tf.range(length.name)\n",
    "    ))))"
   ]
  },
  {
   "cell_type": "code",
   "execution_count": 19,
   "metadata": {},
   "outputs": [],
   "source": [
    "register(Scalar(Content(GenerateTFTensor.w.x)), lambda x: x)\n",
    "register(ToGenerateTFTensor(GenerateTFTensor.w.x), lambda x: x)\n"
   ]
  },
  {
   "cell_type": "code",
   "execution_count": 20,
   "metadata": {},
   "outputs": [
    {
     "ename": "NameError",
     "evalue": "name 'uarray' is not defined",
     "output_type": "error",
     "traceback": [
      "\u001b[0;31m---------------------------------------------------------------------------\u001b[0m",
      "\u001b[0;31mNameError\u001b[0m                                 Traceback (most recent call last)",
      "\u001b[0;32m<ipython-input-20-f6cb3aca750f>\u001b[0m in \u001b[0;36m<module>\u001b[0;34m()\u001b[0m\n\u001b[0;32m----> 1\u001b[0;31m \u001b[0mexpr\u001b[0m \u001b[0;34m=\u001b[0m \u001b[0muarray\u001b[0m\u001b[0;34m.\u001b[0m\u001b[0mOuterProduct\u001b[0m\u001b[0;34m(\u001b[0m\u001b[0mfunction\u001b[0m\u001b[0;34m(\u001b[0m\u001b[0;36m2\u001b[0m\u001b[0;34m,\u001b[0m \u001b[0mMultiply\u001b[0m\u001b[0;34m)\u001b[0m\u001b[0;34m,\u001b[0m \u001b[0muarray\u001b[0m\u001b[0;34m.\u001b[0m\u001b[0mIota\u001b[0m\u001b[0;34m(\u001b[0m\u001b[0muarray\u001b[0m\u001b[0;34m.\u001b[0m\u001b[0mscalar\u001b[0m\u001b[0;34m(\u001b[0m\u001b[0;36m100\u001b[0m\u001b[0;34m)\u001b[0m\u001b[0;34m)\u001b[0m\u001b[0;34m,\u001b[0m \u001b[0muarray\u001b[0m\u001b[0;34m.\u001b[0m\u001b[0mIota\u001b[0m\u001b[0;34m(\u001b[0m\u001b[0muarray\u001b[0m\u001b[0;34m.\u001b[0m\u001b[0mscalar\u001b[0m\u001b[0;34m(\u001b[0m\u001b[0;36m10\u001b[0m\u001b[0;34m)\u001b[0m\u001b[0;34m)\u001b[0m\u001b[0;34m)\u001b[0m\u001b[0;34m\u001b[0m\u001b[0m\n\u001b[0m",
      "\u001b[0;31mNameError\u001b[0m: name 'uarray' is not defined"
     ]
    }
   ],
   "source": [
    "expr = uarray.OuterProduct(function(2, Multiply), uarray.Iota(uarray.scalar(100)), uarray.Iota(uarray.scalar(10)))"
   ]
  },
  {
   "cell_type": "code",
   "execution_count": null,
   "metadata": {},
   "outputs": [],
   "source": [
    "register(ToGenerateTFTensor(Sequence(w.x, )))"
   ]
  },
  {
   "cell_type": "code",
   "execution_count": null,
   "metadata": {},
   "outputs": [],
   "source": [
    "replace(ToTFTensor((replace(expr))))"
   ]
  },
  {
   "cell_type": "code",
   "execution_count": null,
   "metadata": {},
   "outputs": [],
   "source": [
    "g_1 = tf.Graph()"
   ]
  },
  {
   "cell_type": "code",
   "execution_count": null,
   "metadata": {},
   "outputs": [],
   "source": [
    "with g_1.as_default():\n",
    "    with tf.Session():\n",
    "        res = uarray.replace(expr).name\n",
    "        print(res.eval())"
   ]
  },
  {
   "cell_type": "code",
   "execution_count": null,
   "metadata": {},
   "outputs": [],
   "source": [
    "from IPython.display import clear_output, Image, display, HTML\n",
    "\n",
    "def strip_consts(graph_def, max_const_size=32):\n",
    "    \"\"\"Strip large constant values from graph_def.\"\"\"\n",
    "    strip_def = tf.GraphDef()\n",
    "    for n0 in graph_def.node:\n",
    "        n = strip_def.node.add() \n",
    "        n.MergeFrom(n0)\n",
    "        if n.op == 'Const':\n",
    "            tensor = n.attr['value'].tensor\n",
    "            size = len(tensor.tensor_content)\n",
    "            if size > max_const_size:\n",
    "                tensor.tensor_content = \"<stripped %d bytes>\"%size\n",
    "    return strip_def\n",
    "\n",
    "def show_graph(graph_def, max_const_size=32):\n",
    "    \"\"\"Visualize TensorFlow graph.\"\"\"\n",
    "    if hasattr(graph_def, 'as_graph_def'):\n",
    "        graph_def = graph_def.as_graph_def()\n",
    "    strip_def = strip_consts(graph_def, max_const_size=max_const_size)\n",
    "    code = \"\"\"\n",
    "        <script>\n",
    "          function load() {{\n",
    "            document.getElementById(\"{id}\").pbtxt = {data};\n",
    "          }}\n",
    "        </script>\n",
    "        <link rel=\"import\" href=\"https://tensorboard.appspot.com/tf-graph-basic.build.html\" onload=load()>\n",
    "        <div style=\"height:600px\">\n",
    "          <tf-graph-basic id=\"{id}\"></tf-graph-basic>\n",
    "        </div>\n",
    "    \"\"\".format(data=repr(str(strip_def)), id='graph'+str(np.random.rand()))\n",
    "\n",
    "    iframe = \"\"\"\n",
    "        <iframe seamless style=\"width:1200px;height:620px;border:0\" srcdoc=\"{}\"></iframe>\n",
    "    \"\"\".format(code.replace('\"', '&quot;'))\n",
    "    display(HTML(iframe))"
   ]
  },
  {
   "cell_type": "code",
   "execution_count": null,
   "metadata": {},
   "outputs": [],
   "source": [
    "show_graph(g_1.as_graph_def())\n"
   ]
  },
  {
   "cell_type": "code",
   "execution_count": null,
   "metadata": {},
   "outputs": [],
   "source": [
    "import numba"
   ]
  },
  {
   "cell_type": "code",
   "execution_count": null,
   "metadata": {},
   "outputs": [],
   "source": [
    "@numba.njit\n",
    "def hi():\n",
    "    return np.empty([1, 2])"
   ]
  },
  {
   "cell_type": "code",
   "execution_count": null,
   "metadata": {},
   "outputs": [],
   "source": [
    "hi()"
   ]
  },
  {
   "cell_type": "code",
   "execution_count": null,
   "metadata": {},
   "outputs": [],
   "source": [
    "class A(matchpy.Symbol):\n",
    "    pass"
   ]
  },
  {
   "cell_type": "code",
   "execution_count": null,
   "metadata": {},
   "outputs": [],
   "source": [
    "def _a(x):\n",
    "    yield Valuast.parse(\"print('hello world')\")e(1)\n",
    "    yield Value(2)\n",
    "register(A.w.x, _a)"
   ]
  },
  {
   "cell_type": "code",
   "execution_count": null,
   "metadata": {},
   "outputs": [],
   "source": []
  },
  {
   "cell_type": "code",
   "execution_count": null,
   "metadata": {},
   "outputs": [],
   "source": [
    "replace(uarray.core.VectorCallable(A(\"df\"), A(\"df\")))"
   ]
  },
  {
   "cell_type": "code",
   "execution_count": 22,
   "metadata": {},
   "outputs": [
    {
     "data": {
      "text/plain": [
       "\"Module(body=[Expr(value=Attribute(value=Name(id='a', ctx=Load()), attr='shape', ctx=Load()))])\""
      ]
     },
     "execution_count": 22,
     "metadata": {},
     "output_type": "execute_result"
    }
   ],
   "source": [
    "ast.dump(ast.parse(\"a.shape\"))"
   ]
  },
  {
   "cell_type": "code",
   "execution_count": null,
   "metadata": {},
   "outputs": [],
   "source": [
    "list(1)"
   ]
  },
  {
   "cell_type": "code",
   "execution_count": null,
   "metadata": {},
   "outputs": [],
   "source": [
    "np.inner(np.arange(10), np.arange(10))"
   ]
  },
  {
   "cell_type": "code",
   "execution_count": null,
   "metadata": {},
   "outputs": [],
   "source": [
    "a = np.empty(tuple())"
   ]
  },
  {
   "cell_type": "code",
   "execution_count": null,
   "metadata": {},
   "outputs": [],
   "source": [
    "a"
   ]
  },
  {
   "cell_type": "code",
   "execution_count": null,
   "metadata": {},
   "outputs": [],
   "source": []
  },
  {
   "cell_type": "code",
   "execution_count": null,
   "metadata": {},
   "outputs": [],
   "source": []
  },
  {
   "cell_type": "code",
   "execution_count": null,
   "metadata": {},
   "outputs": [],
   "source": []
  }
 ],
 "metadata": {
  "kernelspec": {
   "display_name": "Python 3",
   "language": "python",
   "name": "python3"
  },
  "language_info": {
   "codemirror_mode": {
    "name": "ipython",
    "version": 3
   },
   "file_extension": ".py",
   "mimetype": "text/x-python",
   "name": "python",
   "nbconvert_exporter": "python",
   "pygments_lexer": "ipython3",
   "version": "3.6.6"
  }
 },
 "nbformat": 4,
 "nbformat_minor": 2
}
