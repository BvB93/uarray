{
 "cells": [
  {
   "cell_type": "markdown",
   "metadata": {},
   "source": [
    "# Numpy Compat"
   ]
  },
  {
   "cell_type": "code",
   "execution_count": 23,
   "metadata": {},
   "outputs": [],
   "source": [
    "from uarray import *\n",
    "import numpy as np\n"
   ]
  },
  {
   "cell_type": "code",
   "execution_count": 24,
   "metadata": {},
   "outputs": [],
   "source": [
    "args = [np.arange(1000), np.arange(10)]"
   ]
  },
  {
   "cell_type": "code",
   "execution_count": 25,
   "metadata": {},
   "outputs": [],
   "source": [
    "@optimize\n",
    "def some_fn(a, b):\n",
    "    return np.multiply.outer(a, b)[5]"
   ]
  },
  {
   "cell_type": "code",
   "execution_count": 26,
   "metadata": {},
   "outputs": [
    {
     "name": "stdout",
     "output_type": "stream",
     "text": [
      "\n",
      "\n",
      "def fn(a, b):\n",
      "    i_39 = 5\n",
      "    i_41 = a\n",
      "    i_42 = b\n",
      "    i_40 = np.multiply.outer(i_41, i_42)\n",
      "    i_38 = i_40[i_39]\n",
      "    return i_38\n",
      "\n"
     ]
    }
   ],
   "source": [
    "print(some_fn.__optimize_steps__['ast_as_source'])"
   ]
  },
  {
   "cell_type": "code",
   "execution_count": 27,
   "metadata": {},
   "outputs": [
    {
     "data": {
      "text/plain": [
       "array([ 0,  5, 10, 15, 20, 25, 30, 35, 40, 45])"
      ]
     },
     "execution_count": 27,
     "metadata": {},
     "output_type": "execute_result"
    }
   ],
   "source": [
    "some_fn(*args)"
   ]
  },
  {
   "cell_type": "code",
   "execution_count": 28,
   "metadata": {},
   "outputs": [],
   "source": [
    "@optimize\n",
    "def some_fn_t(a, b):\n",
    "    a = a.has_dim(1)\n",
    "    b = b.has_dim(1)\n",
    "    return np.multiply.outer(a, b)[5]"
   ]
  },
  {
   "cell_type": "code",
   "execution_count": 29,
   "metadata": {},
   "outputs": [
    {
     "name": "stdout",
     "output_type": "stream",
     "text": [
      "\n",
      "\n",
      "def fn(a, b):\n",
      "    i_48 = 1\n",
      "    i_44 = ([0] * i_48)\n",
      "    for i_49 in range(i_48):\n",
      "        i_50 = (b.shape[0],)[i_49]\n",
      "        i_44[i_49] = i_50\n",
      "    i_43 = np.empty(tuple(i_44))\n",
      "    i_45 = b.shape[0]\n",
      "    for i_46 in range(i_45):\n",
      "        i_53 = 5\n",
      "        i_54 = a\n",
      "        i_51 = i_54[i_53]\n",
      "        i_55 = i_46\n",
      "        i_56 = b\n",
      "        i_52 = i_56[i_55]\n",
      "        i_47 = (i_51 * i_52)\n",
      "        i_43[i_46] = i_47\n",
      "    return i_43\n",
      "\n"
     ]
    }
   ],
   "source": [
    "print(some_fn_t.__optimize_steps__['ast_as_source'])"
   ]
  },
  {
   "cell_type": "code",
   "execution_count": 30,
   "metadata": {},
   "outputs": [
    {
     "data": {
      "text/plain": [
       "array([ 0.,  5., 10., 15., 20., 25., 30., 35., 40., 45.])"
      ]
     },
     "execution_count": 30,
     "metadata": {},
     "output_type": "execute_result"
    }
   ],
   "source": [
    "some_fn_t(np.arange(10), np.arange(10))"
   ]
  },
  {
   "cell_type": "code",
   "execution_count": 31,
   "metadata": {},
   "outputs": [
    {
     "name": "stdout",
     "output_type": "stream",
     "text": [
      "CPU times: user 240 µs, sys: 126 µs, total: 366 µs\n",
      "Wall time: 315 µs\n"
     ]
    },
    {
     "data": {
      "text/plain": [
       "array([ 0,  5, 10, 15, 20, 25, 30, 35, 40, 45])"
      ]
     },
     "execution_count": 31,
     "metadata": {},
     "output_type": "execute_result"
    }
   ],
   "source": [
    "%time some_fn(*args)"
   ]
  },
  {
   "cell_type": "code",
   "execution_count": 32,
   "metadata": {},
   "outputs": [
    {
     "name": "stdout",
     "output_type": "stream",
     "text": [
      "CPU times: user 25 µs, sys: 0 ns, total: 25 µs\n",
      "Wall time: 30 µs\n"
     ]
    },
    {
     "data": {
      "text/plain": [
       "array([ 0.,  5., 10., 15., 20., 25., 30., 35., 40., 45.])"
      ]
     },
     "execution_count": 32,
     "metadata": {},
     "output_type": "execute_result"
    }
   ],
   "source": [
    "%time some_fn_t(*args)"
   ]
  }
 ],
 "metadata": {
  "kernelspec": {
   "display_name": "Python 3",
   "language": "python",
   "name": "python3"
  },
  "language_info": {
   "codemirror_mode": {
    "name": "ipython",
    "version": 3
   },
   "file_extension": ".py",
   "mimetype": "text/x-python",
   "name": "python",
   "nbconvert_exporter": "python",
   "pygments_lexer": "ipython3",
   "version": "3.6.6"
  }
 },
 "nbformat": 4,
 "nbformat_minor": 2
}
