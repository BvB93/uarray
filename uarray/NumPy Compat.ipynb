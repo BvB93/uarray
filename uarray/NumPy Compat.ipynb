{
 "cells": [
  {
   "cell_type": "markdown",
   "metadata": {},
   "source": [
    "# Numpy Compat"
   ]
  },
  {
   "cell_type": "code",
   "execution_count": 1,
   "metadata": {},
   "outputs": [],
   "source": [
    "from uarray import *\n",
    "import numpy as np\n",
    "from numba import njit"
   ]
  },
  {
   "cell_type": "code",
   "execution_count": 2,
   "metadata": {},
   "outputs": [],
   "source": [
    "args = [np.arange(1000), np.arange(10)]"
   ]
  },
  {
   "cell_type": "code",
   "execution_count": 3,
   "metadata": {},
   "outputs": [],
   "source": [
    "@optimize\n",
    "def some_fn(a, b):\n",
    "    return np.multiply.outer(a, b)[5]"
   ]
  },
  {
   "cell_type": "code",
   "execution_count": 4,
   "metadata": {},
   "outputs": [
    {
     "data": {
      "text/plain": [
       "Index(Sequence(Value('1'), VectorCallable(Content(Scalar(Value('5'))))),\n",
       "      OuterProduct(Function(Content(Call(Ufunc(<ufunc 'multiply'>),\n",
       "                                         Scalar(Unbound('', variable_name=i0)),\n",
       "                                         Scalar(Unbound('', variable_name=i1)))),\n",
       "                            Unbound('', variable_name=i0),\n",
       "                            Unbound('', variable_name=i1)),\n",
       "                   NPArray(Expression(Name(id='a', ctx=Load()))),\n",
       "                   NPArray(Expression(Name(id='b', ctx=Load())))))"
      ]
     },
     "execution_count": 4,
     "metadata": {},
     "output_type": "execute_result"
    }
   ],
   "source": [
    "some_fn.__optimize_steps__['resulting_expr']"
   ]
  },
  {
   "cell_type": "code",
   "execution_count": 5,
   "metadata": {},
   "outputs": [
    {
     "name": "stdout",
     "output_type": "stream",
     "text": [
      "\n",
      "\n",
      "def fn(a, b):\n",
      "    i_1 = 5\n",
      "    i_3 = a\n",
      "    i_4 = b\n",
      "    i_2 = np.multiply.outer(i_3, i_4)\n",
      "    i_0 = i_2[i_1]\n",
      "    return i_0\n",
      "\n"
     ]
    }
   ],
   "source": [
    "print(some_fn.__optimize_steps__['ast_as_source'])"
   ]
  },
  {
   "cell_type": "code",
   "execution_count": 6,
   "metadata": {},
   "outputs": [
    {
     "data": {
      "text/plain": [
       "array([ 0,  5, 10, 15, 20, 25, 30, 35, 40, 45])"
      ]
     },
     "execution_count": 6,
     "metadata": {},
     "output_type": "execute_result"
    }
   ],
   "source": [
    "some_fn(*args)"
   ]
  },
  {
   "cell_type": "code",
   "execution_count": 7,
   "metadata": {},
   "outputs": [],
   "source": [
    "@optimize\n",
    "def some_fn_t(a, b):\n",
    "    a = a.has_dim(1)\n",
    "    b = b.has_dim(1)\n",
    "    return np.multiply.outer(a, b)[5]"
   ]
  },
  {
   "cell_type": "code",
   "execution_count": 8,
   "metadata": {},
   "outputs": [
    {
     "data": {
      "text/plain": [
       "Index(Sequence(Value('1'), VectorCallable(Content(Scalar(Value('5'))))),\n",
       "      OuterProduct(Function(Content(Call(Ufunc(<ufunc 'multiply'>),\n",
       "                                         Scalar(Unbound('', variable_name=i2)),\n",
       "                                         Scalar(Unbound('', variable_name=i3)))),\n",
       "                            Unbound('', variable_name=i2),\n",
       "                            Unbound('', variable_name=i3)),\n",
       "                   ToSequenceWithDim(NPArray(Expression(Name(id='a', ctx=Load()))),\n",
       "                                     Value('1')),\n",
       "                   ToSequenceWithDim(NPArray(Expression(Name(id='b', ctx=Load()))),\n",
       "                                     Value('1'))))"
      ]
     },
     "execution_count": 8,
     "metadata": {},
     "output_type": "execute_result"
    }
   ],
   "source": [
    "some_fn_t.__optimize_steps__['resulting_expr']"
   ]
  },
  {
   "cell_type": "code",
   "execution_count": 9,
   "metadata": {},
   "outputs": [
    {
     "name": "stdout",
     "output_type": "stream",
     "text": [
      "\n",
      "\n",
      "def fn(a, b):\n",
      "    i_10 = ()\n",
      "    i_11 = b.shape[0]\n",
      "    i_6 = ((i_11,) + i_10)\n",
      "    i_5 = np.empty(i_6)\n",
      "    i_7 = b.shape[0]\n",
      "    for i_8 in range(i_7):\n",
      "        i_14 = 5\n",
      "        i_15 = a\n",
      "        i_12 = i_15[i_14]\n",
      "        i_16 = i_8\n",
      "        i_17 = b\n",
      "        i_13 = i_17[i_16]\n",
      "        i_9 = (i_12 * i_13)\n",
      "        i_5[i_8] = i_9\n",
      "    return i_5\n",
      "\n"
     ]
    }
   ],
   "source": [
    "print(some_fn_t.__optimize_steps__['ast_as_source'])"
   ]
  },
  {
   "cell_type": "code",
   "execution_count": 10,
   "metadata": {},
   "outputs": [
    {
     "data": {
      "text/plain": [
       "array([ 0.,  5., 10., 15., 20., 25., 30., 35., 40., 45.])"
      ]
     },
     "execution_count": 10,
     "metadata": {},
     "output_type": "execute_result"
    }
   ],
   "source": [
    "some_fn_t(np.arange(10), np.arange(10))"
   ]
  },
  {
   "cell_type": "code",
   "execution_count": 11,
   "metadata": {},
   "outputs": [
    {
     "name": "stdout",
     "output_type": "stream",
     "text": [
      "CPU times: user 185 µs, sys: 65 µs, total: 250 µs\n",
      "Wall time: 206 µs\n"
     ]
    },
    {
     "data": {
      "text/plain": [
       "array([ 0,  5, 10, 15, 20, 25, 30, 35, 40, 45])"
      ]
     },
     "execution_count": 11,
     "metadata": {},
     "output_type": "execute_result"
    }
   ],
   "source": [
    "%time some_fn(*args)"
   ]
  },
  {
   "cell_type": "code",
   "execution_count": 12,
   "metadata": {},
   "outputs": [
    {
     "name": "stdout",
     "output_type": "stream",
     "text": [
      "CPU times: user 24 µs, sys: 0 ns, total: 24 µs\n",
      "Wall time: 29.3 µs\n"
     ]
    },
    {
     "data": {
      "text/plain": [
       "array([ 0.,  5., 10., 15., 20., 25., 30., 35., 40., 45.])"
      ]
     },
     "execution_count": 12,
     "metadata": {},
     "output_type": "execute_result"
    }
   ],
   "source": [
    "%time some_fn_t(*args)"
   ]
  },
  {
   "cell_type": "code",
   "execution_count": 13,
   "metadata": {},
   "outputs": [],
   "source": [
    "numba_optimized = njit(some_fn_t)"
   ]
  },
  {
   "cell_type": "code",
   "execution_count": 14,
   "metadata": {},
   "outputs": [
    {
     "data": {
      "text/plain": [
       "array([ 0.,  5., 10., 15., 20., 25., 30., 35., 40., 45.])"
      ]
     },
     "execution_count": 14,
     "metadata": {},
     "output_type": "execute_result"
    }
   ],
   "source": [
    "numba_optimized(*args)"
   ]
  },
  {
   "cell_type": "code",
   "execution_count": 15,
   "metadata": {},
   "outputs": [
    {
     "name": "stdout",
     "output_type": "stream",
     "text": [
      "CPU times: user 13 µs, sys: 1e+03 ns, total: 14 µs\n",
      "Wall time: 17.2 µs\n"
     ]
    },
    {
     "data": {
      "text/plain": [
       "array([ 0.,  5., 10., 15., 20., 25., 30., 35., 40., 45.])"
      ]
     },
     "execution_count": 15,
     "metadata": {},
     "output_type": "execute_result"
    }
   ],
   "source": [
    "%time numba_optimized(*args)"
   ]
  },
  {
   "cell_type": "code",
   "execution_count": 16,
   "metadata": {},
   "outputs": [
    {
     "data": {
      "text/plain": [
       "'Module(body=[Expr(value=BinOp(left=Tuple(elts=[Num(n=1)], ctx=Load()), op=Add(), right=Tuple(elts=[], ctx=Load())))])'"
      ]
     },
     "execution_count": 16,
     "metadata": {},
     "output_type": "execute_result"
    }
   ],
   "source": [
    "# ast.dump(ast.parse(\"(1,) + ()\"))"
   ]
  }
 ],
 "metadata": {
  "kernelspec": {
   "display_name": "Python 3",
   "language": "python",
   "name": "python3"
  },
  "language_info": {
   "codemirror_mode": {
    "name": "ipython",
    "version": 3
   },
   "file_extension": ".py",
   "mimetype": "text/x-python",
   "name": "python",
   "nbconvert_exporter": "python",
   "pygments_lexer": "ipython3",
   "version": "3.6.6"
  }
 },
 "nbformat": 4,
 "nbformat_minor": 2
}
