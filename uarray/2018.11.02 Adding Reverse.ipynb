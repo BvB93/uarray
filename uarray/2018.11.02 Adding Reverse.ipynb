{
 "cells": [
  {
   "cell_type": "code",
   "execution_count": 1,
   "metadata": {},
   "outputs": [],
   "source": [
    "from uarray import *\n",
    "import matchpy"
   ]
  },
  {
   "cell_type": "code",
   "execution_count": 2,
   "metadata": {},
   "outputs": [],
   "source": [
    "class Reverse(matchpy.Operation):\n",
    "    \"\"\"\n",
    "    Reverse(array)\n",
    "    \"\"\"\n",
    "    name = \"Reverse\"\n",
    "    arity = matchpy.Arity(1, False)"
   ]
  },
  {
   "cell_type": "code",
   "execution_count": 3,
   "metadata": {},
   "outputs": [],
   "source": [
    "def _reverse_sequence(length, getitem):\n",
    "    def new_getitem(idx):\n",
    "        return Call(getitem, Add(Multiply(idx, Value(-1)), Add(length, Value(-1))))\n",
    "    \n",
    "    return Sequence(\n",
    "        length,\n",
    "        function(1, new_getitem)\n",
    "    )\n",
    "\n",
    "register(Reverse(Sequence(w.length, w.getitem)), _reverse_sequence)"
   ]
  },
  {
   "cell_type": "code",
   "execution_count": 4,
   "metadata": {},
   "outputs": [],
   "source": [
    "@optimize\n",
    "def try_reversing(a):\n",
    "    a = a.has_dim(1)\n",
    "    return Reverse(a.expr)"
   ]
  },
  {
   "cell_type": "code",
   "execution_count": 5,
   "metadata": {},
   "outputs": [
    {
     "name": "stdout",
     "output_type": "stream",
     "text": [
      "\n",
      "\n",
      "def fn(a):\n",
      "    i_5 = ()\n",
      "    i_6 = a.shape[0]\n",
      "    i_1 = ((i_6,) + i_5)\n",
      "    i_0 = np.empty(i_1)\n",
      "    i_2 = a.shape[0]\n",
      "    for i_3 in range(i_2):\n",
      "        i_4 = i_0[i_3]\n",
      "        i_11 = i_3\n",
      "        i_12 = -1\n",
      "        i_9 = (i_11 * i_12)\n",
      "        i_13 = a.shape[0]\n",
      "        i_14 = -1\n",
      "        i_10 = (i_13 + i_14)\n",
      "        i_7 = (i_9 + i_10)\n",
      "        i_8 = a\n",
      "        i_4 = i_8[i_7]\n",
      "        i_0[i_3] = i_4\n",
      "    return i_0\n",
      "\n"
     ]
    }
   ],
   "source": [
    "print(try_reversing.__optimize_steps__[\"ast_as_source\"])"
   ]
  },
  {
   "cell_type": "code",
   "execution_count": 6,
   "metadata": {},
   "outputs": [
    {
     "data": {
      "text/plain": [
       "array([9., 8., 7., 6., 5., 4., 3., 2., 1., 0.])"
      ]
     },
     "execution_count": 6,
     "metadata": {},
     "output_type": "execute_result"
    }
   ],
   "source": [
    "try_reversing(np.arange(10, dtype=\"float64\"))"
   ]
  }
 ],
 "metadata": {
  "kernelspec": {
   "display_name": "Python 3",
   "language": "python",
   "name": "python3"
  },
  "language_info": {
   "codemirror_mode": {
    "name": "ipython",
    "version": 3
   },
   "file_extension": ".py",
   "mimetype": "text/x-python",
   "name": "python",
   "nbconvert_exporter": "python",
   "pygments_lexer": "ipython3",
   "version": "3.6.6"
  }
 },
 "nbformat": 4,
 "nbformat_minor": 2
}
